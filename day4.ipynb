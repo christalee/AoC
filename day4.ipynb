{
 "cells": [
  {
   "cell_type": "code",
   "execution_count": 7,
   "metadata": {},
   "outputs": [],
   "source": [
    "from datetime import datetime, timedelta\n",
    "\n",
    "import numpy as np\n",
    "import pandas as pd\n",
    "\n",
    "def input(filename):\n",
    "    with open(filename, 'r') as input:\n",
    "        data = [x.strip() for x in input]\n",
    "\n",
    "    return data\n",
    "\n",
    "records = input('day4.txt')\n",
    "records.sort()\n",
    "history = pd.DataFrame(columns=['day', 'guard'])\n",
    "minutes = pd.DataFrame(np.zeros((1, 60), dtype=int), columns=np.arange(60))"
   ]
  },
  {
   "cell_type": "code",
   "execution_count": 8,
   "metadata": {},
   "outputs": [],
   "source": [
    "records = [\n",
    "        '[1518-11-01 00:00] Guard #10 begins shift',\n",
    "        '[1518-11-01 00:05] falls asleep',\n",
    "        '[1518-11-01 00:25] wakes up',\n",
    "        '[1518-11-01 00:30] falls asleep',\n",
    "        '[1518-11-01 00:55] wakes up',\n",
    "        '[1518-11-01 23:58] Guard #99 begins shift',\n",
    "        '[1518-11-02 00:40] falls asleep',\n",
    "        '[1518-11-02 00:50] wakes up',\n",
    "        '[1518-11-03 00:05] Guard #10 begins shift',\n",
    "        '[1518-11-03 00:24] falls asleep',\n",
    "        '[1518-11-03 00:29] wakes up',\n",
    "        '[1518-11-04 00:02] Guard #99 begins shift',\n",
    "        '[1518-11-04 00:36] falls asleep',\n",
    "        '[1518-11-04 00:46] wakes up',\n",
    "        '[1518-11-05 00:03] Guard #99 begins shift',\n",
    "        '[1518-11-05 00:45] falls asleep',\n",
    "        '[1518-11-05 00:55] wakes up'\n",
    "    ]"
   ]
  },
  {
   "cell_type": "code",
   "execution_count": 9,
   "metadata": {},
   "outputs": [],
   "source": [
    "for r in records:\n",
    "        s = r.split()\n",
    "        ts = datetime.strptime(' '.join([s[0], s[1]]).strip('[]'), '%Y-%m-%d %H:%M') + timedelta(days=36500 * 5)\n",
    "        day = pd.Timestamp(ts).round('D').date()\n",
    "        if 'Guard' in r:\n",
    "            result = pd.concat([pd.DataFrame([{'day': day, 'ts': ts, 'guard': s[3]}]), minutes], axis=1)\n",
    "            history = pd.concat([history, result], sort=True)\n",
    "        if 'falls asleep' in r:\n",
    "            history.loc[history['day'] == day, list(range(ts.minute, 60))] = 1\n",
    "        if 'wakes up' in r:\n",
    "            history.loc[history['day'] == day, list(range(ts.minute, 60))] = 0"
   ]
  },
  {
   "cell_type": "code",
   "execution_count": 10,
   "metadata": {},
   "outputs": [],
   "source": [
    "history['total'] = history[np.arange(60)].sum(axis=1)"
   ]
  },
  {
   "cell_type": "code",
   "execution_count": 11,
   "metadata": {},
   "outputs": [],
   "source": [
    "summary = history[['day', 'guard', 'total']]\n",
    "by_guards = history[['guard', 'total']].groupby('guard').sum()\n",
    "g = by_guards.idxmax()[0]"
   ]
  },
  {
   "cell_type": "code",
   "execution_count": 12,
   "metadata": {},
   "outputs": [
    {
     "data": {
      "text/html": [
       "<div>\n",
       "<style scoped>\n",
       "    .dataframe tbody tr th:only-of-type {\n",
       "        vertical-align: middle;\n",
       "    }\n",
       "\n",
       "    .dataframe tbody tr th {\n",
       "        vertical-align: top;\n",
       "    }\n",
       "\n",
       "    .dataframe thead th {\n",
       "        text-align: right;\n",
       "    }\n",
       "</style>\n",
       "<table border=\"1\" class=\"dataframe\">\n",
       "  <thead>\n",
       "    <tr style=\"text-align: right;\">\n",
       "      <th></th>\n",
       "      <th>day</th>\n",
       "      <th>guard</th>\n",
       "      <th>total</th>\n",
       "    </tr>\n",
       "  </thead>\n",
       "  <tbody>\n",
       "    <tr>\n",
       "      <th>0</th>\n",
       "      <td>2018-07-02</td>\n",
       "      <td>#10</td>\n",
       "      <td>45.0</td>\n",
       "    </tr>\n",
       "    <tr>\n",
       "      <th>0</th>\n",
       "      <td>2018-07-03</td>\n",
       "      <td>#99</td>\n",
       "      <td>10.0</td>\n",
       "    </tr>\n",
       "    <tr>\n",
       "      <th>0</th>\n",
       "      <td>2018-07-04</td>\n",
       "      <td>#10</td>\n",
       "      <td>5.0</td>\n",
       "    </tr>\n",
       "    <tr>\n",
       "      <th>0</th>\n",
       "      <td>2018-07-05</td>\n",
       "      <td>#99</td>\n",
       "      <td>10.0</td>\n",
       "    </tr>\n",
       "    <tr>\n",
       "      <th>0</th>\n",
       "      <td>2018-07-06</td>\n",
       "      <td>#99</td>\n",
       "      <td>10.0</td>\n",
       "    </tr>\n",
       "  </tbody>\n",
       "</table>\n",
       "</div>"
      ],
      "text/plain": [
       "          day guard  total\n",
       "0  2018-07-02   #10   45.0\n",
       "0  2018-07-03   #99   10.0\n",
       "0  2018-07-04   #10    5.0\n",
       "0  2018-07-05   #99   10.0\n",
       "0  2018-07-06   #99   10.0"
      ]
     },
     "execution_count": 12,
     "metadata": {},
     "output_type": "execute_result"
    }
   ],
   "source": [
    "summary"
   ]
  },
  {
   "cell_type": "code",
   "execution_count": 13,
   "metadata": {},
   "outputs": [],
   "source": [
    "guard_minutes = history.loc[history['guard'] == g, np.arange(60)].sum()\n",
    "m = guard_minutes.idxmax()"
   ]
  },
  {
   "cell_type": "code",
   "execution_count": 14,
   "metadata": {},
   "outputs": [
    {
     "name": "stdout",
     "output_type": "stream",
     "text": [
      "Part 1\n",
      "guard: #10, minute: 24\n"
     ]
    }
   ],
   "source": [
    "print('Part 1\\nguard: ' + g + ', minute: ' + str(m))"
   ]
  },
  {
   "cell_type": "code",
   "execution_count": 15,
   "metadata": {},
   "outputs": [],
   "source": [
    "by_minutes = history[['guard', *np.arange(60)]].groupby('guard').sum()\n",
    "top_minute = by_minutes.max().idxmax()\n",
    "top_guard = by_minutes[[top_minute]].idxmax().item()"
   ]
  },
  {
   "cell_type": "code",
   "execution_count": 16,
   "metadata": {},
   "outputs": [
    {
     "name": "stdout",
     "output_type": "stream",
     "text": [
      "Part 2\n",
      "guard: #99, minute: 45\n"
     ]
    }
   ],
   "source": [
    "print('Part 2\\nguard: ' + top_guard + ', minute: ' + str(top_minute))"
   ]
  },
  {
   "cell_type": "code",
   "execution_count": null,
   "metadata": {},
   "outputs": [],
   "source": []
  }
 ],
 "metadata": {
  "kernelspec": {
   "display_name": "Python 3",
   "language": "python",
   "name": "python3"
  },
  "language_info": {
   "codemirror_mode": {
    "name": "ipython",
    "version": 3
   },
   "file_extension": ".py",
   "mimetype": "text/x-python",
   "name": "python",
   "nbconvert_exporter": "python",
   "pygments_lexer": "ipython3",
   "version": "3.6.8"
  }
 },
 "nbformat": 4,
 "nbformat_minor": 2
}
