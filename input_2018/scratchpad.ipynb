{
 "cells": [
  {
   "cell_type": "code",
   "execution_count": 17,
   "metadata": {},
   "outputs": [],
   "source": [
    "def input(filename):\n",
    "    with open(filename, 'r') as input:\n",
    "        data = [x.strip() for x in input]\n",
    "\n",
    "    return data"
   ]
  },
  {
   "cell_type": "code",
   "execution_count": 1,
   "metadata": {},
   "outputs": [],
   "source": [
    "import string"
   ]
  },
  {
   "cell_type": "code",
   "execution_count": 18,
   "metadata": {},
   "outputs": [],
   "source": [
    "# boxes = [\"abcdef\", \"bababc\", \"abbcde\", \"abcccd\", \"aabcdd\", \"abcdee\", \"ababab\"]\n",
    "# boxes = [\"abcde\", \"fghij\", \"klmno\", \"pqrst\", \"fguij\", \"axcye\", \"wvxyz\"]\n",
    "boxes = input('day2.txt')"
   ]
  },
  {
   "cell_type": "code",
   "execution_count": 3,
   "metadata": {},
   "outputs": [],
   "source": [
    "triples = []\n",
    "doubles = []"
   ]
  },
  {
   "cell_type": "code",
   "execution_count": 4,
   "metadata": {},
   "outputs": [],
   "source": [
    "for b in boxes:\n",
    "    for l in string.ascii_lowercase:\n",
    "        if b.count(l) == 3:\n",
    "            triples.append(b)\n",
    "        if b.count(l) == 2:\n",
    "            doubles.append(b)"
   ]
  },
  {
   "cell_type": "code",
   "execution_count": 19,
   "metadata": {},
   "outputs": [
    {
     "name": "stdout",
     "output_type": "stream",
     "text": [
      "prtkqyluiusocwvaezjmhmfgx\n",
      "prtkqyluiusocwvaezjmhmfgx\n"
     ]
    }
   ],
   "source": [
    "for b in boxes:\n",
    "    for c in boxes:\n",
    "        m = 0\n",
    "        for i, j in enumerate(b):\n",
    "            if j != c[i]:\n",
    "                m += 1\n",
    "                x = b.replace(j, '')\n",
    "        \n",
    "        if m == 1:\n",
    "            print(x)"
   ]
  },
  {
   "cell_type": "code",
   "execution_count": null,
   "metadata": {},
   "outputs": [],
   "source": [
    "len(set(triples)) * len(set(doubles))"
   ]
  },
  {
   "cell_type": "code",
   "execution_count": null,
   "metadata": {},
   "outputs": [],
   "source": [
    "triples"
   ]
  },
  {
   "cell_type": "code",
   "execution_count": null,
   "metadata": {},
   "outputs": [],
   "source": [
    "boxes[1].count()"
   ]
  }
 ],
 "metadata": {
  "kernelspec": {
   "display_name": "Python 3",
   "language": "python",
   "name": "python3"
  },
  "language_info": {
   "codemirror_mode": {
    "name": "ipython",
    "version": 3
   },
   "file_extension": ".py",
   "mimetype": "text/x-python",
   "name": "python",
   "nbconvert_exporter": "python",
   "pygments_lexer": "ipython3",
   "version": "3.6.9"
  }
 },
 "nbformat": 4,
 "nbformat_minor": 2
}
