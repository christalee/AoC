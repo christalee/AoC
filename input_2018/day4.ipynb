{
 "cells": [
  {
   "cell_type": "code",
   "execution_count": 199,
   "metadata": {},
   "outputs": [],
   "source": [
    "from datetime import datetime, timedelta\n",
    "\n",
    "import numpy as np\n",
    "import pandas as pd\n",
    "\n",
    "def input(filename):\n",
    "    with open(filename, 'r') as input:\n",
    "        data = [x.strip() for x in input]\n",
    "\n",
    "    return data\n",
    "\n",
    "records = input('day4.txt')\n",
    "records.sort()\n",
    "\n",
    "minutes = pd.DataFrame(np.zeros((1, 60), dtype=int), columns=np.arange(60))\n",
    "history = pd.DataFrame()"
   ]
  },
  {
   "cell_type": "code",
   "execution_count": 154,
   "metadata": {},
   "outputs": [],
   "source": [
    "records = [\n",
    "        '[1518-11-01 00:00] Guard #10 begins shift',\n",
    "        '[1518-11-01 00:05] falls asleep',\n",
    "        '[1518-11-01 00:25] wakes up',\n",
    "        '[1518-11-01 00:30] falls asleep',\n",
    "        '[1518-11-01 00:55] wakes up',\n",
    "        '[1518-11-01 23:58] Guard #99 begins shift',\n",
    "        '[1518-11-02 00:40] falls asleep',\n",
    "        '[1518-11-02 00:50] wakes up',\n",
    "        '[1518-11-03 00:05] Guard #10 begins shift',\n",
    "        '[1518-11-03 00:24] falls asleep',\n",
    "        '[1518-11-03 00:29] wakes up',\n",
    "        '[1518-11-04 00:02] Guard #99 begins shift',\n",
    "        '[1518-11-04 00:36] falls asleep',\n",
    "        '[1518-11-04 00:46] wakes up',\n",
    "        '[1518-11-05 00:03] Guard #99 begins shift',\n",
    "        '[1518-11-05 00:45] falls asleep',\n",
    "        '[1518-11-05 00:55] wakes up'\n",
    "    ]"
   ]
  },
  {
   "cell_type": "code",
   "execution_count": 200,
   "metadata": {},
   "outputs": [],
   "source": [
    "for r in records:\n",
    "    s = r.split()\n",
    "    ts = datetime.strptime(' '.join([s[0], s[1]]).strip('[]'), '%Y-%m-%d %H:%M') + timedelta(days=36500 * 5)\n",
    "    day = pd.Timestamp(ts).round('D').date()\n",
    "    if 'Guard' in r:\n",
    "        result = pd.concat([pd.DataFrame([{'day': day, 'ts': ts, 'guard': s[3]}]), minutes], axis=1)\n",
    "        history = pd.concat([history, result], sort=True)\n",
    "    if 'falls asleep' in r:\n",
    "        history.loc[history['day'] == day, list(range(ts.minute, 60))] = 1\n",
    "    if 'wakes up' in r:\n",
    "        history.loc[history['day'] == day, list(range(ts.minute, 60))] = 0"
   ]
  },
  {
   "cell_type": "code",
   "execution_count": 201,
   "metadata": {},
   "outputs": [],
   "source": [
    "# history = history.set_index('day')\n",
    "history['total'] = history[np.arange(60)].sum(axis=1).astype('uint8')"
   ]
  },
  {
   "cell_type": "code",
   "execution_count": 202,
   "metadata": {},
   "outputs": [
    {
     "data": {
      "text/html": [
       "<div>\n",
       "<style scoped>\n",
       "    .dataframe tbody tr th:only-of-type {\n",
       "        vertical-align: middle;\n",
       "    }\n",
       "\n",
       "    .dataframe tbody tr th {\n",
       "        vertical-align: top;\n",
       "    }\n",
       "\n",
       "    .dataframe thead th {\n",
       "        text-align: right;\n",
       "    }\n",
       "</style>\n",
       "<table border=\"1\" class=\"dataframe\">\n",
       "  <thead>\n",
       "    <tr style=\"text-align: right;\">\n",
       "      <th></th>\n",
       "      <th>day</th>\n",
       "      <th>ts</th>\n",
       "      <th>guard</th>\n",
       "      <th>0</th>\n",
       "      <th>1</th>\n",
       "      <th>2</th>\n",
       "      <th>3</th>\n",
       "      <th>4</th>\n",
       "      <th>5</th>\n",
       "      <th>6</th>\n",
       "      <th>...</th>\n",
       "      <th>51</th>\n",
       "      <th>52</th>\n",
       "      <th>53</th>\n",
       "      <th>54</th>\n",
       "      <th>55</th>\n",
       "      <th>56</th>\n",
       "      <th>57</th>\n",
       "      <th>58</th>\n",
       "      <th>59</th>\n",
       "      <th>total</th>\n",
       "    </tr>\n",
       "  </thead>\n",
       "  <tbody>\n",
       "    <tr>\n",
       "      <td>0</td>\n",
       "      <td>2017-09-13</td>\n",
       "      <td>2017-09-12 23:57:00</td>\n",
       "      <td>#3209</td>\n",
       "      <td>0</td>\n",
       "      <td>0</td>\n",
       "      <td>0</td>\n",
       "      <td>0</td>\n",
       "      <td>0</td>\n",
       "      <td>0</td>\n",
       "      <td>0</td>\n",
       "      <td>...</td>\n",
       "      <td>0</td>\n",
       "      <td>0</td>\n",
       "      <td>0</td>\n",
       "      <td>0</td>\n",
       "      <td>0</td>\n",
       "      <td>0</td>\n",
       "      <td>0</td>\n",
       "      <td>0</td>\n",
       "      <td>0</td>\n",
       "      <td>8</td>\n",
       "    </tr>\n",
       "    <tr>\n",
       "      <td>0</td>\n",
       "      <td>2017-09-14</td>\n",
       "      <td>2017-09-13 23:56:00</td>\n",
       "      <td>#751</td>\n",
       "      <td>0</td>\n",
       "      <td>0</td>\n",
       "      <td>0</td>\n",
       "      <td>0</td>\n",
       "      <td>0</td>\n",
       "      <td>0</td>\n",
       "      <td>0</td>\n",
       "      <td>...</td>\n",
       "      <td>0</td>\n",
       "      <td>0</td>\n",
       "      <td>0</td>\n",
       "      <td>1</td>\n",
       "      <td>1</td>\n",
       "      <td>1</td>\n",
       "      <td>0</td>\n",
       "      <td>0</td>\n",
       "      <td>0</td>\n",
       "      <td>3</td>\n",
       "    </tr>\n",
       "    <tr>\n",
       "      <td>0</td>\n",
       "      <td>2017-09-15</td>\n",
       "      <td>2017-09-14 23:57:00</td>\n",
       "      <td>#2857</td>\n",
       "      <td>0</td>\n",
       "      <td>0</td>\n",
       "      <td>0</td>\n",
       "      <td>0</td>\n",
       "      <td>0</td>\n",
       "      <td>0</td>\n",
       "      <td>0</td>\n",
       "      <td>...</td>\n",
       "      <td>0</td>\n",
       "      <td>0</td>\n",
       "      <td>0</td>\n",
       "      <td>0</td>\n",
       "      <td>0</td>\n",
       "      <td>0</td>\n",
       "      <td>0</td>\n",
       "      <td>0</td>\n",
       "      <td>0</td>\n",
       "      <td>23</td>\n",
       "    </tr>\n",
       "    <tr>\n",
       "      <td>0</td>\n",
       "      <td>2017-09-16</td>\n",
       "      <td>2017-09-16 00:04:00</td>\n",
       "      <td>#2339</td>\n",
       "      <td>0</td>\n",
       "      <td>0</td>\n",
       "      <td>0</td>\n",
       "      <td>0</td>\n",
       "      <td>0</td>\n",
       "      <td>0</td>\n",
       "      <td>0</td>\n",
       "      <td>...</td>\n",
       "      <td>1</td>\n",
       "      <td>1</td>\n",
       "      <td>1</td>\n",
       "      <td>1</td>\n",
       "      <td>0</td>\n",
       "      <td>0</td>\n",
       "      <td>0</td>\n",
       "      <td>0</td>\n",
       "      <td>0</td>\n",
       "      <td>18</td>\n",
       "    </tr>\n",
       "    <tr>\n",
       "      <td>0</td>\n",
       "      <td>2017-09-17</td>\n",
       "      <td>2017-09-17 00:03:00</td>\n",
       "      <td>#523</td>\n",
       "      <td>0</td>\n",
       "      <td>0</td>\n",
       "      <td>0</td>\n",
       "      <td>0</td>\n",
       "      <td>0</td>\n",
       "      <td>0</td>\n",
       "      <td>0</td>\n",
       "      <td>...</td>\n",
       "      <td>0</td>\n",
       "      <td>0</td>\n",
       "      <td>0</td>\n",
       "      <td>0</td>\n",
       "      <td>0</td>\n",
       "      <td>0</td>\n",
       "      <td>0</td>\n",
       "      <td>0</td>\n",
       "      <td>0</td>\n",
       "      <td>31</td>\n",
       "    </tr>\n",
       "  </tbody>\n",
       "</table>\n",
       "<p>5 rows × 64 columns</p>\n",
       "</div>"
      ],
      "text/plain": [
       "          day                  ts  guard  0  1  2  3  4  5  6  ...  51  52  \\\n",
       "0  2017-09-13 2017-09-12 23:57:00  #3209  0  0  0  0  0  0  0  ...   0   0   \n",
       "0  2017-09-14 2017-09-13 23:56:00   #751  0  0  0  0  0  0  0  ...   0   0   \n",
       "0  2017-09-15 2017-09-14 23:57:00  #2857  0  0  0  0  0  0  0  ...   0   0   \n",
       "0  2017-09-16 2017-09-16 00:04:00  #2339  0  0  0  0  0  0  0  ...   1   1   \n",
       "0  2017-09-17 2017-09-17 00:03:00   #523  0  0  0  0  0  0  0  ...   0   0   \n",
       "\n",
       "   53  54  55  56  57  58  59  total  \n",
       "0   0   0   0   0   0   0   0      8  \n",
       "0   0   1   1   1   0   0   0      3  \n",
       "0   0   0   0   0   0   0   0     23  \n",
       "0   1   1   0   0   0   0   0     18  \n",
       "0   0   0   0   0   0   0   0     31  \n",
       "\n",
       "[5 rows x 64 columns]"
      ]
     },
     "execution_count": 202,
     "metadata": {},
     "output_type": "execute_result"
    }
   ],
   "source": [
    "history.head()"
   ]
  },
  {
   "cell_type": "code",
   "execution_count": 204,
   "metadata": {},
   "outputs": [],
   "source": [
    "summary = history[['day', 'guard', 'total']]\n",
    "by_guards = history[['guard', 'total']].groupby('guard').sum()\n",
    "g = by_guards.idxmax()[0]"
   ]
  },
  {
   "cell_type": "code",
   "execution_count": 187,
   "metadata": {},
   "outputs": [
    {
     "data": {
      "text/plain": [
       "46"
      ]
     },
     "execution_count": 187,
     "metadata": {},
     "output_type": "execute_result"
    }
   ],
   "source": [
    "m"
   ]
  },
  {
   "cell_type": "code",
   "execution_count": 205,
   "metadata": {},
   "outputs": [],
   "source": [
    "guard_minutes = history.loc[history['guard'] == g, np.arange(60)].sum()\n",
    "m = guard_minutes.idxmax()"
   ]
  },
  {
   "cell_type": "code",
   "execution_count": 188,
   "metadata": {},
   "outputs": [
    {
     "name": "stdout",
     "output_type": "stream",
     "text": [
      "Part 1\n",
      "guard: #863, minute: 46\n"
     ]
    }
   ],
   "source": [
    "print('Part 1\\nguard: ' + g + ', minute: ' + str(m))"
   ]
  },
  {
   "cell_type": "code",
   "execution_count": 206,
   "metadata": {},
   "outputs": [
    {
     "name": "stderr",
     "output_type": "stream",
     "text": [
      "/Users/christalee/Library/Python/3.6/lib/python/site-packages/ipykernel_launcher.py:3: FutureWarning: `item` has been deprecated and will be removed in a future version\n",
      "  This is separate from the ipykernel package so we can avoid doing imports until\n"
     ]
    }
   ],
   "source": [
    "by_minutes = history[['guard', *np.arange(60)]].groupby('guard').sum()\n",
    "top_minute = by_minutes.max().idxmax()\n",
    "top_guard = by_minutes[[top_minute]].idxmax().item()"
   ]
  },
  {
   "cell_type": "code",
   "execution_count": 190,
   "metadata": {},
   "outputs": [
    {
     "name": "stdout",
     "output_type": "stream",
     "text": [
      "Part 2\n",
      "guard: #373, minute: 40\n"
     ]
    }
   ],
   "source": [
    "print('Part 2\\nguard: ' + top_guard + ', minute: ' + str(top_minute))"
   ]
  },
  {
   "cell_type": "code",
   "execution_count": 219,
   "metadata": {},
   "outputs": [],
   "source": [
    "by_minutes[[40]].idxmax()"
   ]
  },
  {
   "cell_type": "code",
   "execution_count": null,
   "metadata": {},
   "outputs": [],
   "source": []
  }
 ],
 "metadata": {
  "kernelspec": {
   "display_name": "Python 3",
   "language": "python",
   "name": "python3"
  },
  "language_info": {
   "codemirror_mode": {
    "name": "ipython",
    "version": 3
   },
   "file_extension": ".py",
   "mimetype": "text/x-python",
   "name": "python",
   "nbconvert_exporter": "python",
   "pygments_lexer": "ipython3",
   "version": "3.6.9"
  }
 },
 "nbformat": 4,
 "nbformat_minor": 2
}
