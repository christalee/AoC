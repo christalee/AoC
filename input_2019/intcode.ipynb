{
 "cells": [
  {
   "cell_type": "code",
   "execution_count": 1,
   "metadata": {},
   "outputs": [],
   "source": [
    "def input(filename: str):\n",
    "    with open(filename, 'r') as input:\n",
    "        data = [x.strip() for x in input]\n",
    "\n",
    "    return data"
   ]
  },
  {
   "cell_type": "code",
   "execution_count": 112,
   "metadata": {},
   "outputs": [],
   "source": [
    "def getints(ops, params, modes):\n",
    "    results = []\n",
    "    for p, m in zip(params, modes):\n",
    "        if m == \"0\":\n",
    "            results.append(ops[p])\n",
    "        if m == \"1\":\n",
    "            results.append(p)\n",
    "    return results"
   ]
  },
  {
   "cell_type": "code",
   "execution_count": 136,
   "metadata": {},
   "outputs": [],
   "source": [
    "def day5(opcodes, sysid):\n",
    "    ops = list(map(int, opcodes.split(',')))\n",
    "    i = 0\n",
    "    result = 0\n",
    "\n",
    "    while True:\n",
    "        o = str(ops[i])\n",
    "#         print(i, o)\n",
    "        if o[-2:] == \"99\":\n",
    "            break       \n",
    "        if o[-1] == \"3\":\n",
    "            ops[ops[i+1]] = sysid\n",
    "            i += 2\n",
    "        if o[-1] == \"4\":\n",
    "            if o[0] == \"1\":\n",
    "                result = ops[i+1]\n",
    "            else:\n",
    "                result = ops[ops[i+1]]\n",
    "            i += 2\n",
    "            \n",
    "        if o[-1] in '125678':\n",
    "            while len(o) < 5:\n",
    "                o = '0' + o\n",
    "            a, b = getints(ops, [ops[i+1], ops[i+2]], [o[2], o[1]])\n",
    "            c = ops[i+3]\n",
    "#             print(a, b, c)\n",
    "\n",
    "            if o[-1] == \"1\":\n",
    "                ops[c] = a + b\n",
    "                i += 4\n",
    "            if o[-1] == \"2\":\n",
    "                ops[c] = a * b\n",
    "                i += 4\n",
    "            \n",
    "            if o[-1] == \"5\":\n",
    "                if a != 0:\n",
    "                    i = b\n",
    "                else:\n",
    "                    i += 3\n",
    "            if o[-1] == \"6\":\n",
    "                if a == 0:\n",
    "                    i = b\n",
    "                else:\n",
    "                    i += 3\n",
    "            \n",
    "            if o[-1] == \"7\":\n",
    "                if a < b:\n",
    "                    ops[c] = 1\n",
    "                else:\n",
    "                    ops[c] = 0\n",
    "                i += 4\n",
    "            if o[-1] == \"8\":\n",
    "                if a == b:\n",
    "                    ops[c] = 1\n",
    "                else:\n",
    "                    ops[c] = 0\n",
    "                i += 4\n",
    "#             print(ops, i)\n",
    "\n",
    "    return result"
   ]
  },
  {
   "cell_type": "code",
   "execution_count": 129,
   "metadata": {},
   "outputs": [],
   "source": [
    "# day5('1002,4,3,4,33', 1)\n",
    "# day5('3,0,4,0,99', 5)\n",
    "# day5('3,9,8,9,10,9,4,9,99,-1,8', 1)\n",
    "# day5('3,9,8,9,10,9,4,9,99,-1,8', 8)\n",
    "# day5('3,9,7,9,10,9,4,9,99,-1,8', 1)\n",
    "# day5('3,9,7,9,10,9,4,9,99,-1,8', 8)\n",
    "# day5('3,3,1108,-1,8,3,4,3,99', 1)\n",
    "# day5('3,3,1108,-1,8,3,4,3,99', 8)\n",
    "# day5('3,3,1107,-1,8,3,4,3,99', 1)\n",
    "# day5('3,3,1107,-1,8,3,4,3,99', 8)\n",
    "# day5('3,12,6,12,15,1,13,14,13,4,13,99,-1,0,1,9', 0)\n",
    "# day5('3,12,6,12,15,1,13,14,13,4,13,99,-1,0,1,9', 8)\n",
    "# day5('3,3,1105,-1,9,1101,0,0,12,4,12,99,1', 0)\n",
    "# day5('3,3,1105,-1,9,1101,0,0,12,4,12,99,1', 8)"
   ]
  },
  {
   "cell_type": "code",
   "execution_count": 134,
   "metadata": {},
   "outputs": [
    {
     "name": "stdout",
     "output_type": "stream",
     "text": [
      "0 3\n",
      "2 1008\n",
      "6 1005\n",
      "9 107\n",
      "13 1006\n",
      "16 1106\n",
      "36 1101\n",
      "40 4\n",
      "42 1105\n",
      "46 99\n"
     ]
    },
    {
     "data": {
      "text/plain": [
       "1001"
      ]
     },
     "execution_count": 134,
     "metadata": {},
     "output_type": "execute_result"
    }
   ],
   "source": [
    "example = '3,21,1008,21,8,20,1005,20,22,107,8,21,20,1006,20,31,1106,0,36,98,0,0,1002,21,125,20,4,20,1105,1,46,104,999,1105,1,46,1101,1000,1,20,4,20,1105,1,46,98,99'\n",
    "day5(example, 9)"
   ]
  },
  {
   "cell_type": "code",
   "execution_count": 60,
   "metadata": {},
   "outputs": [],
   "source": [
    "ops = list(map(int, \"1002,4,3,4,33\".split(',')))\n",
    "i = 0\n",
    "o = ops[i]\n",
    "x = str(o)\n",
    "while len(x) < 5:\n",
    "    x = '0' + x\n",
    "m = [x[2], x[1]]\n",
    "p = [ops[i+1], ops[i+2]]\n",
    "a, b = getints(ops, p, m)\n",
    "c = ops[i+3]\n",
    "ops[c] = a * b\n",
    "i += 4"
   ]
  },
  {
   "cell_type": "code",
   "execution_count": 138,
   "metadata": {},
   "outputs": [
    {
     "data": {
      "text/plain": [
       "7079459"
      ]
     },
     "execution_count": 138,
     "metadata": {},
     "output_type": "execute_result"
    }
   ],
   "source": [
    "day5(input('day5.txt')[0], 5)"
   ]
  },
  {
   "cell_type": "code",
   "execution_count": null,
   "metadata": {},
   "outputs": [],
   "source": []
  }
 ],
 "metadata": {
  "kernelspec": {
   "display_name": "Python 3",
   "language": "python",
   "name": "python3"
  },
  "language_info": {
   "codemirror_mode": {
    "name": "ipython",
    "version": 3
   },
   "file_extension": ".py",
   "mimetype": "text/x-python",
   "name": "python",
   "nbconvert_exporter": "python",
   "pygments_lexer": "ipython3",
   "version": "3.6.9"
  }
 },
 "nbformat": 4,
 "nbformat_minor": 2
}
