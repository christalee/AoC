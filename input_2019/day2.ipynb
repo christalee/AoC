{
 "cells": [
  {
   "cell_type": "code",
   "execution_count": 17,
   "metadata": {},
   "outputs": [],
   "source": [
    "def input(filename: str):\n",
    "    with open(filename, 'r') as input:\n",
    "        data = [x.strip() for x in input]\n",
    "\n",
    "    return data"
   ]
  },
  {
   "cell_type": "code",
   "execution_count": 66,
   "metadata": {},
   "outputs": [],
   "source": [
    "def day2(opcodes, nv=False):\n",
    "    ops = list(map(int, opcodes.split(',')))\n",
    "    i = 0\n",
    "\n",
    "    if nv:\n",
    "        ops[1] = nv[0]\n",
    "        ops[2] = nv[1]\n",
    "\n",
    "    while True:\n",
    "        o = ops[i]\n",
    "        if o == 99:\n",
    "            break\n",
    "        if o == 1:\n",
    "            ops[ops[i+3]] = ops[ops[i+1]] + ops[ops[i+2]]\n",
    "        if o == 2:\n",
    "            ops[ops[i+3]] = ops[ops[i+1]] * ops[ops[i+2]]\n",
    "        i += 4\n",
    "    \n",
    "    return ops[0]"
   ]
  },
  {
   "cell_type": "code",
   "execution_count": 67,
   "metadata": {},
   "outputs": [
    {
     "data": {
      "text/plain": [
       "3790645"
      ]
     },
     "execution_count": 67,
     "metadata": {},
     "output_type": "execute_result"
    }
   ],
   "source": [
    "# day2('1,9,10,3,2,3,11,0,99,30,40,50')\n",
    "# day2('1,0,0,0,99')\n",
    "# day2('2,3,0,3,99')\n",
    "# day2('2,4,4,5,99,0')\n",
    "# day2('1,1,1,4,99,5,6,0,99')\n",
    "day2(input('day2.txt')[0], (12, 2))"
   ]
  },
  {
   "cell_type": "code",
   "execution_count": 69,
   "metadata": {},
   "outputs": [
    {
     "name": "stdout",
     "output_type": "stream",
     "text": [
      "65 77\n"
     ]
    }
   ],
   "source": [
    "for n in range(100):\n",
    "    for v in range(100):\n",
    "        if day2(input('day2.txt')[0], (n,v)) == 19690720:\n",
    "            print(n,v)"
   ]
  },
  {
   "cell_type": "code",
   "execution_count": 31,
   "metadata": {},
   "outputs": [
    {
     "data": {
      "text/plain": [
       "[1, 9, 10, 70, 2, 3, 11, 3500, 99, 30, 40, 50]"
      ]
     },
     "execution_count": 31,
     "metadata": {},
     "output_type": "execute_result"
    }
   ],
   "source": [
    "ops"
   ]
  },
  {
   "cell_type": "code",
   "execution_count": null,
   "metadata": {},
   "outputs": [],
   "source": []
  }
 ],
 "metadata": {
  "kernelspec": {
   "display_name": "Python 3",
   "language": "python",
   "name": "python3"
  },
  "language_info": {
   "codemirror_mode": {
    "name": "ipython",
    "version": 3
   },
   "file_extension": ".py",
   "mimetype": "text/x-python",
   "name": "python",
   "nbconvert_exporter": "python",
   "pygments_lexer": "ipython3",
   "version": "3.6.9"
  }
 },
 "nbformat": 4,
 "nbformat_minor": 2
}
