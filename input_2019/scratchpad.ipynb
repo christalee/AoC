{
 "cells": [
  {
   "cell_type": "code",
   "execution_count": 1,
   "metadata": {},
   "outputs": [],
   "source": [
    "def input(filename: str):\n",
    "    with open(filename, 'r') as input:\n",
    "        data = [x.strip() for x in input]\n",
    "\n",
    "    return data"
   ]
  },
  {
   "cell_type": "code",
   "execution_count": 30,
   "metadata": {},
   "outputs": [],
   "source": [
    "example = \"COM)B,B)C,C)D,D)E,E)F,B)G,G)H,D)I,E)J,J)K,K)L\".split(\",\")"
   ]
  },
  {
   "cell_type": "code",
   "execution_count": 64,
   "metadata": {},
   "outputs": [
    {
     "name": "stdout",
     "output_type": "stream",
     "text": [
      "['COM']\n",
      "[['B', ['COM']]]\n",
      "[['B', ['COM']], ['B']]\n",
      "[['B', ['COM']], ['B'], ['C']]\n",
      "[['B', ['COM']], ['B'], ['C'], ['D']]\n",
      "[['B', ['COM']], ['B'], ['C'], ['D'], ['E']]\n",
      "[['B', ['COM']], ['B'], ['C'], ['D'], ['E'], ['B']]\n",
      "[['B', ['COM']], ['B'], ['C'], ['D'], ['E'], ['B'], ['G']]\n",
      "[['B', ['COM']], ['B'], ['C'], ['D'], ['E'], ['B'], ['G'], ['D']]\n",
      "[['B', ['COM']], ['B'], ['C'], ['D'], ['E'], ['B'], ['G'], ['D'], ['E']]\n",
      "[['B', ['COM']], ['B'], ['C'], ['D'], ['E'], ['B'], ['G'], ['D'], ['E'], ['J']]\n",
      "[['B', ['COM']], ['B'], ['C'], ['D'], ['E'], ['B'], ['G'], ['D'], ['E'], ['J'], ['K']]\n"
     ]
    }
   ],
   "source": [
    "orbits = [['COM']]\n",
    "for o in orbits:\n",
    "    neworbits = []\n",
    "#     print(o)\n",
    "    for e in example:\n",
    "        a, b = e.split(')')\n",
    "#     print(a, b)\n",
    "        if a == o[0]:\n",
    "            neworbits.append([b] + [o])\n",
    "            print(o)\n",
    "        else:\n",
    "            neworbits.append([a])\n",
    "        print(neworbits)\n",
    "    break"
   ]
  },
  {
   "cell_type": "code",
   "execution_count": 46,
   "metadata": {},
   "outputs": [
    {
     "data": {
      "text/plain": [
       "['COM)B', 'B)C', 'C)D', 'D)E', 'E)F', 'B)G', 'G)H', 'D)I', 'E)J', 'J)K', 'K)L']"
      ]
     },
     "execution_count": 46,
     "metadata": {},
     "output_type": "execute_result"
    }
   ],
   "source": [
    "example"
   ]
  },
  {
   "cell_type": "code",
   "execution_count": 60,
   "metadata": {},
   "outputs": [
    {
     "data": {
      "text/plain": [
       "[['COM'], ['B'], ['G'], ['D'], ['E'], ['J'], ['K']]"
      ]
     },
     "execution_count": 60,
     "metadata": {},
     "output_type": "execute_result"
    }
   ],
   "source": [
    "orbits"
   ]
  },
  {
   "cell_type": "code",
   "execution_count": null,
   "metadata": {},
   "outputs": [],
   "source": []
  }
 ],
 "metadata": {
  "kernelspec": {
   "display_name": "Python 3",
   "language": "python",
   "name": "python3"
  },
  "language_info": {
   "codemirror_mode": {
    "name": "ipython",
    "version": 3
   },
   "file_extension": ".py",
   "mimetype": "text/x-python",
   "name": "python",
   "nbconvert_exporter": "python",
   "pygments_lexer": "ipython3",
   "version": "3.6.9"
  }
 },
 "nbformat": 4,
 "nbformat_minor": 2
}
