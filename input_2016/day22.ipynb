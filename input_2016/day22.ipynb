{
 "cells": [
  {
   "cell_type": "code",
   "execution_count": 1,
   "metadata": {},
   "outputs": [
    {
     "data": {
      "text/html": [
       "<div>\n",
       "<style scoped>\n",
       "    .dataframe tbody tr th:only-of-type {\n",
       "        vertical-align: middle;\n",
       "    }\n",
       "\n",
       "    .dataframe tbody tr th {\n",
       "        vertical-align: top;\n",
       "    }\n",
       "\n",
       "    .dataframe thead th {\n",
       "        text-align: right;\n",
       "    }\n",
       "</style>\n",
       "<table border=\"1\" class=\"dataframe\">\n",
       "  <thead>\n",
       "    <tr style=\"text-align: right;\">\n",
       "      <th></th>\n",
       "      <th>Size</th>\n",
       "      <th>Used</th>\n",
       "      <th>Avail</th>\n",
       "      <th>Use%</th>\n",
       "    </tr>\n",
       "    <tr>\n",
       "      <th>Filesystem</th>\n",
       "      <th></th>\n",
       "      <th></th>\n",
       "      <th></th>\n",
       "      <th></th>\n",
       "    </tr>\n",
       "  </thead>\n",
       "  <tbody>\n",
       "    <tr>\n",
       "      <th>/dev/grid/node-x0-y0</th>\n",
       "      <td>94</td>\n",
       "      <td>65</td>\n",
       "      <td>29</td>\n",
       "      <td>69</td>\n",
       "    </tr>\n",
       "    <tr>\n",
       "      <th>/dev/grid/node-x0-y1</th>\n",
       "      <td>88</td>\n",
       "      <td>69</td>\n",
       "      <td>19</td>\n",
       "      <td>78</td>\n",
       "    </tr>\n",
       "    <tr>\n",
       "      <th>/dev/grid/node-x0-y2</th>\n",
       "      <td>92</td>\n",
       "      <td>72</td>\n",
       "      <td>20</td>\n",
       "      <td>78</td>\n",
       "    </tr>\n",
       "    <tr>\n",
       "      <th>/dev/grid/node-x0-y3</th>\n",
       "      <td>93</td>\n",
       "      <td>73</td>\n",
       "      <td>20</td>\n",
       "      <td>78</td>\n",
       "    </tr>\n",
       "    <tr>\n",
       "      <th>/dev/grid/node-x0-y4</th>\n",
       "      <td>85</td>\n",
       "      <td>73</td>\n",
       "      <td>12</td>\n",
       "      <td>85</td>\n",
       "    </tr>\n",
       "  </tbody>\n",
       "</table>\n",
       "</div>"
      ],
      "text/plain": [
       "                      Size  Used  Avail  Use%\n",
       "Filesystem                                   \n",
       "/dev/grid/node-x0-y0    94    65     29    69\n",
       "/dev/grid/node-x0-y1    88    69     19    78\n",
       "/dev/grid/node-x0-y2    92    72     20    78\n",
       "/dev/grid/node-x0-y3    93    73     20    78\n",
       "/dev/grid/node-x0-y4    85    73     12    85"
      ]
     },
     "execution_count": 1,
     "metadata": {},
     "output_type": "execute_result"
    }
   ],
   "source": [
    "import numpy as np\n",
    "import pandas as pd\n",
    "\n",
    "df = pd.read_csv('day22.txt', delim_whitespace=True, header=1, index_col=0).applymap(lambda x: x.rstrip('T%')).apply(pd.to_numeric)\n",
    "df.head()"
   ]
  },
  {
   "cell_type": "code",
   "execution_count": 2,
   "metadata": {},
   "outputs": [],
   "source": [
    "# TODO make this faster?\n",
    "import itertools\n",
    "\n",
    "i = 0\n",
    "for (x, y) in itertools.permutations(range(len(df)), 2):\n",
    "    if df.iloc[y].Used > 0 and df.iloc[y].Used <= df.iloc[x].Avail:\n",
    "        i += 1\n",
    "\n",
    "print(i)"
   ]
  },
  {
   "cell_type": "code",
   "execution_count": 4,
   "metadata": {},
   "outputs": [],
   "source": [
    "def symbolize(used, size):\n",
    "    if size > 100:\n",
    "        return '#'\n",
    "    if used == 0:\n",
    "        return '_'\n",
    "    else:\n",
    "        return '.'\n",
    "\n",
    "s = np.vectorize(symbolize)\n",
    "df['Symbol'] = s(df.Used, df.Size)\n",
    "\n",
    "maze = np.array(df.Symbol)\n",
    "maze.shape = (25, int(len(df)/25))"
   ]
  },
  {
   "cell_type": "code",
   "execution_count": 5,
   "metadata": {},
   "outputs": [
    {
     "name": "stdout",
     "output_type": "stream",
     "text": [
      ". . . . . . . . . . . . . . . . . . . . . . . . . . . . . . . . . . .\n",
      ". . . . . . . . . . . . . . . . . . . . . . . . . . . . . . . . . . .\n",
      ". . . . . . . . . . . . . . . . . . . . . . . . . . . . . . . . . . .\n",
      ". . . . . . . . . . . . . . . . . . . . . . . . . . . . . . . . . . .\n",
      ". . . . . . . . . . . . . . . . . . . . . . . . . . . . . . . . . . .\n",
      ". . . . . . . . . . . . . . . . . . . . . . . . . . . . . . . . . . .\n",
      ". . . . . . . . . . . . . . . . . . . . . . . . . . . . . . . . . . .\n",
      ". . . . . . . . . . . . . . . . . . . . . . . . . . . . . . . . . . .\n",
      ". . . . . . . . . . . . . . . . . . . . . . . . . . . . . . . . . . .\n",
      ". . . . . . . . . . . . . . . . . . . . . . . . . . . . . . . . . . .\n",
      ". . . . . . . . . . . . . . . . . . . . . . . . . . . . . . . . . . .\n",
      ". . . . . . . . . . . . . . . . . . . . . . . . . . . . . . . . . . .\n",
      ". . . . . . . . . . . . . . . . . . . . . . . . . . . . . . . . . . .\n",
      ". . . . . . . . . . . . . . . . . . . . . . . . . . . . . . . . . . .\n",
      ". . . . . . . . . . . . . . . . . . . . . . . . . . . . . . . . . . .\n",
      ". . . . . . . . . . . # . . . . . . . . . . . . . . . . . . . . . . .\n",
      ". # . . . . . . . . . . . . . . . . . . . . . . . . # . . . . . . . .\n",
      ". . . . . . . . . . . . . . . . # . . . . . . . . . . . . . . . . . .\n",
      ". . . . . . # . . . . . . . . . . . . . . . . . . . . . . . . # . . .\n",
      ". . . . . . . . . . . . . . . . . . . . . # . . _ . . . . . . . . . .\n",
      ". . . . . . . . . . . # . . . . . . . . . . . . . . . . . . . . . . .\n",
      ". # . . . . . . . . . . . . . . . . . . . . . . . . # . . . . . . . .\n",
      ". . . . . . . . . . . . . . . . # . . . . . . . . . . . . . . . . . .\n",
      ". . . . . . # . . . . . . . . . . . . . . . . . . . . . . . . # . . .\n",
      ". . . . . . . . . . . . . . . . . . . . . # . . . . . . . . . . . . .\n"
     ]
    }
   ],
   "source": [
    "for i in maze:\n",
    "    print(' '.join(i))"
   ]
  },
  {
   "cell_type": "code",
   "execution_count": null,
   "metadata": {},
   "outputs": [],
   "source": []
  }
 ],
 "metadata": {
  "kernelspec": {
   "display_name": "Python 3",
   "language": "python",
   "name": "python3"
  },
  "language_info": {
   "codemirror_mode": {
    "name": "ipython",
    "version": 3
   },
   "file_extension": ".py",
   "mimetype": "text/x-python",
   "name": "python",
   "nbconvert_exporter": "python",
   "pygments_lexer": "ipython3",
   "version": "3.6.9"
  }
 },
 "nbformat": 4,
 "nbformat_minor": 2
}
