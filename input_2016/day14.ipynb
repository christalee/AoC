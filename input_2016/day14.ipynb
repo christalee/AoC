{
 "cells": [
  {
   "cell_type": "code",
   "execution_count": 14,
   "metadata": {},
   "outputs": [],
   "source": [
    "import pprint, hashlib, re\n",
    "\n",
    "# salt = 'abc'\n",
    "salt = 'zpqevtbw'\n",
    "h = '0123456789abcdef'\n",
    "quints = {k: {} for k in h}\n",
    "triples = {k: {} for k in h}\n",
    "keys = {}\n",
    "hashes = {}"
   ]
  },
  {
   "cell_type": "code",
   "execution_count": 15,
   "metadata": {},
   "outputs": [],
   "source": [
    "def gen_hash(y):\n",
    "    m = hashlib.md5()\n",
    "    m.update(y.encode())\n",
    "    \n",
    "    return m.hexdigest().lower()\n",
    "\n",
    "def stretch_hash(y):\n",
    "    for i in range(2017):\n",
    "        m = hashlib.md5()\n",
    "        m.update(y.encode())\n",
    "        y = m.hexdigest().lower()\n",
    "\n",
    "    return m.hexdigest().lower()"
   ]
  },
  {
   "cell_type": "code",
   "execution_count": 16,
   "metadata": {},
   "outputs": [],
   "source": [
    "def check_keys(hashfn):\n",
    "    index = 0\n",
    "    while len(keys) < 64:\n",
    "        for x in range(index, index + 5000):\n",
    "            y = salt + str(x)\n",
    "            hashes[x] = hashfn(y)\n",
    "\n",
    "        for n in hashes:\n",
    "            t = re.search(r'([a-f0-9])\\1\\1', hashes[n])\n",
    "            if t:\n",
    "                triples[t.group()[0]][n] = hashes[n]\n",
    "\n",
    "            q = re.search(r'([a-f0-9])\\1\\1\\1\\1', hashes[n])\n",
    "            if q:\n",
    "                quints[q.group()[0]][n] = hashes[n]\n",
    "        \n",
    "        for k in quints:\n",
    "            qvals = quints[k]\n",
    "            tvals = triples[k]\n",
    "            for q in qvals:\n",
    "                for t in tvals:\n",
    "                    if q in range(t+1, t+1001):\n",
    "                        keys[t] = tvals[t]\n",
    "        \n",
    "        index += 5000\n",
    "    \n",
    "    return sorted(list(keys.keys()))[63]"
   ]
  },
  {
   "cell_type": "code",
   "execution_count": 17,
   "metadata": {},
   "outputs": [
    {
     "data": {
      "text/plain": [
       "22423"
      ]
     },
     "execution_count": 17,
     "metadata": {},
     "output_type": "execute_result"
    }
   ],
   "source": [
    "check_keys(stretch_hash)"
   ]
  },
  {
   "cell_type": "code",
   "execution_count": null,
   "metadata": {},
   "outputs": [],
   "source": []
  }
 ],
 "metadata": {
  "kernelspec": {
   "display_name": "Python 3",
   "language": "python",
   "name": "python3"
  },
  "language_info": {
   "codemirror_mode": {
    "name": "ipython",
    "version": 3
   },
   "file_extension": ".py",
   "mimetype": "text/x-python",
   "name": "python",
   "nbconvert_exporter": "python",
   "pygments_lexer": "ipython3",
   "version": "3.6.9"
  }
 },
 "nbformat": 4,
 "nbformat_minor": 2
}
