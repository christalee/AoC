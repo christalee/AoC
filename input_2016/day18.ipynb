{
 "cells": [
  {
   "cell_type": "code",
   "execution_count": 5,
   "metadata": {},
   "outputs": [],
   "source": [
    "def input(filename: str):\n",
    "    with open(filename, 'r') as input:\n",
    "        data = [x.strip() for x in input]\n",
    "\n",
    "    return data\n",
    "\n",
    "row = input('day18.txt')\n",
    "maze = row"
   ]
  },
  {
   "cell_type": "code",
   "execution_count": 6,
   "metadata": {},
   "outputs": [],
   "source": [
    "def traps(row):\n",
    "    newrow = ''\n",
    "    for x in range(len(row)):\n",
    "        c = row[x]\n",
    "        if x == 0:\n",
    "            l = '.'\n",
    "        else:\n",
    "            l = row[x-1]\n",
    "\n",
    "        if x == len(row) - 1:\n",
    "            r = '.'\n",
    "        else:\n",
    "            r = row[x+1]\n",
    "\n",
    "        if (l == c == '^' and r == '.') or (c == r == '^' and l == '.') or (l == c == '.' and r == '^') or (c == r == '.' and l == '^'):\n",
    "            newrow += '^'\n",
    "        else:\n",
    "            newrow += '.'\n",
    "    \n",
    "    return newrow"
   ]
  },
  {
   "cell_type": "code",
   "execution_count": null,
   "metadata": {},
   "outputs": [],
   "source": [
    "# traps happen when lcr = 110, 011, 100, or 001"
   ]
  },
  {
   "cell_type": "code",
   "execution_count": 7,
   "metadata": {},
   "outputs": [],
   "source": [
    "for x in range(399999):\n",
    "    maze.append(traps(maze[-1]))"
   ]
  },
  {
   "cell_type": "code",
   "execution_count": 8,
   "metadata": {},
   "outputs": [
    {
     "data": {
      "text/plain": [
       "20002936"
      ]
     },
     "execution_count": 8,
     "metadata": {},
     "output_type": "execute_result"
    }
   ],
   "source": [
    "count = 0\n",
    "for r in maze:\n",
    "    count += r.count('.')\n",
    "count"
   ]
  },
  {
   "cell_type": "code",
   "execution_count": null,
   "metadata": {},
   "outputs": [],
   "source": []
  }
 ],
 "metadata": {
  "kernelspec": {
   "display_name": "Python 3",
   "language": "python",
   "name": "python3"
  },
  "language_info": {
   "codemirror_mode": {
    "name": "ipython",
    "version": 3
   },
   "file_extension": ".py",
   "mimetype": "text/x-python",
   "name": "python",
   "nbconvert_exporter": "python",
   "pygments_lexer": "ipython3",
   "version": "3.6.9"
  }
 },
 "nbformat": 4,
 "nbformat_minor": 2
}
