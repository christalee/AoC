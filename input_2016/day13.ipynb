{
 "cells": [
  {
   "cell_type": "code",
   "execution_count": 1,
   "metadata": {},
   "outputs": [],
   "source": [
    "import pprint, copy\n",
    "import numpy as np"
   ]
  },
  {
   "cell_type": "code",
   "execution_count": 2,
   "metadata": {},
   "outputs": [],
   "source": [
    "def g(q):\n",
    "    def f(x, y):\n",
    "        v = bin(x*x + 3*x + 2*x*y + y + y*y + q)\n",
    "        return v.count('1') % 2\n",
    "    return f"
   ]
  },
  {
   "cell_type": "code",
   "execution_count": 15,
   "metadata": {
    "scrolled": true
   },
   "outputs": [],
   "source": [
    "position = (1, 1)\n",
    "paths = [['start', position]]\n",
    "# goal = (4, 7)\n",
    "# seed = 10\n",
    "goal = (39, 31)\n",
    "seed = 1350\n",
    "h = g(seed)\n",
    "maze = np.array([[h(x, y) for x in range(60)] for y in range(60)])"
   ]
  },
  {
   "cell_type": "code",
   "execution_count": 16,
   "metadata": {},
   "outputs": [],
   "source": [
    "def pathfind(pathlist):\n",
    "    newpaths = []\n",
    "    for p in pathlist:\n",
    "        if p[-1] == goal:\n",
    "            newpaths = len(p) - 2\n",
    "            break\n",
    "        else:\n",
    "            newpaths.extend(nextstep(p))\n",
    "    \n",
    "    return newpaths\n",
    "\n",
    "def nextstep(steps):\n",
    "    x, y = steps[-1]\n",
    "    around = [a for a in [(x+1, y), (x-1, y), (x, y+1), (x, y-1)] \n",
    "              if (maze[a] == 0 and a not in steps and -1 not in a)]\n",
    "    options = []\n",
    "    for n in around:\n",
    "        q = copy.deepcopy(steps)\n",
    "        q.append(n)\n",
    "        options.append(q)\n",
    "\n",
    "    return options"
   ]
  },
  {
   "cell_type": "code",
   "execution_count": 17,
   "metadata": {},
   "outputs": [
    {
     "ename": "AttributeError",
     "evalue": "'int' object has no attribute 'extend'",
     "output_type": "error",
     "traceback": [
      "\u001b[0;31m---------------------------------------------------------------------------\u001b[0m",
      "\u001b[0;31mAttributeError\u001b[0m                            Traceback (most recent call last)",
      "\u001b[0;32m<ipython-input-17-632ed81fb862>\u001b[0m in \u001b[0;36m<module>\u001b[0;34m\u001b[0m\n\u001b[1;32m      1\u001b[0m \u001b[0mdone\u001b[0m \u001b[0;34m=\u001b[0m \u001b[0;32mFalse\u001b[0m\u001b[0;34m\u001b[0m\u001b[0;34m\u001b[0m\u001b[0m\n\u001b[1;32m      2\u001b[0m \u001b[0;32mwhile\u001b[0m \u001b[0;32mnot\u001b[0m \u001b[0mdone\u001b[0m \u001b[0;32mand\u001b[0m \u001b[0;32mnot\u001b[0m \u001b[0misinstance\u001b[0m\u001b[0;34m(\u001b[0m\u001b[0mpaths\u001b[0m\u001b[0;34m,\u001b[0m \u001b[0mint\u001b[0m\u001b[0;34m)\u001b[0m\u001b[0;34m:\u001b[0m\u001b[0;34m\u001b[0m\u001b[0;34m\u001b[0m\u001b[0m\n\u001b[0;32m----> 3\u001b[0;31m     \u001b[0mpaths\u001b[0m \u001b[0;34m=\u001b[0m \u001b[0mpathfind\u001b[0m\u001b[0;34m(\u001b[0m\u001b[0mpaths\u001b[0m\u001b[0;34m)\u001b[0m\u001b[0;34m\u001b[0m\u001b[0;34m\u001b[0m\u001b[0m\n\u001b[0m",
      "\u001b[0;32m<ipython-input-16-f5440727ce48>\u001b[0m in \u001b[0;36mpathfind\u001b[0;34m(pathlist)\u001b[0m\n\u001b[1;32m      6\u001b[0m             \u001b[0mdone\u001b[0m \u001b[0;34m=\u001b[0m \u001b[0;32mTrue\u001b[0m\u001b[0;34m\u001b[0m\u001b[0;34m\u001b[0m\u001b[0m\n\u001b[1;32m      7\u001b[0m         \u001b[0;32melse\u001b[0m\u001b[0;34m:\u001b[0m\u001b[0;34m\u001b[0m\u001b[0;34m\u001b[0m\u001b[0m\n\u001b[0;32m----> 8\u001b[0;31m             \u001b[0mnewpaths\u001b[0m\u001b[0;34m.\u001b[0m\u001b[0mextend\u001b[0m\u001b[0;34m(\u001b[0m\u001b[0mnextstep\u001b[0m\u001b[0;34m(\u001b[0m\u001b[0mp\u001b[0m\u001b[0;34m)\u001b[0m\u001b[0;34m)\u001b[0m\u001b[0;34m\u001b[0m\u001b[0;34m\u001b[0m\u001b[0m\n\u001b[0m\u001b[1;32m      9\u001b[0m \u001b[0;34m\u001b[0m\u001b[0m\n\u001b[1;32m     10\u001b[0m     \u001b[0;32mreturn\u001b[0m \u001b[0mnewpaths\u001b[0m\u001b[0;34m\u001b[0m\u001b[0;34m\u001b[0m\u001b[0m\n",
      "\u001b[0;31mAttributeError\u001b[0m: 'int' object has no attribute 'extend'"
     ]
    }
   ],
   "source": [
    "\n",
    "while not isinstance(paths, int):\n",
    "    paths = pathfind(paths)"
   ]
  },
  {
   "cell_type": "code",
   "execution_count": 14,
   "metadata": {
    "scrolled": true
   },
   "outputs": [
    {
     "data": {
      "text/plain": [
       "94"
      ]
     },
     "execution_count": 14,
     "metadata": {},
     "output_type": "execute_result"
    }
   ],
   "source": [
    "paths"
   ]
  },
  {
   "cell_type": "code",
   "execution_count": 12,
   "metadata": {},
   "outputs": [],
   "source": [
    "points = []\n",
    "for p in paths:\n",
    "    for x in p:\n",
    "        if x not in points:\n",
    "            points.append(x)\n",
    "\n",
    "s = set(points)"
   ]
  },
  {
   "cell_type": "code",
   "execution_count": 16,
   "metadata": {},
   "outputs": [
    {
     "data": {
      "text/plain": [
       "['start',\n",
       " (1, 1),\n",
       " (1, 2),\n",
       " (1, 3),\n",
       " (2, 3),\n",
       " (2, 4),\n",
       " (2, 5),\n",
       " (2, 6),\n",
       " (3, 6),\n",
       " (4, 6),\n",
       " (4, 7),\n",
       " (5, 7),\n",
       " (6, 7),\n",
       " (6, 8),\n",
       " (6, 9),\n",
       " (6, 10),\n",
       " (6, 11),\n",
       " (7, 11),\n",
       " (8, 11),\n",
       " (8, 12),\n",
       " (9, 12),\n",
       " (10, 12),\n",
       " (11, 12),\n",
       " (12, 12),\n",
       " (12, 13),\n",
       " (12, 14),\n",
       " (11, 14),\n",
       " (10, 14),\n",
       " (9, 14),\n",
       " (9, 15),\n",
       " (8, 15),\n",
       " (7, 15),\n",
       " (6, 15),\n",
       " (5, 15),\n",
       " (5, 16),\n",
       " (5, 17),\n",
       " (5, 18),\n",
       " (6, 18),\n",
       " (7, 18),\n",
       " (7, 19),\n",
       " (7, 20),\n",
       " (6, 20),\n",
       " (5, 20),\n",
       " (5, 19),\n",
       " (4, 19),\n",
       " (4, 18),\n",
       " (3, 18),\n",
       " (2, 18),\n",
       " (2, 17),\n",
       " (1, 17),\n",
       " (0, 17),\n",
       " (0, 18),\n",
       " (6, 21),\n",
       " (6, 22),\n",
       " (6, 23),\n",
       " (6, 24),\n",
       " (5, 24),\n",
       " (4, 24),\n",
       " (4, 23),\n",
       " (3, 23),\n",
       " (2, 23),\n",
       " (2, 24),\n",
       " (12, 15),\n",
       " (12, 16),\n",
       " (12, 17),\n",
       " (13, 17),\n",
       " (14, 17),\n",
       " (15, 17),\n",
       " (15, 18),\n",
       " (15, 19),\n",
       " (15, 20),\n",
       " (14, 20),\n",
       " (14, 21),\n",
       " (14, 22),\n",
       " (15, 22),\n",
       " (15, 23),\n",
       " (16, 23),\n",
       " (17, 23),\n",
       " (18, 23),\n",
       " (19, 23),\n",
       " (20, 23),\n",
       " (20, 24),\n",
       " (21, 24),\n",
       " (21, 25),\n",
       " (21, 26),\n",
       " (20, 26),\n",
       " (20, 27),\n",
       " (20, 28),\n",
       " (17, 24),\n",
       " (18, 24),\n",
       " (17, 22),\n",
       " (18, 22),\n",
       " (5, 8),\n",
       " (4, 5),\n",
       " (5, 5),\n",
       " (6, 5),\n",
       " (6, 6),\n",
       " (7, 24),\n",
       " (8, 24),\n",
       " (0, 19),\n",
       " (1, 19),\n",
       " (9, 24),\n",
       " (9, 25),\n",
       " (1, 4)]"
      ]
     },
     "execution_count": 16,
     "metadata": {},
     "output_type": "execute_result"
    }
   ],
   "source": [
    "points"
   ]
  },
  {
   "cell_type": "code",
   "execution_count": 13,
   "metadata": {},
   "outputs": [
    {
     "data": {
      "text/plain": [
       "64"
      ]
     },
     "execution_count": 13,
     "metadata": {},
     "output_type": "execute_result"
    }
   ],
   "source": [
    "len(paths)"
   ]
  },
  {
   "cell_type": "code",
   "execution_count": null,
   "metadata": {},
   "outputs": [],
   "source": [
    "paths"
   ]
  },
  {
   "cell_type": "code",
   "execution_count": null,
   "metadata": {},
   "outputs": [],
   "source": []
  }
 ],
 "metadata": {
  "kernelspec": {
   "display_name": "Python 3",
   "language": "python",
   "name": "python3"
  },
  "language_info": {
   "codemirror_mode": {
    "name": "ipython",
    "version": 3
   },
   "file_extension": ".py",
   "mimetype": "text/x-python",
   "name": "python",
   "nbconvert_exporter": "python",
   "pygments_lexer": "ipython3",
   "version": "3.6.8"
  }
 },
 "nbformat": 4,
 "nbformat_minor": 2
}
