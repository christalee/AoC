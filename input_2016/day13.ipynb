{
 "cells": [
  {
   "cell_type": "code",
   "execution_count": 1,
   "metadata": {
    "inputHidden": false,
    "outputHidden": false
   },
   "outputs": [],
   "source": [
    "import numpy as np"
   ]
  },
  {
   "cell_type": "code",
   "execution_count": 2,
   "metadata": {
    "inputHidden": false,
    "outputHidden": false
   },
   "outputs": [],
   "source": [
    "def g(q):\n",
    "    def f(x, y):\n",
    "        v = bin(x*x + 3*x + 2*x*y + y + y*y + q)\n",
    "        return v.count('1') % 2\n",
    "    return f"
   ]
  },
  {
   "cell_type": "code",
   "execution_count": 22,
   "metadata": {},
   "outputs": [],
   "source": [
    "visited = set([(1, 1)])\n",
    "# goal = (4, 7)\n",
    "goal = (39, 31)\n",
    "d = 0\n",
    "points = 0\n",
    "frontier = [(1, 1)]"
   ]
  },
  {
   "cell_type": "code",
   "execution_count": 23,
   "metadata": {},
   "outputs": [],
   "source": [
    "# seed = 10\n",
    "seed = 1350\n",
    "h = g(seed)\n",
    "maze = np.array([[h(x, y) for x in range(60)] for y in range(60)])"
   ]
  },
  {
   "cell_type": "code",
   "execution_count": 24,
   "metadata": {},
   "outputs": [],
   "source": [
    "def pathfind(border):\n",
    "    global d, visited, points\n",
    "    \n",
    "    if d == 50:\n",
    "        points = len(visited)\n",
    "    \n",
    "    newborder = []\n",
    "    for p in border:\n",
    "        if p == goal:\n",
    "            return d\n",
    "        else:\n",
    "            newborder.extend(nextstep(p))\n",
    "    \n",
    "    d += 1\n",
    "    visited = visited | set(newborder)\n",
    "    return list(set(newborder))\n",
    "\n",
    "def nextstep(point):\n",
    "    x, y = point\n",
    "    around = [a for a in [(x + 1, y), (x - 1, y), (x, y + 1), (x, y - 1)]\n",
    "              if (maze[a] == 0 and a not in visited and -1 not in a)]\n",
    "\n",
    "    return around"
   ]
  },
  {
   "cell_type": "code",
   "execution_count": 25,
   "metadata": {
    "inputHidden": false,
    "outputHidden": false
   },
   "outputs": [],
   "source": [
    "while not isinstance(frontier, int):\n",
    "    frontier = pathfind(frontier)"
   ]
  },
  {
   "cell_type": "code",
   "execution_count": 26,
   "metadata": {
    "inputHidden": false,
    "outputHidden": false
   },
   "outputs": [
    {
     "data": {
      "text/plain": [
       "92"
      ]
     },
     "execution_count": 26,
     "metadata": {},
     "output_type": "execute_result"
    }
   ],
   "source": [
    "frontier"
   ]
  },
  {
   "cell_type": "code",
   "execution_count": 27,
   "metadata": {
    "inputHidden": false,
    "outputHidden": false
   },
   "outputs": [
    {
     "data": {
      "text/plain": [
       "124"
      ]
     },
     "execution_count": 27,
     "metadata": {},
     "output_type": "execute_result"
    }
   ],
   "source": [
    "points"
   ]
  },
  {
   "cell_type": "code",
   "execution_count": null,
   "metadata": {},
   "outputs": [],
   "source": []
  }
 ],
 "metadata": {
  "kernelspec": {
   "display_name": "Python 3",
   "language": "python",
   "name": "python3"
  },
  "language_info": {
   "codemirror_mode": {
    "name": "ipython",
    "version": 3
   },
   "file_extension": ".py",
   "mimetype": "text/x-python",
   "name": "python",
   "nbconvert_exporter": "python",
   "pygments_lexer": "ipython3",
   "version": "3.6.9"
  }
 },
 "nbformat": 4,
 "nbformat_minor": 1
}
