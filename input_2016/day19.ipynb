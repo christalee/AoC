{
 "cells": [
  {
   "cell_type": "code",
   "execution_count": 1,
   "metadata": {},
   "outputs": [],
   "source": [
    "import math, copy\n",
    "import multiprocessing as mp"
   ]
  },
  {
   "cell_type": "code",
   "execution_count": 2,
   "metadata": {},
   "outputs": [],
   "source": [
    "size = range(2, 50)"
   ]
  },
  {
   "cell_type": "code",
   "execution_count": 3,
   "metadata": {},
   "outputs": [],
   "source": [
    "# Part 1: Imagine a circle of elves, numbered from 1, each holding a gift.\n",
    "# Going around the circle in order, each elf steals a gift from the elf on\n",
    "# their left. Any elf without a gift is removed from the circle. Which elf\n",
    "# ends up with all the gifts?\n",
    "\n",
    "# Solution: First I solved this problem by walking the list, which was\n",
    "# prohibitively slow for large n\n",
    "def part1a(x):\n",
    "    p1 = {}\n",
    "    elves = list(range(x))\n",
    "    while len(elves) > 1:\n",
    "        for i, e in enumerate(elves):\n",
    "            elves.pop((i+1) % len(elves))\n",
    "    p1[x] = elves[0] + 1\n",
    "    return p1"
   ]
  },
  {
   "cell_type": "code",
   "execution_count": 4,
   "metadata": {},
   "outputs": [],
   "source": [
    "# I tried speeding up execution with threading or multiprocessing, but\n",
    "# concluded that the computation is CPU-bound and modifies a single massive\n",
    "# data structure - I would have to chunk it manually. Along the way, I ran\n",
    "# the above code for n from 2 to 50. Noticing a pattern in the output, I\n",
    "# derived a formula for both results.\n",
    "    \n",
    "# part1: 2^n => 1, then follow 2^n odd numbers (so the last is 2^n+1 - 1 => 2^n+1 - 1)\n",
    "\n",
    "def part1b(x):\n",
    "    powers = [2**n for n in range(25)]\n",
    "    odds = [1 + 2*n for n in range(x)]\n",
    "    \n",
    "    t = [a for a in powers if a <= x]\n",
    "    r = x - t[-1]\n",
    "    return {x: odds[r]}"
   ]
  },
  {
   "cell_type": "code",
   "execution_count": 5,
   "metadata": {},
   "outputs": [
    {
     "data": {
      "text/plain": [
       "True"
      ]
     },
     "execution_count": 5,
     "metadata": {},
     "output_type": "execute_result"
    }
   ],
   "source": [
    "with mp.Pool() as pool:\n",
    "    a = pool.map(part1a, size)\n",
    "    b = pool.map(part1b, size)\n",
    "a == b"
   ]
  },
  {
   "cell_type": "code",
   "execution_count": 6,
   "metadata": {},
   "outputs": [
    {
     "name": "stdout",
     "output_type": "stream",
     "text": [
      "CPU times: user 475 ms, sys: 70.6 ms, total: 546 ms\n",
      "Wall time: 577 ms\n"
     ]
    },
    {
     "data": {
      "text/plain": [
       "{3001330: 1808357}"
      ]
     },
     "execution_count": 6,
     "metadata": {},
     "output_type": "execute_result"
    }
   ],
   "source": [
    "%%time\n",
    "part1b(3001330)"
   ]
  },
  {
   "cell_type": "code",
   "execution_count": 7,
   "metadata": {},
   "outputs": [],
   "source": [
    "# Part 2: Imagine instead that the elves steal gifts from the elf directly\n",
    "# across the circle from them, or the elf on the left (from the stealer's\n",
    "# view) if there are two options. Now which elf ends up with all the gifts?\n",
    "\n",
    "# Solution: Again, this code was technically correct but incredibly slow; it would've run for 24+ hrs on the problem input.\n",
    "\n",
    "def part2a(x):\n",
    "    p2 = {}\n",
    "    elves = list(range(x))\n",
    "    while len(elves) > 1:\n",
    "        ref = copy.deepcopy(elves)\n",
    "        for r in ref:\n",
    "            if r in elves:\n",
    "                j = elves.index(r)\n",
    "                elves.pop((j + math.floor(len(elves) / 2)) % len(elves))\n",
    "    p2[x] = elves[0] + 1\n",
    "    \n",
    "    return p2"
   ]
  },
  {
   "cell_type": "code",
   "execution_count": 8,
   "metadata": {},
   "outputs": [],
   "source": [
    "# part2: 1 => 1, if n => n then start 1, 2, 3 until n => n/2, then continue sequence of odds until n => n\n",
    "\n",
    "# This still takes a while to run\n",
    "def part2b(x):\n",
    "    p2 = {}\n",
    "    odds = [1 + 2*n for n in range(x)]\n",
    "    numbers = odds\n",
    "    for n in range(1, x + 1):\n",
    "        o = numbers[0]\n",
    "        if n == x:\n",
    "            p2[n] = o\n",
    "\n",
    "        numbers.pop(0)\n",
    "        if n == o:\n",
    "            numbers = list(range(1, n + 1))\n",
    "        if n/2 == o:\n",
    "            numbers = odds\n",
    "\n",
    "    return p2"
   ]
  },
  {
   "cell_type": "code",
   "execution_count": 9,
   "metadata": {},
   "outputs": [],
   "source": [
    "def part2c(x):\n",
    "    odds = [1 + 2*n for n in range(x)]\n",
    "    \n",
    "    for r in range(15):\n",
    "        if 3**r >= x:\n",
    "            a = r - 1\n",
    "            break\n",
    "    \n",
    "    p = 3**a\n",
    "    r = x - p\n",
    "    d = 3**(a+1) - p\n",
    "    \n",
    "    if r <= d//2:\n",
    "        y = r\n",
    "    else:\n",
    "        s = r - d//2\n",
    "        i = odds.index(p)\n",
    "        y = odds[i + s]\n",
    "\n",
    "    return {x: y}"
   ]
  },
  {
   "cell_type": "code",
   "execution_count": 10,
   "metadata": {},
   "outputs": [
    {
     "data": {
      "text/plain": [
       "True"
      ]
     },
     "execution_count": 10,
     "metadata": {},
     "output_type": "execute_result"
    }
   ],
   "source": [
    "with mp.Pool() as pool:\n",
    "    a = pool.map(part2a, size)\n",
    "    b = pool.map(part2b, size)\n",
    "    c = pool.map(part2c, size)\n",
    "\n",
    "a == b and b == c"
   ]
  },
  {
   "cell_type": "code",
   "execution_count": 11,
   "metadata": {},
   "outputs": [
    {
     "name": "stdout",
     "output_type": "stream",
     "text": [
      "CPU times: user 16min 13s, sys: 4.5 s, total: 16min 17s\n",
      "Wall time: 17min 42s\n"
     ]
    },
    {
     "data": {
      "text/plain": [
       "{300000: 122853}"
      ]
     },
     "execution_count": 11,
     "metadata": {},
     "output_type": "execute_result"
    }
   ],
   "source": [
    "%%time\n",
    "# part2a(300) -> 3ms\n",
    "# part2a(3000) -> 166ms\n",
    "# part2a(30000) -> 15s\n",
    "# part2a(300000) -> 18min"
   ]
  },
  {
   "cell_type": "code",
   "execution_count": 12,
   "metadata": {},
   "outputs": [
    {
     "name": "stdout",
     "output_type": "stream",
     "text": [
      "CPU times: user 42min 24s, sys: 12.2 s, total: 42min 36s\n",
      "Wall time: 1h 1min\n"
     ]
    },
    {
     "data": {
      "text/plain": [
       "{3001330: 1407007}"
      ]
     },
     "execution_count": 12,
     "metadata": {},
     "output_type": "execute_result"
    }
   ],
   "source": [
    "%%time\n",
    "part2b(3001330)"
   ]
  },
  {
   "cell_type": "code",
   "execution_count": 43,
   "metadata": {},
   "outputs": [
    {
     "name": "stdout",
     "output_type": "stream",
     "text": [
      "CPU times: user 521 ms, sys: 77.8 ms, total: 599 ms\n",
      "Wall time: 1.09 s\n"
     ]
    },
    {
     "data": {
      "text/plain": [
       "{3001330: 1407007}"
      ]
     },
     "execution_count": 43,
     "metadata": {},
     "output_type": "execute_result"
    }
   ],
   "source": [
    "%%time\n",
    "part2c(3001330)"
   ]
  },
  {
   "cell_type": "code",
   "execution_count": null,
   "metadata": {},
   "outputs": [],
   "source": []
  }
 ],
 "metadata": {
  "kernelspec": {
   "display_name": "Python 3",
   "language": "python",
   "name": "python3"
  },
  "language_info": {
   "codemirror_mode": {
    "name": "ipython",
    "version": 3
   },
   "file_extension": ".py",
   "mimetype": "text/x-python",
   "name": "python",
   "nbconvert_exporter": "python",
   "pygments_lexer": "ipython3",
   "version": "3.6.12"
  }
 },
 "nbformat": 4,
 "nbformat_minor": 2
}
