{
 "cells": [
  {
   "cell_type": "code",
   "execution_count": 1,
   "metadata": {},
   "outputs": [],
   "source": [
    "import math, copy\n",
    "import multiprocessing as mp"
   ]
  },
  {
   "cell_type": "code",
   "execution_count": 2,
   "metadata": {},
   "outputs": [],
   "source": [
    "size = range(2, 50)"
   ]
  },
  {
   "cell_type": "code",
   "execution_count": 3,
   "metadata": {},
   "outputs": [],
   "source": [
    "def part1a(x):\n",
    "    p1 = {}\n",
    "    elves = list(range(x))\n",
    "    while len(elves) > 1:\n",
    "        for i, e in enumerate(elves):\n",
    "            elves.pop((i+1) % len(elves))\n",
    "    p1[x] = elves[0] + 1\n",
    "    return p1"
   ]
  },
  {
   "cell_type": "code",
   "execution_count": 11,
   "metadata": {},
   "outputs": [],
   "source": [
    "# part1: 2^n = 1, then follow 2^n odd numbers (so the last is 2^n+1 - 1 : 2^n+1 - 1)\n",
    "def part1b(x):\n",
    "    powers = [2**n for n in range(25)]\n",
    "    odds = [1 + 2*n for n in range(x)]\n",
    "    \n",
    "    t = [a for a in powers if a <= x]\n",
    "    r = x - t[-1]\n",
    "    return {x: odds[r]}"
   ]
  },
  {
   "cell_type": "code",
   "execution_count": 5,
   "metadata": {},
   "outputs": [],
   "source": [
    "def part2a(x):\n",
    "    p2 = {}\n",
    "    elves = list(range(x))\n",
    "    while len(elves) > 1:\n",
    "        ref = copy.deepcopy(elves)\n",
    "        for r in ref:\n",
    "            if r in elves:\n",
    "                j = elves.index(r)\n",
    "                elves.pop((j + math.floor(len(elves) / 2)) % len(elves))\n",
    "                if r == elves[j - 2]:\n",
    "                    break\n",
    "    p2[x] = elves[0] + 1\n",
    "    return p2"
   ]
  },
  {
   "cell_type": "code",
   "execution_count": 13,
   "metadata": {},
   "outputs": [],
   "source": [
    "# part2: 1 : 1, if n : n then start 1, 2, 3 until n : n/2, then continue sequence of odds until n : n\n",
    "def part2b(x):\n",
    "    p2 = {}\n",
    "    odds = [1 + 2*n for n in range(x)]\n",
    "    numbers = odds\n",
    "    for n in range(1, x + 1):\n",
    "        o = numbers[0]\n",
    "        if n == x:\n",
    "            p2[n] = o\n",
    "\n",
    "        numbers.pop(0)\n",
    "        if n == o:\n",
    "            numbers = list(range(1, n + 1))\n",
    "        if n/2 == o:\n",
    "            numbers = odds\n",
    "\n",
    "    return p2"
   ]
  },
  {
   "cell_type": "code",
   "execution_count": 45,
   "metadata": {},
   "outputs": [],
   "source": [
    "def part2c(x):\n",
    "    odds = [1 + 2*n for n in range(x)]\n",
    "    \n",
    "    for r in range(15):\n",
    "        if 3**r >= x:\n",
    "            a = r - 1\n",
    "            break\n",
    "    \n",
    "    p = 3**a\n",
    "    r = x - p\n",
    "    d = 3**(a+1) - p\n",
    "    \n",
    "    if r <= d//2:\n",
    "        y = r\n",
    "    else:\n",
    "        s = r - d//2\n",
    "        i = odds.index(p)\n",
    "        y = odds[i + s]\n",
    "\n",
    "    return {x: y}"
   ]
  },
  {
   "cell_type": "code",
   "execution_count": 46,
   "metadata": {},
   "outputs": [
    {
     "name": "stdout",
     "output_type": "stream",
     "text": [
      "CPU times: user 186 ms, sys: 190 ms, total: 377 ms\n",
      "Wall time: 1.49 s\n"
     ]
    },
    {
     "data": {
      "text/plain": [
       "True"
      ]
     },
     "execution_count": 46,
     "metadata": {},
     "output_type": "execute_result"
    }
   ],
   "source": [
    "%%time\n",
    "with mp.Pool() as pool:\n",
    "    a = pool.map(part2a, size)\n",
    "    b = pool.map(part2c, size)\n",
    "a == b\n",
    "# print(a)\n",
    "# print(b)"
   ]
  },
  {
   "cell_type": "code",
   "execution_count": 48,
   "metadata": {},
   "outputs": [
    {
     "name": "stdout",
     "output_type": "stream",
     "text": [
      "CPU times: user 398 ms, sys: 74 ms, total: 472 ms\n",
      "Wall time: 502 ms\n"
     ]
    },
    {
     "data": {
      "text/plain": [
       "{3001330: 1808357}"
      ]
     },
     "execution_count": 48,
     "metadata": {},
     "output_type": "execute_result"
    }
   ],
   "source": [
    "%%time\n",
    "part1b(3001330)"
   ]
  },
  {
   "cell_type": "code",
   "execution_count": 20,
   "metadata": {},
   "outputs": [
    {
     "name": "stdout",
     "output_type": "stream",
     "text": [
      "CPU times: user 40min 59s, sys: 15.1 s, total: 41min 14s\n",
      "Wall time: 44min 13s\n"
     ]
    },
    {
     "data": {
      "text/plain": [
       "{3001330: 1407007}"
      ]
     },
     "execution_count": 20,
     "metadata": {},
     "output_type": "execute_result"
    }
   ],
   "source": [
    "%%time\n",
    "part2b(3001330)"
   ]
  },
  {
   "cell_type": "code",
   "execution_count": 47,
   "metadata": {},
   "outputs": [
    {
     "name": "stdout",
     "output_type": "stream",
     "text": [
      "CPU times: user 382 ms, sys: 69.5 ms, total: 452 ms\n",
      "Wall time: 458 ms\n"
     ]
    },
    {
     "data": {
      "text/plain": [
       "{3001330: 1407007}"
      ]
     },
     "execution_count": 47,
     "metadata": {},
     "output_type": "execute_result"
    }
   ],
   "source": [
    "%%time\n",
    "part2c(3001330)"
   ]
  },
  {
   "cell_type": "code",
   "execution_count": null,
   "metadata": {},
   "outputs": [],
   "source": []
  }
 ],
 "metadata": {
  "kernelspec": {
   "display_name": "Python 3",
   "language": "python",
   "name": "python3"
  },
  "language_info": {
   "codemirror_mode": {
    "name": "ipython",
    "version": 3
   },
   "file_extension": ".py",
   "mimetype": "text/x-python",
   "name": "python",
   "nbconvert_exporter": "python",
   "pygments_lexer": "ipython3",
   "version": "3.6.9"
  }
 },
 "nbformat": 4,
 "nbformat_minor": 2
}
