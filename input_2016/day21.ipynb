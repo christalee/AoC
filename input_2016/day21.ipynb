{
 "cells": [
  {
   "cell_type": "code",
   "execution_count": 85,
   "metadata": {},
   "outputs": [],
   "source": [
    "import copy\n",
    "import hashlib\n",
    "import re\n",
    "import string\n",
    "#from typing import Dict, List, Optional, Union\n",
    "import itertools\n",
    "import numpy as np\n",
    "\n",
    "def input(filename: str):\n",
    "    with open(filename, 'r') as input:\n",
    "        data = [x.strip() for x in input]\n",
    "\n",
    "    return data"
   ]
  },
  {
   "cell_type": "code",
   "execution_count": 87,
   "metadata": {},
   "outputs": [],
   "source": [
    "pw = 'abcde'\n",
    "\n",
    "commands = input('day21.txt')\n",
    "# commands = ['swap position 4 with position 0',\n",
    "#            'swap letter d with letter b',\n",
    "#            'reverse positions 0 through 4',\n",
    "#            'rotate left 1 step',\n",
    "#            'move position 1 to position 4',\n",
    "#            'move position 3 to position 0',\n",
    "#            'rotate based on position of letter b',\n",
    "#            'rotate based on position of letter d']"
   ]
  },
  {
   "cell_type": "code",
   "execution_count": 88,
   "metadata": {},
   "outputs": [],
   "source": [
    "def rotate(index, text):\n",
    "    newtext = text[index:] + text[0:index]\n",
    "    return newtext"
   ]
  },
  {
   "cell_type": "code",
   "execution_count": 89,
   "metadata": {},
   "outputs": [],
   "source": [
    "def scramble(text):\n",
    "    letters = list(text)\n",
    "    for com in commands:\n",
    "        c = com.split(' ')\n",
    "        x = c[2]\n",
    "        y = c[-1]\n",
    "\n",
    "        if c[0] == 'swap':\n",
    "            newtext = letters[:]\n",
    "            if c[1] == 'position':\n",
    "                newtext[int(x)] = letters[int(y)]\n",
    "                newtext[int(y)] = letters[int(x)]\n",
    "            if c[1] == 'letter':\n",
    "                newtext[letters.index(x)] = y\n",
    "                newtext[letters.index(y)] = x\n",
    "\n",
    "        if c[0] == 'rotate':\n",
    "            if c[1] == 'left':\n",
    "                newtext = rotate(int(x), letters)\n",
    "            if c[1] == 'right':\n",
    "                newtext = rotate(-int(x), letters)\n",
    "            if c[1] == 'based':\n",
    "                i = letters.index(y) + 1\n",
    "                if i >= 5:\n",
    "                    i += 1\n",
    "                i = i % len(letters)\n",
    "    #             print(index)\n",
    "                newtext = rotate(-i, letters)\n",
    "\n",
    "        if c[0] == 'reverse':\n",
    "            ss = letters[int(x):int(y) + 1]\n",
    "            #ss.reverse()\n",
    "            newtext[int(x):int(y) + 1] = ss[::-1]\n",
    "\n",
    "        if c[0] == 'move':\n",
    "            l = letters.pop(int(x))\n",
    "            letters.insert(int(y), l)\n",
    "            newtext = letters[:]\n",
    "\n",
    "\n",
    "        letters = newtext\n",
    "#         print(letters)\n",
    "        \n",
    "    return ''.join(letters)"
   ]
  },
  {
   "cell_type": "code",
   "execution_count": 91,
   "metadata": {},
   "outputs": [
    {
     "data": {
      "text/plain": [
       "'bdfhgeca'"
      ]
     },
     "execution_count": 91,
     "metadata": {},
     "output_type": "execute_result"
    }
   ],
   "source": [
    "scramble('abcdefgh')"
   ]
  },
  {
   "cell_type": "code",
   "execution_count": 83,
   "metadata": {},
   "outputs": [
    {
     "data": {
      "text/plain": [
       "<itertools.permutations at 0x10f6b3b48>"
      ]
     },
     "execution_count": 83,
     "metadata": {},
     "output_type": "execute_result"
    }
   ],
   "source": [
    "pws = itertools.permutations('abcdefgh')"
   ]
  },
  {
   "cell_type": "code",
   "execution_count": 92,
   "metadata": {},
   "outputs": [
    {
     "name": "stdout",
     "output_type": "stream",
     "text": [
      "('g', 'd', 'f', 'c', 'a', 'b', 'e', 'h')\n"
     ]
    }
   ],
   "source": [
    "for pw in pws:\n",
    "    if scramble(pw) == 'fbgdceah':\n",
    "        print(pw)"
   ]
  },
  {
   "cell_type": "code",
   "execution_count": null,
   "metadata": {},
   "outputs": [],
   "source": []
  }
 ],
 "metadata": {
  "kernelspec": {
   "display_name": "Python 3",
   "language": "python",
   "name": "python3"
  },
  "language_info": {
   "codemirror_mode": {
    "name": "ipython",
    "version": 3
   },
   "file_extension": ".py",
   "mimetype": "text/x-python",
   "name": "python",
   "nbconvert_exporter": "python",
   "pygments_lexer": "ipython3",
   "version": "3.6.9"
  }
 },
 "nbformat": 4,
 "nbformat_minor": 2
}
