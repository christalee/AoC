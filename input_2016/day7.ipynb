{
 "cells": [
  {
   "cell_type": "code",
   "execution_count": 178,
   "metadata": {
    "collapsed": true
   },
   "outputs": [],
   "source": [
    "addresses = open('day7_input', 'r')\n",
    "count = 0"
   ]
  },
  {
   "cell_type": "code",
   "execution_count": 179,
   "metadata": {},
   "outputs": [],
   "source": [
    "ips = [x.strip() for x in addresses]"
   ]
  },
  {
   "cell_type": "code",
   "execution_count": 180,
   "metadata": {},
   "outputs": [
    {
     "data": {
      "text/plain": [
       "False"
      ]
     },
     "execution_count": 180,
     "metadata": {},
     "output_type": "execute_result"
    }
   ],
   "source": [
    "def abba(s):\n",
    "#     tf = [(s[i] == s[i+1]) and (s[i-1] == s[i+2]) and (s[i] != s[i-1]) for i in range(1, len(s)-2)]\n",
    "#     return True in tf\n",
    "    tf = []\n",
    "    i = 1\n",
    "    while i < (len(s)-2):\n",
    "        tf.append((s[i] == s[i+1]) and (s[i-1] == s[i+2]) and (s[i] != s[i-1]))\n",
    "        i += 1\n",
    "    if True in tf:\n",
    "        return True\n",
    "    else:\n",
    "        return False\n",
    "\n",
    "abba('aaaa[qwer]tyui')"
   ]
  },
  {
   "cell_type": "code",
   "execution_count": 181,
   "metadata": {},
   "outputs": [
    {
     "data": {
      "text/plain": [
       "True"
      ]
     },
     "execution_count": 181,
     "metadata": {},
     "output_type": "execute_result"
    }
   ],
   "source": [
    "abba('abcd[bddb')"
   ]
  },
  {
   "cell_type": "code",
   "execution_count": 184,
   "metadata": {},
   "outputs": [
    {
     "name": "stdout",
     "output_type": "stream",
     "text": [
      "118\n"
     ]
    }
   ],
   "source": [
    "for i in ips:\n",
    "    outbs = []\n",
    "    inbs = []\n",
    "\n",
    "    # Split each string up by square brackets\n",
    "    x = i.split(']')\n",
    "    for y in x:\n",
    "        if '[' in y:\n",
    "            z = y.partition('[')\n",
    "            if abba(z[0]):\n",
    "                outbs.append(True)\n",
    "            if abba(z[2]):\n",
    "                inbs.append(True)\n",
    "        # Check the last segment too\n",
    "        elif abba(y):\n",
    "            outbs.append(True)\n",
    "    \n",
    "    if True in outbs and True not in inbs:\n",
    "        count += 1\n",
    "\n",
    "print count"
   ]
  },
  {
   "cell_type": "code",
   "execution_count": 174,
   "metadata": {},
   "outputs": [],
   "source": [
    "# NOTE: this checks the reverse of x against each y; maybe rename this or reverse before passing into the fn? or when generating trigrams?\n",
    "def matches(a, b):\n",
    "    return True in [True for x in a for y in b if x[::-1] == y]\n",
    "\n",
    "# matches(['abb', 'sys', 'aws'], ['xys', 'sss', 'bab'])"
   ]
  },
  {
   "cell_type": "code",
   "execution_count": 175,
   "metadata": {},
   "outputs": [
    {
     "data": {
      "text/plain": [
       "['ab', 'ba']"
      ]
     },
     "execution_count": 175,
     "metadata": {},
     "output_type": "execute_result"
    }
   ],
   "source": [
    "def xyx(s):\n",
    "    trigrams = [s[i-1:i+1] for i in range(1, len(s)-1) if (s[i-1] == s[i+1]) and (s[i] != s[i-1])]\n",
    "    return trigrams\n",
    "\n",
    "xyx('aba[bab]xyz')"
   ]
  },
  {
   "cell_type": "code",
   "execution_count": 176,
   "metadata": {},
   "outputs": [
    {
     "data": {
      "text/plain": [
       "['ru', 'ur']"
      ]
     },
     "execution_count": 176,
     "metadata": {},
     "output_type": "execute_result"
    }
   ],
   "source": [
    "xyx('aaa[rur]uru')"
   ]
  },
  {
   "cell_type": "code",
   "execution_count": 177,
   "metadata": {},
   "outputs": [
    {
     "name": "stdout",
     "output_type": "stream",
     "text": [
      "260\n"
     ]
    }
   ],
   "source": [
    "for i in ips:\n",
    "    outbs = []\n",
    "    inbs = []\n",
    "    \n",
    "    # Split each string up by square brackets\n",
    "    x = i.split(']')\n",
    "    for y in x:\n",
    "        if '[' in y:\n",
    "            z = y.partition('[')\n",
    "            # Collect valid trigrams found outside square brackets\n",
    "            outbs.extend(xyx(z[0]))\n",
    "            # Ditto, inside square brackets\n",
    "            inbs.extend(xyx(z[2]))\n",
    "        #what to do if '[' isn't found (last segment)\n",
    "        else:\n",
    "            outbs.extend(xyx(y))\n",
    "\n",
    "    if matches(outbs, inbs):\n",
    "        count += 1\n",
    "        \n",
    "print count"
   ]
  },
  {
   "cell_type": "code",
   "execution_count": null,
   "metadata": {
    "collapsed": true
   },
   "outputs": [],
   "source": []
  }
 ],
 "metadata": {
  "kernelspec": {
   "display_name": "Python 2",
   "language": "python",
   "name": "python2"
  },
  "language_info": {
   "codemirror_mode": {
    "name": "ipython",
    "version": 2
   },
   "file_extension": ".py",
   "mimetype": "text/x-python",
   "name": "python",
   "nbconvert_exporter": "python",
   "pygments_lexer": "ipython2",
   "version": "2.7.13"
  }
 },
 "nbformat": 4,
 "nbformat_minor": 2
}
