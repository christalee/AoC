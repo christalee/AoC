{
 "cells": [
  {
   "cell_type": "code",
   "execution_count": 44,
   "metadata": {},
   "outputs": [],
   "source": [
    "def input(filename: str):\n",
    "    with open(filename, 'r') as input:\n",
    "        data = [x.strip() for x in input]\n",
    "\n",
    "    return data"
   ]
  },
  {
   "cell_type": "code",
   "execution_count": 55,
   "metadata": {},
   "outputs": [],
   "source": [
    "p1 = {'a': 8, 'b': 0, 'c': 0, 'd': 0}\n",
    "# commands = [\"cpy 2 a\",\"tgl a\",\"tgl a\",\"tgl a\",\"cpy 1 a\",\"dec a\",\"dec a\"]\n",
    "commands = input('day23.txt')"
   ]
  },
  {
   "cell_type": "code",
   "execution_count": 49,
   "metadata": {},
   "outputs": [],
   "source": [
    "# Commands:\n",
    "# 'cpy x y' copies x (either an integer or the value of a register) into register y.\n",
    "# 'inc x' increases the value of register x by one.\n",
    "# 'dec x' decreases the value of register x by one.\n",
    "# 'jnz x y' jumps to an instruction y away (positive means forward; negative means backward), but only if x is not zero.\n",
    "\n",
    "\n",
    "# Instructions are followed in order from the beginning until no more remain; use i to track progress through the list\n",
    "def assemble(reg):\n",
    "    i = 0\n",
    "\n",
    "    while i < len(commands):\n",
    "        if i % 10 == 0:\n",
    "            print(reg)\n",
    "        c = commands[i].split(' ')\n",
    "        if c[0] == 'cpy':\n",
    "            if c[1] in reg.keys():\n",
    "                reg[c[2]] = reg[c[1]]\n",
    "            else:\n",
    "                reg[c[2]] = int(c[1])\n",
    "            i += 1\n",
    "\n",
    "        if c[0] == 'inc':\n",
    "            reg[c[1]] += 1\n",
    "            i += 1\n",
    "\n",
    "        if c[0] == 'dec':\n",
    "            reg[c[1]] -= 1\n",
    "            i += 1\n",
    "\n",
    "        if c[0] == 'jnz':\n",
    "            if c[1] in reg.keys():\n",
    "                c1 = reg[c[1]]\n",
    "            else:\n",
    "                c1 = int(c[1])\n",
    "            \n",
    "            if c[2] in reg.keys():\n",
    "                c2 = reg[c[2]]\n",
    "            else:\n",
    "                c2 = int(c[2])\n",
    "            \n",
    "            if not c1  == 0:\n",
    "                i += c2\n",
    "            else:\n",
    "                i += 1\n",
    "\n",
    "        if c[0] == 'tgl':\n",
    "            if c[1] in reg.keys():\n",
    "                n = reg[c[1]]\n",
    "            else:\n",
    "                n = int(c[1])\n",
    "            \n",
    "            if i + n < len(commands):\n",
    "                ins = commands[i + n]\n",
    "            \n",
    "                if 'inc' in ins:\n",
    "                    m = ins.replace('inc', 'dec')\n",
    "                if 'dec' in ins:\n",
    "                    m = ins.replace('dec', 'inc')\n",
    "                if 'tgl' in ins:\n",
    "                    m = ins.replace('tgl', 'inc')\n",
    "                if 'cpy' in ins:\n",
    "                    m = ins.replace('cpy', 'jnz')\n",
    "                if 'jnz' in ins:\n",
    "                    m = ins.replace('jnz', 'cpy')\n",
    "\n",
    "                commands[i+n] = m\n",
    "           \n",
    "            i += 1\n",
    "        \n",
    "#         print(commands)\n",
    "    return reg['a']"
   ]
  },
  {
   "cell_type": "code",
   "execution_count": 56,
   "metadata": {},
   "outputs": [
    {
     "name": "stdout",
     "output_type": "stream",
     "text": [
      "{'a': 8, 'b': 0, 'c': 0, 'd': 0}\n",
      "{'a': 56, 'b': 7, 'c': 0, 'd': 0}\n",
      "{'a': 336, 'b': 6, 'c': 0, 'd': 0}\n",
      "{'a': 1680, 'b': 5, 'c': 0, 'd': 0}\n",
      "{'a': 6720, 'b': 4, 'c': 0, 'd': 0}\n",
      "{'a': 20160, 'b': 3, 'c': 0, 'd': 0}\n",
      "{'a': 40320, 'b': 2, 'c': 0, 'd': 0}\n",
      "{'a': 40320, 'b': 1, 'c': 85, 'd': 0}\n",
      "{'a': 40396, 'b': 1, 'c': 84, 'd': 0}\n",
      "{'a': 40472, 'b': 1, 'c': 83, 'd': 0}\n",
      "{'a': 40548, 'b': 1, 'c': 82, 'd': 0}\n",
      "{'a': 40624, 'b': 1, 'c': 81, 'd': 0}\n",
      "{'a': 40700, 'b': 1, 'c': 80, 'd': 0}\n",
      "{'a': 40776, 'b': 1, 'c': 79, 'd': 0}\n",
      "{'a': 40852, 'b': 1, 'c': 78, 'd': 0}\n",
      "{'a': 40928, 'b': 1, 'c': 77, 'd': 0}\n",
      "{'a': 41004, 'b': 1, 'c': 76, 'd': 0}\n",
      "{'a': 41080, 'b': 1, 'c': 75, 'd': 0}\n",
      "{'a': 41156, 'b': 1, 'c': 74, 'd': 0}\n",
      "{'a': 41232, 'b': 1, 'c': 73, 'd': 0}\n",
      "{'a': 41308, 'b': 1, 'c': 72, 'd': 0}\n",
      "{'a': 41384, 'b': 1, 'c': 71, 'd': 0}\n",
      "{'a': 41460, 'b': 1, 'c': 70, 'd': 0}\n",
      "{'a': 41536, 'b': 1, 'c': 69, 'd': 0}\n",
      "{'a': 41612, 'b': 1, 'c': 68, 'd': 0}\n",
      "{'a': 41688, 'b': 1, 'c': 67, 'd': 0}\n",
      "{'a': 41764, 'b': 1, 'c': 66, 'd': 0}\n",
      "{'a': 41840, 'b': 1, 'c': 65, 'd': 0}\n",
      "{'a': 41916, 'b': 1, 'c': 64, 'd': 0}\n",
      "{'a': 41992, 'b': 1, 'c': 63, 'd': 0}\n",
      "{'a': 42068, 'b': 1, 'c': 62, 'd': 0}\n",
      "{'a': 42144, 'b': 1, 'c': 61, 'd': 0}\n",
      "{'a': 42220, 'b': 1, 'c': 60, 'd': 0}\n",
      "{'a': 42296, 'b': 1, 'c': 59, 'd': 0}\n",
      "{'a': 42372, 'b': 1, 'c': 58, 'd': 0}\n",
      "{'a': 42448, 'b': 1, 'c': 57, 'd': 0}\n",
      "{'a': 42524, 'b': 1, 'c': 56, 'd': 0}\n",
      "{'a': 42600, 'b': 1, 'c': 55, 'd': 0}\n",
      "{'a': 42676, 'b': 1, 'c': 54, 'd': 0}\n",
      "{'a': 42752, 'b': 1, 'c': 53, 'd': 0}\n",
      "{'a': 42828, 'b': 1, 'c': 52, 'd': 0}\n",
      "{'a': 42904, 'b': 1, 'c': 51, 'd': 0}\n",
      "{'a': 42980, 'b': 1, 'c': 50, 'd': 0}\n",
      "{'a': 43056, 'b': 1, 'c': 49, 'd': 0}\n",
      "{'a': 43132, 'b': 1, 'c': 48, 'd': 0}\n",
      "{'a': 43208, 'b': 1, 'c': 47, 'd': 0}\n",
      "{'a': 43284, 'b': 1, 'c': 46, 'd': 0}\n",
      "{'a': 43360, 'b': 1, 'c': 45, 'd': 0}\n",
      "{'a': 43436, 'b': 1, 'c': 44, 'd': 0}\n",
      "{'a': 43512, 'b': 1, 'c': 43, 'd': 0}\n",
      "{'a': 43588, 'b': 1, 'c': 42, 'd': 0}\n",
      "{'a': 43664, 'b': 1, 'c': 41, 'd': 0}\n",
      "{'a': 43740, 'b': 1, 'c': 40, 'd': 0}\n",
      "{'a': 43816, 'b': 1, 'c': 39, 'd': 0}\n",
      "{'a': 43892, 'b': 1, 'c': 38, 'd': 0}\n",
      "{'a': 43968, 'b': 1, 'c': 37, 'd': 0}\n",
      "{'a': 44044, 'b': 1, 'c': 36, 'd': 0}\n",
      "{'a': 44120, 'b': 1, 'c': 35, 'd': 0}\n",
      "{'a': 44196, 'b': 1, 'c': 34, 'd': 0}\n",
      "{'a': 44272, 'b': 1, 'c': 33, 'd': 0}\n",
      "{'a': 44348, 'b': 1, 'c': 32, 'd': 0}\n",
      "{'a': 44424, 'b': 1, 'c': 31, 'd': 0}\n",
      "{'a': 44500, 'b': 1, 'c': 30, 'd': 0}\n",
      "{'a': 44576, 'b': 1, 'c': 29, 'd': 0}\n",
      "{'a': 44652, 'b': 1, 'c': 28, 'd': 0}\n",
      "{'a': 44728, 'b': 1, 'c': 27, 'd': 0}\n",
      "{'a': 44804, 'b': 1, 'c': 26, 'd': 0}\n",
      "{'a': 44880, 'b': 1, 'c': 25, 'd': 0}\n",
      "{'a': 44956, 'b': 1, 'c': 24, 'd': 0}\n",
      "{'a': 45032, 'b': 1, 'c': 23, 'd': 0}\n",
      "{'a': 45108, 'b': 1, 'c': 22, 'd': 0}\n",
      "{'a': 45184, 'b': 1, 'c': 21, 'd': 0}\n",
      "{'a': 45260, 'b': 1, 'c': 20, 'd': 0}\n",
      "{'a': 45336, 'b': 1, 'c': 19, 'd': 0}\n",
      "{'a': 45412, 'b': 1, 'c': 18, 'd': 0}\n",
      "{'a': 45488, 'b': 1, 'c': 17, 'd': 0}\n",
      "{'a': 45564, 'b': 1, 'c': 16, 'd': 0}\n",
      "{'a': 45640, 'b': 1, 'c': 15, 'd': 0}\n",
      "{'a': 45716, 'b': 1, 'c': 14, 'd': 0}\n",
      "{'a': 45792, 'b': 1, 'c': 13, 'd': 0}\n",
      "{'a': 45868, 'b': 1, 'c': 12, 'd': 0}\n",
      "{'a': 45944, 'b': 1, 'c': 11, 'd': 0}\n",
      "{'a': 46020, 'b': 1, 'c': 10, 'd': 0}\n",
      "{'a': 46096, 'b': 1, 'c': 9, 'd': 0}\n",
      "{'a': 46172, 'b': 1, 'c': 8, 'd': 0}\n",
      "{'a': 46248, 'b': 1, 'c': 7, 'd': 0}\n",
      "{'a': 46324, 'b': 1, 'c': 6, 'd': 0}\n",
      "{'a': 46400, 'b': 1, 'c': 5, 'd': 0}\n",
      "{'a': 46476, 'b': 1, 'c': 4, 'd': 0}\n",
      "{'a': 46552, 'b': 1, 'c': 3, 'd': 0}\n",
      "{'a': 46628, 'b': 1, 'c': 2, 'd': 0}\n",
      "{'a': 46704, 'b': 1, 'c': 1, 'd': 0}\n"
     ]
    },
    {
     "data": {
      "text/plain": [
       "46780"
      ]
     },
     "execution_count": 56,
     "metadata": {},
     "output_type": "execute_result"
    }
   ],
   "source": [
    "assemble(p1)"
   ]
  },
  {
   "cell_type": "code",
   "execution_count": 40,
   "metadata": {},
   "outputs": [
    {
     "data": {
      "text/plain": [
       "{'a': 11500, 'b': 1, 'c': 0, 'd': 0}"
      ]
     },
     "execution_count": 40,
     "metadata": {},
     "output_type": "execute_result"
    }
   ],
   "source": [
    "# the result is factorial(a) + 85*76"
   ]
  },
  {
   "cell_type": "code",
   "execution_count": null,
   "metadata": {},
   "outputs": [],
   "source": []
  }
 ],
 "metadata": {
  "kernelspec": {
   "display_name": "Python 3",
   "language": "python",
   "name": "python3"
  },
  "language_info": {
   "codemirror_mode": {
    "name": "ipython",
    "version": 3
   },
   "file_extension": ".py",
   "mimetype": "text/x-python",
   "name": "python",
   "nbconvert_exporter": "python",
   "pygments_lexer": "ipython3",
   "version": "3.6.9"
  }
 },
 "nbformat": 4,
 "nbformat_minor": 2
}
