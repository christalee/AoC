{
 "cells": [
  {
   "cell_type": "code",
   "execution_count": 1,
   "metadata": {},
   "outputs": [],
   "source": [
    "def input(filename: str):\n",
    "    with open(filename, 'r') as input:\n",
    "        data = [x.strip() for x in input]\n",
    "\n",
    "    return data"
   ]
  },
  {
   "cell_type": "code",
   "execution_count": 49,
   "metadata": {},
   "outputs": [],
   "source": [
    "# Commands:\n",
    "# 'cpy x y' copies x (either an integer or the value of a register) into register y.\n",
    "# 'inc x' increases the value of register x by one.\n",
    "# 'dec x' decreases the value of register x by one.\n",
    "# 'jnz x y' jumps to an instruction y away (positive means forward; negative means backward), but only if x is not zero.\n",
    "\n",
    "\n",
    "# Instructions are followed in order from the beginning until no more remain; use i to track progress through the list\n",
    "def assemble(reg):\n",
    "    i = 0\n",
    "    s = []\n",
    "\n",
    "    while len(s) < 100:\n",
    "        c = commands[i].split(' ')\n",
    "        \n",
    "        if c[0] == 'cpy':\n",
    "            if c[1] in reg.keys():\n",
    "                reg[c[2]] = reg[c[1]]\n",
    "            else:\n",
    "                reg[c[2]] = int(c[1])\n",
    "            i += 1\n",
    "\n",
    "        if c[0] == 'inc':\n",
    "            reg[c[1]] += 1\n",
    "            i += 1\n",
    "\n",
    "        if c[0] == 'dec':\n",
    "            reg[c[1]] -= 1\n",
    "            i += 1\n",
    "\n",
    "        if c[0] == 'jnz':\n",
    "            if c[1] in reg.keys():\n",
    "                c1 = reg[c[1]]\n",
    "            else:\n",
    "                c1 = int(c[1])\n",
    "            \n",
    "            if c[2] in reg.keys():\n",
    "                c2 = reg[c[2]]\n",
    "            else:\n",
    "                c2 = int(c[2])\n",
    "            \n",
    "            if not c1  == 0:\n",
    "                i += c2\n",
    "            else:\n",
    "                i += 1\n",
    "\n",
    "#         if c[0] == 'tgl':\n",
    "#             if c[1] in reg.keys():\n",
    "#                 n = reg[c[1]]\n",
    "#             else:\n",
    "#                 n = int(c[1])\n",
    "            \n",
    "#             if i + n < len(commands):\n",
    "#                 ins = commands[i + n]\n",
    "            \n",
    "#                 if 'inc' in ins:\n",
    "#                     m = ins.replace('inc', 'dec')\n",
    "#                 if 'dec' in ins:\n",
    "#                     m = ins.replace('dec', 'inc')\n",
    "#                 if 'tgl' in ins:\n",
    "#                     m = ins.replace('tgl', 'inc')\n",
    "#                 if 'cpy' in ins:\n",
    "#                     m = ins.replace('cpy', 'jnz')\n",
    "#                 if 'jnz' in ins:\n",
    "#                     m = ins.replace('jnz', 'cpy')\n",
    "\n",
    "#                 commands[i+n] = m\n",
    "           \n",
    "#             i += 1\n",
    "        \n",
    "        if c[0] == 'out':\n",
    "            if c[1] in reg.keys():\n",
    "                n = reg[c[1]]\n",
    "            else:\n",
    "                n = int(c[1])\n",
    "            s.append(n)\n",
    "            i += 1\n",
    "        \n",
    "#         if x % 100 == 0:\n",
    "#             print(reg)\n",
    "#         x += 1\n",
    "    return s"
   ]
  },
  {
   "cell_type": "code",
   "execution_count": 50,
   "metadata": {},
   "outputs": [],
   "source": [
    "# p1 = {'a': 0, 'b': 0, 'c': 0, 'd': 0}\n",
    "# commands = [\"cpy 2 a\",\"tgl a\",\"tgl a\",\"tgl a\",\"cpy 1 a\",\"dec a\",\"dec a\"]\n",
    "commands = input('day25.txt')"
   ]
  },
  {
   "cell_type": "code",
   "execution_count": 54,
   "metadata": {},
   "outputs": [
    {
     "name": "stdout",
     "output_type": "stream",
     "text": [
      "175\n"
     ]
    }
   ],
   "source": [
    "for x in range(500):\n",
    "    p = {'a': x, 'b': 0, 'c': 0, 'd': 0}\n",
    "    signal = assemble(p)\n",
    "    if signal == [0, 1] * 50:\n",
    "        print(x)\n",
    "        break"
   ]
  },
  {
   "cell_type": "code",
   "execution_count": 40,
   "metadata": {},
   "outputs": [
    {
     "data": {
      "text/plain": [
       "{'a': 11500, 'b': 1, 'c': 0, 'd': 0}"
      ]
     },
     "execution_count": 40,
     "metadata": {},
     "output_type": "execute_result"
    }
   ],
   "source": [
    "# cpy a d\n",
    "# cpy 7 c\n",
    "# cpy 365 b\n",
    "a, 365, 7, a\n",
    "# inc d\n",
    "# dec b\n",
    "# jnz b -2\n",
    "a, 0, 7, a + 365\n",
    "# dec c\n",
    "# jnz c -5\n",
    "a, 0, 0, 7 * (a + 365)\n",
    "# cpy d a\n",
    "# jnz 0 0\n",
    "# cpy a b\n",
    "# cpy 0 a\n",
    "# cpy 2 c\n",
    "0, 7 * (a + 365), 2, 7 * (a + 365)\n",
    "# jnz b 2\n",
    "# jnz 1 6\n",
    "# dec b\n",
    "# dec c\n",
    "# jnz c -4\n",
    "0, 7 * (a + 365) - 2, 0, 7 * (a + 365)\n",
    "# inc a\n",
    "# jnz 1 -7\n",
    "# cpy 2 b\n",
    "# jnz c 2\n",
    "# jnz 1 4\n",
    "# dec b\n",
    "# dec c\n",
    "# jnz 1 -4\n",
    "# jnz 0 0\n",
    "# out b\n",
    "# jnz a -19\n",
    "# jnz 1 -21"
   ]
  }
 ],
 "metadata": {
  "kernelspec": {
   "display_name": "Python 3",
   "language": "python",
   "name": "python3"
  },
  "language_info": {
   "codemirror_mode": {
    "name": "ipython",
    "version": 3
   },
   "file_extension": ".py",
   "mimetype": "text/x-python",
   "name": "python",
   "nbconvert_exporter": "python",
   "pygments_lexer": "ipython3",
   "version": "3.6.9"
  }
 },
 "nbformat": 4,
 "nbformat_minor": 2
}
