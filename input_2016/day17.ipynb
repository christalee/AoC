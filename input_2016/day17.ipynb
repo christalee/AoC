{
 "cells": [
  {
   "cell_type": "code",
   "execution_count": null,
   "metadata": {},
   "outputs": [],
   "source": [
    "import hashlib, copy\n",
    "\n",
    "path = ''\n",
    "seed = 'ihgpwlah'\n",
    "# seed = 'kglvqrro'\n",
    "# seed = 'ulqzkmiv'\n",
    "# seed = 'yjjvjgan'\n",
    "location = [0, 0]\n",
    "\n",
    "pathlist = {path: location}"
   ]
  },
  {
   "cell_type": "code",
   "execution_count": null,
   "metadata": {},
   "outputs": [],
   "source": [
    "def pathfind(pathlist):\n",
    "    results = []\n",
    "    newpaths = {}\n",
    "    for (path, location) in pathlist.items():\n",
    "        if location == [3, 3]:\n",
    "            results.append(path)\n",
    "            print(path)\n",
    "        else:\n",
    "            m = hashlib.md5()\n",
    "            m.update((seed + path).encode())\n",
    "            doors = [x in 'bcdef' for x in m.hexdigest().lower()[0:4]]\n",
    "            options = [d[0] for d in list(zip('UDLR', doors)) if d[1]]\n",
    "\n",
    "            for o in options:\n",
    "                q = copy.deepcopy(location)\n",
    "                if o == \"U\":\n",
    "                    if q[1] == 0:\n",
    "                        pass\n",
    "                    else:\n",
    "                        q[1] -= 1\n",
    "                if o == \"D\":\n",
    "                    if q[1] == 3:\n",
    "                        pass\n",
    "                    else:\n",
    "                        q[1] += 1\n",
    "                if o == \"R\":\n",
    "                    if q[0] == 3:\n",
    "                        pass\n",
    "                    else:\n",
    "                        q[0] += 1\n",
    "                if o == \"L\":\n",
    "                    if q[0] == 0:\n",
    "                        pass\n",
    "                    else:\n",
    "                        q[0] -= 1\n",
    "                \n",
    "                p = path + o\n",
    "                newpaths[p] = q\n",
    "    \n",
    "    return newpaths"
   ]
  },
  {
   "cell_type": "code",
   "execution_count": null,
   "metadata": {},
   "outputs": [],
   "source": [
    "for x in range(500):\n",
    "    pathlist = pathfind(pathlist)"
   ]
  },
  {
   "cell_type": "code",
   "execution_count": null,
   "metadata": {},
   "outputs": [],
   "source": [
    "pathlist"
   ]
  },
  {
   "cell_type": "code",
   "execution_count": null,
   "metadata": {},
   "outputs": [],
   "source": [
    "def doorcheck(quad):\n",
    "    doors = [x in 'bcdef' for x in quad]\n",
    "    return list(zip('UDLR', doors))\n",
    "\n",
    "def nextstep(path):\n",
    "    m = hashlib.md5()\n",
    "    m.update((seed + path).encode())\n",
    "    options = [path + d[0] for d in doorcheck(m.hexdigest().lower()[0:4]) if d[1]]\n",
    "    \n",
    "    return options\n",
    "\n",
    "def pathfind(pathlist):\n",
    "    newpaths = []\n",
    "    [newpaths.extend(nextstep(p)) for p in plist]\n",
    "    return newpaths"
   ]
  },
  {
   "cell_type": "code",
   "execution_count": null,
   "metadata": {},
   "outputs": [],
   "source": [
    "newpaths"
   ]
  }
 ],
 "metadata": {
  "kernelspec": {
   "display_name": "Python 3",
   "language": "python",
   "name": "python3"
  },
  "language_info": {
   "codemirror_mode": {
    "name": "ipython",
    "version": 3
   },
   "file_extension": ".py",
   "mimetype": "text/x-python",
   "name": "python",
   "nbconvert_exporter": "python",
   "pygments_lexer": "ipython3",
   "version": "3.6.8"
  }
 },
 "nbformat": 4,
 "nbformat_minor": 2
}
