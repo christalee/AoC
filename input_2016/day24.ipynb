{
 "cells": [
  {
   "cell_type": "code",
   "execution_count": 1,
   "metadata": {},
   "outputs": [],
   "source": [
    "import numpy as np\n",
    "import random, copy, itertools\n",
    "import pandas as pd"
   ]
  },
  {
   "cell_type": "code",
   "execution_count": 2,
   "metadata": {},
   "outputs": [],
   "source": [
    "def input(filename):\n",
    "    with open(filename, 'r') as input:\n",
    "        data = [x.strip() for x in input]\n",
    "\n",
    "    return data"
   ]
  },
  {
   "cell_type": "code",
   "execution_count": 3,
   "metadata": {},
   "outputs": [],
   "source": [
    "def pathfind(border):\n",
    "    global d, visited\n",
    "    newborder = []\n",
    "    for p in border:\n",
    "        if p == goal:\n",
    "            return d\n",
    "        else:\n",
    "            newborder.extend(nextstep(p))\n",
    "    \n",
    "    d += 1\n",
    "    visited = visited | set(newborder)\n",
    "    return list(set(newborder))\n",
    "\n",
    "def nextstep(point):\n",
    "    x, y = point\n",
    "    around = [a for a in [(x + 1, y), (x - 1, y), (x, y + 1), (x, y - 1)]\n",
    "              if (maze[a] != \"#\" and a not in visited)]\n",
    "\n",
    "    return around"
   ]
  },
  {
   "cell_type": "code",
   "execution_count": 39,
   "metadata": {},
   "outputs": [],
   "source": [
    "# example = [\"###########\",\n",
    "# \"#0.1.....2#\",\n",
    "# \"#.#######.#\",\n",
    "# \"#4.......3#\",\n",
    "# \"###########\"]\n",
    "\n",
    "example = input('day24.txt')\n",
    "chars = list(map(list, example))\n",
    "maze = np.array(chars, ndmin=2)"
   ]
  },
  {
   "cell_type": "code",
   "execution_count": 40,
   "metadata": {},
   "outputs": [],
   "source": [
    "goals = {}\n",
    "it = np.nditer(maze, flags=[\"multi_index\"], op_flags=['readwrite'])\n",
    "while not it.finished:\n",
    "    if np.char.isdecimal(it[0]):\n",
    "        goals[int(it[0])] = it.multi_index\n",
    "    it.iternext()"
   ]
  },
  {
   "cell_type": "code",
   "execution_count": 19,
   "metadata": {},
   "outputs": [],
   "source": [
    "g = list(goals.keys())\n",
    "g.sort()\n",
    "distances = pd.DataFrame(columns = g, index = g)"
   ]
  },
  {
   "cell_type": "code",
   "execution_count": 41,
   "metadata": {},
   "outputs": [
    {
     "data": {
      "text/plain": [
       "{0: (5, 135),\n",
       " 3: (7, 17),\n",
       " 1: (15, 139),\n",
       " 2: (21, 1),\n",
       " 7: (25, 159),\n",
       " 4: (33, 23),\n",
       " 6: (41, 175),\n",
       " 5: (43, 37)}"
      ]
     },
     "execution_count": 41,
     "metadata": {},
     "output_type": "execute_result"
    }
   ],
   "source": [
    "goals"
   ]
  },
  {
   "cell_type": "code",
   "execution_count": 20,
   "metadata": {},
   "outputs": [],
   "source": [
    "for x in g:\n",
    "    for y in g:\n",
    "        if pd.isna(distances.loc[x, y]):\n",
    "            visited = set([goals[x]])\n",
    "            goal = goals[y]\n",
    "            d = 0\n",
    "            frontier = [goals[x]]\n",
    "            \n",
    "            while not isinstance(frontier, int):\n",
    "                frontier = pathfind(frontier)\n",
    "            \n",
    "            distances.loc[x, y] = frontier\n",
    "            distances.loc[y, x] = frontier\n",
    "#             print(x, y, frontier)"
   ]
  },
  {
   "cell_type": "code",
   "execution_count": 21,
   "metadata": {},
   "outputs": [
    {
     "data": {
      "text/html": [
       "<div>\n",
       "<style scoped>\n",
       "    .dataframe tbody tr th:only-of-type {\n",
       "        vertical-align: middle;\n",
       "    }\n",
       "\n",
       "    .dataframe tbody tr th {\n",
       "        vertical-align: top;\n",
       "    }\n",
       "\n",
       "    .dataframe thead th {\n",
       "        text-align: right;\n",
       "    }\n",
       "</style>\n",
       "<table border=\"1\" class=\"dataframe\">\n",
       "  <thead>\n",
       "    <tr style=\"text-align: right;\">\n",
       "      <th></th>\n",
       "      <th>0</th>\n",
       "      <th>1</th>\n",
       "      <th>2</th>\n",
       "      <th>3</th>\n",
       "      <th>4</th>\n",
       "      <th>5</th>\n",
       "      <th>6</th>\n",
       "      <th>7</th>\n",
       "    </tr>\n",
       "  </thead>\n",
       "  <tbody>\n",
       "    <tr>\n",
       "      <th>0</th>\n",
       "      <td>0</td>\n",
       "      <td>26</td>\n",
       "      <td>206</td>\n",
       "      <td>184</td>\n",
       "      <td>180</td>\n",
       "      <td>160</td>\n",
       "      <td>96</td>\n",
       "      <td>60</td>\n",
       "    </tr>\n",
       "    <tr>\n",
       "      <th>1</th>\n",
       "      <td>26</td>\n",
       "      <td>0</td>\n",
       "      <td>216</td>\n",
       "      <td>194</td>\n",
       "      <td>190</td>\n",
       "      <td>170</td>\n",
       "      <td>98</td>\n",
       "      <td>58</td>\n",
       "    </tr>\n",
       "    <tr>\n",
       "      <th>2</th>\n",
       "      <td>206</td>\n",
       "      <td>216</td>\n",
       "      <td>0</td>\n",
       "      <td>34</td>\n",
       "      <td>62</td>\n",
       "      <td>98</td>\n",
       "      <td>290</td>\n",
       "      <td>250</td>\n",
       "    </tr>\n",
       "    <tr>\n",
       "      <th>3</th>\n",
       "      <td>184</td>\n",
       "      <td>194</td>\n",
       "      <td>34</td>\n",
       "      <td>0</td>\n",
       "      <td>48</td>\n",
       "      <td>80</td>\n",
       "      <td>268</td>\n",
       "      <td>228</td>\n",
       "    </tr>\n",
       "    <tr>\n",
       "      <th>4</th>\n",
       "      <td>180</td>\n",
       "      <td>190</td>\n",
       "      <td>62</td>\n",
       "      <td>48</td>\n",
       "      <td>0</td>\n",
       "      <td>44</td>\n",
       "      <td>264</td>\n",
       "      <td>224</td>\n",
       "    </tr>\n",
       "    <tr>\n",
       "      <th>5</th>\n",
       "      <td>160</td>\n",
       "      <td>170</td>\n",
       "      <td>98</td>\n",
       "      <td>80</td>\n",
       "      <td>44</td>\n",
       "      <td>0</td>\n",
       "      <td>240</td>\n",
       "      <td>204</td>\n",
       "    </tr>\n",
       "    <tr>\n",
       "      <th>6</th>\n",
       "      <td>96</td>\n",
       "      <td>98</td>\n",
       "      <td>290</td>\n",
       "      <td>268</td>\n",
       "      <td>264</td>\n",
       "      <td>240</td>\n",
       "      <td>0</td>\n",
       "      <td>68</td>\n",
       "    </tr>\n",
       "    <tr>\n",
       "      <th>7</th>\n",
       "      <td>60</td>\n",
       "      <td>58</td>\n",
       "      <td>250</td>\n",
       "      <td>228</td>\n",
       "      <td>224</td>\n",
       "      <td>204</td>\n",
       "      <td>68</td>\n",
       "      <td>0</td>\n",
       "    </tr>\n",
       "  </tbody>\n",
       "</table>\n",
       "</div>"
      ],
      "text/plain": [
       "     0    1    2    3    4    5    6    7\n",
       "0    0   26  206  184  180  160   96   60\n",
       "1   26    0  216  194  190  170   98   58\n",
       "2  206  216    0   34   62   98  290  250\n",
       "3  184  194   34    0   48   80  268  228\n",
       "4  180  190   62   48    0   44  264  224\n",
       "5  160  170   98   80   44    0  240  204\n",
       "6   96   98  290  268  264  240    0   68\n",
       "7   60   58  250  228  224  204   68    0"
      ]
     },
     "execution_count": 21,
     "metadata": {},
     "output_type": "execute_result"
    }
   ],
   "source": [
    "distances"
   ]
  },
  {
   "cell_type": "code",
   "execution_count": 22,
   "metadata": {},
   "outputs": [],
   "source": [
    "g.remove(0)\n",
    "x = itertools.permutations(g)"
   ]
  },
  {
   "cell_type": "code",
   "execution_count": 23,
   "metadata": {},
   "outputs": [],
   "source": [
    "trips = {}\n",
    "rounds = {}\n",
    "for itinerary in x:\n",
    "    itinerary = (0,) + itinerary\n",
    "    d = 0\n",
    "    for i, s in enumerate(itinerary):\n",
    "        if i+1 < len(itinerary):\n",
    "            d += int(distances.loc[s, itinerary[i+1]])\n",
    "    trips[itinerary] = d\n",
    "    rounds[itinerary] = d + int(distances.loc[itinerary[-1], 0])"
   ]
  },
  {
   "cell_type": "code",
   "execution_count": 24,
   "metadata": {},
   "outputs": [],
   "source": [
    "t = sorted(trips, key=lambda x: trips[x])\n",
    "r = sorted(rounds, key=lambda x: rounds[x])"
   ]
  },
  {
   "cell_type": "code",
   "execution_count": 25,
   "metadata": {},
   "outputs": [
    {
     "data": {
      "text/plain": [
       "518"
      ]
     },
     "execution_count": 25,
     "metadata": {},
     "output_type": "execute_result"
    }
   ],
   "source": [
    "trips[t[0]]"
   ]
  },
  {
   "cell_type": "code",
   "execution_count": 26,
   "metadata": {},
   "outputs": [
    {
     "data": {
      "text/plain": [
       "716"
      ]
     },
     "execution_count": 26,
     "metadata": {},
     "output_type": "execute_result"
    }
   ],
   "source": [
    "rounds[r[0]]"
   ]
  },
  {
   "cell_type": "code",
   "execution_count": null,
   "metadata": {},
   "outputs": [],
   "source": []
  }
 ],
 "metadata": {
  "kernelspec": {
   "display_name": "Python 3",
   "language": "python",
   "name": "python3"
  },
  "language_info": {
   "codemirror_mode": {
    "name": "ipython",
    "version": 3
   },
   "file_extension": ".py",
   "mimetype": "text/x-python",
   "name": "python",
   "nbconvert_exporter": "python",
   "pygments_lexer": "ipython3",
   "version": "3.6.9"
  }
 },
 "nbformat": 4,
 "nbformat_minor": 2
}
