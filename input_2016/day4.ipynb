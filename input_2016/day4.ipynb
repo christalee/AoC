{
 "cells": [
  {
   "cell_type": "code",
   "execution_count": 1,
   "metadata": {
    "collapsed": true
   },
   "outputs": [],
   "source": [
    "import string\n",
    "\n",
    "rooms = open('day4_input', 'r')\n",
    "\n",
    "idsum = 0\n",
    "realnames = []\n",
    "\n",
    "# Start with each room name in a list of strings\n",
    "r = [y for x in rooms for y in x.split()]"
   ]
  },
  {
   "cell_type": "code",
   "execution_count": 4,
   "metadata": {},
   "outputs": [
    {
     "name": "stdout",
     "output_type": "stream",
     "text": [
      "northpole object storage 548\n"
     ]
    }
   ],
   "source": [
    "for x in r:\n",
    "    # Split each name into the [checksum], the sector ID, and the name, stripping out dashes\n",
    "    parts = x.partition('[')\n",
    "    checksum = parts[2].strip(']')\n",
    "    rest = parts[0].rsplit('-', 1)\n",
    "    sectorid = rest[1]\n",
    "    name = rest[0].replace('-', '')\n",
    "    t = ''.join(sorted(set(name)))      # Alphabetize and deduplicate name into one string\n",
    "    \n",
    "    # Make a list of how often each letter appears in name\n",
    "    counts = [(l, name.count(l)) for l in t]\n",
    "#     counts = []\n",
    "#     for l in t:\n",
    "#         counts.append((l, name.count(l)))\n",
    "    counts.sort(key=lambda l: l[1], reverse=True)\n",
    "    # Take the 5 most common letters to compare to the checksum\n",
    "    letters = ''.join([x[0] for x in counts[:5]])\n",
    "\n",
    "# Part 2: Decrypt each room name by shifting each letter forward by the sector ID. Dashes become spaces. What is the sector ID of the room containing North Pole objects?\n",
    "\n",
    "    if letters == checksum:\n",
    "        ptext = []\n",
    "        # string constant holding the alphabet\n",
    "        a = string.ascii_lowercase\n",
    "        for each in rest[0]:\n",
    "            if each.isalpha():\n",
    "                # find the current position of the letter\n",
    "                cindex = a.index(each)\n",
    "                # shift each letter mod 26\n",
    "                ptext.append(a[(cindex + int(sectorid)) % 26])\n",
    "            else:\n",
    "                # convert dashes to spaces\n",
    "                ptext.append(' ')\n",
    "                \n",
    "        realname = ''.join(ptext)\n",
    "        if 'north' in realname:\n",
    "            print realname, sectorid"
   ]
  },
  {
   "cell_type": "code",
   "execution_count": null,
   "metadata": {
    "collapsed": true
   },
   "outputs": [],
   "source": []
  }
 ],
 "metadata": {
  "kernelspec": {
   "display_name": "Python 2",
   "language": "python",
   "name": "python2"
  },
  "language_info": {
   "codemirror_mode": {
    "name": "ipython",
    "version": 2
   },
   "file_extension": ".py",
   "mimetype": "text/x-python",
   "name": "python",
   "nbconvert_exporter": "python",
   "pygments_lexer": "ipython2",
   "version": "2.7.13"
  }
 },
 "nbformat": 4,
 "nbformat_minor": 2
}
