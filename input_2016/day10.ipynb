{
 "cells": [
  {
   "cell_type": "code",
   "execution_count": 1,
   "metadata": {},
   "outputs": [],
   "source": [
    "def input(filename):\n",
    "    with open(filename, 'r') as input:\n",
    "        data = [x.strip() for x in input]\n",
    "\n",
    "    return data"
   ]
  },
  {
   "cell_type": "code",
   "execution_count": 2,
   "metadata": {},
   "outputs": [],
   "source": [
    "# Part 1: You have instructions for a system of numbered bots that take in numbers, compare them, and deposit them into output bins. Bots don't take any action until they have two numbers to compare. Which bot compares 61 to 17?\n",
    "\n",
    "commands = input('day10.txt')\n",
    "bots = {}\n",
    "\n",
    "def botnames():\n",
    "    for c in commands:\n",
    "        # 'bot 0 gives low to output 2 and high to output 0' ->\n",
    "        x = c.split()\n",
    "\n",
    "        # bots['bot0'] = {'v0': False, 'v1': False, 'lowdest': 'output2', 'highdest': 'output0'}}\n",
    "        if x[0] == 'bot':\n",
    "            bots[(x[0] + x[1])] = {'v0': False, 'v1': False, 'lowdest': x[5] + x[6], 'highdest': x[10] + x[11]}\n",
    "\n",
    "        # bots['output2'] = {'value': False}\n",
    "        if x[5] == 'output':\n",
    "            bots[(x[5] + x[6])] = {'value': False}\n",
    "\n",
    "        # bots['output0'] = {'value': False}\n",
    "        if len(x) > 6 and x[10] == 'output':\n",
    "            bots[(x[10] + x[11])] = {'value': False}\n",
    "\n",
    "def botvals():\n",
    "    for c in commands:\n",
    "        x = c.split()\n",
    "\n",
    "        # populate each bot with its initial values\n",
    "        if x[0] == 'value':\n",
    "            deposit(bots[(x[4] + x[5])], int(x[1]))\n",
    "\n",
    "# Given a bot or bin, deposit the number in one of the bot's slots or the bin.\n",
    "def deposit(bot, x):\n",
    "    if 'value' in bot:\n",
    "        bot['value'] = x\n",
    "    elif bot['v0']:\n",
    "        bot['v1'] = x\n",
    "    else:\n",
    "        bot['v0'] = x\n",
    "\n",
    "# If a bot has both values, compare & send them to lowdest and highdest and reset them to False\n",
    "def botrun():\n",
    "    for b in bots.values():\n",
    "        if ('v0' in b) and b['v0'] and b['v1']:\n",
    "            deposit(bots[b['lowdest']], min(b['v0'], b['v1']))\n",
    "            deposit(bots[b['highdest']], max(b['v0'], b['v1']))\n",
    "            b['v0'] = False\n",
    "            b['v1'] = False"
   ]
  },
  {
   "cell_type": "code",
   "execution_count": 3,
   "metadata": {},
   "outputs": [],
   "source": [
    "# 250 runs turns out to be sufficient to reach steady state.\n",
    "botnames()\n",
    "for i in range(250):\n",
    "    botvals()\n",
    "    botrun()"
   ]
  },
  {
   "cell_type": "code",
   "execution_count": 18,
   "metadata": {},
   "outputs": [
    {
     "name": "stdout",
     "output_type": "stream",
     "text": [
      "{'part1': 101, 'part2': 37789}\n"
     ]
    }
   ],
   "source": [
    "bots_final = [x for x in iter(bots) if x.startswith('bot')]\n",
    "# p1 = [x for x in bots_final if max(bots[x]['v0'], bots[x]['v1']) == 61 and min(bots[x]['v0'], bots[x]['v1']) == 17]\n",
    "for x in bots_final:\n",
    "    p1 = 0\n",
    "    a = bots[x]['v0']\n",
    "    b = bots[x]['v1']\n",
    "    if (max(a, b) == 61) and (min(a, b) == 17):\n",
    "        p1 = int(x.strip('bot'))\n",
    "        break\n",
    "\n",
    "# Part 2: What is the product of the numbers in bins 0, 1, and 2?\n",
    "\n",
    "p2 = bots['output0']['value'] * bots['output1']['value'] * bots['output2']['value']\n",
    "\n",
    "print({'part1': p1, 'part2': p2})"
   ]
  }
 ],
 "metadata": {
  "kernelspec": {
   "display_name": "Python 3",
   "language": "python",
   "name": "python3"
  },
  "language_info": {
   "codemirror_mode": {
    "name": "ipython",
    "version": 3
   },
   "file_extension": ".py",
   "mimetype": "text/x-python",
   "name": "python",
   "nbconvert_exporter": "python",
   "pygments_lexer": "ipython3",
   "version": "3.6.8"
  }
 },
 "nbformat": 4,
 "nbformat_minor": 2
}
