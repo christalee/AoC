{
 "cells": [
  {
   "cell_type": "code",
   "execution_count": 1,
   "metadata": {},
   "outputs": [],
   "source": [
    "def input(filename):\n",
    "    with open(filename, 'r') as input:\n",
    "        data = [x.strip() for x in input]\n",
    "        \n",
    "    return data"
   ]
  },
  {
   "cell_type": "code",
   "execution_count": 2,
   "metadata": {},
   "outputs": [],
   "source": [
    "import functools\n",
    "\n",
    "def product(i):\n",
    "    return functools.reduce(lambda x, y: x*y, i, 1)"
   ]
  },
  {
   "cell_type": "code",
   "execution_count": 3,
   "metadata": {},
   "outputs": [],
   "source": [
    "# - given a list of weights, divide them into 3 groups, each with the same weight\n",
    "# - the first group needs the fewest packages\n",
    "# - to break a tie, calculate the product of the weights of the first group\n",
    "\n",
    "# weights= [1, 2, 3, 4, 5, 7, 8, 9, 10, 11]\n",
    "\n",
    "# 10, 5, 3, 2 => 300\n",
    "# 10, 8, 2 => 160\n",
    "weights = list(map(int, input(\"day24.txt\")))\n",
    "target = sum(weights) // 4"
   ]
  },
  {
   "cell_type": "code",
   "execution_count": 4,
   "metadata": {},
   "outputs": [],
   "source": [
    "results = []\n",
    "for n in weights[::-1]:\n",
    "    first = [n]\n",
    "    while sum(first) < target:\n",
    "        w = [x for x in weights if x not in first]\n",
    "        remainder = target - sum(first)\n",
    "        if remainder in w:\n",
    "            first.append(remainder)\n",
    "        else:\n",
    "            less_than = [x for x in w if x < remainder]\n",
    "            if less_than:\n",
    "                first.append(max(less_than))\n",
    "            else:\n",
    "                break\n",
    "    if sum(first) == target:\n",
    "        results.append(first)\n",
    "\n",
    "\n",
    "# first = []\n",
    "\n",
    "# for n in weights[::-1]:\n",
    "#     results = [[n]]\n",
    "#     w = [x for x in weights if x != n]\n",
    "#     for r in results:\n",
    "#         while sum(r) < target:\n",
    "#             remainder = target - sum(r)\n",
    "#             if remainder in w:\n",
    "#                 r.append(remainder)\n",
    "#             else:\n",
    "#                 less_than = [x for x in w if x < remainder]\n",
    "#                 r.append(max(less_than))\n",
    "#     first.append(results)\n",
    "            \n",
    "        \n",
    "#         r = target - n\n",
    "#         w = [x for x in weights if x != n]\n",
    "#         if r in w:\n",
    "#             first.append([n, r])"
   ]
  },
  {
   "cell_type": "code",
   "execution_count": 5,
   "metadata": {},
   "outputs": [],
   "source": [
    "s = sorted(sorted(results, key=lambda x: len(x)), key=lambda r: product(r))"
   ]
  },
  {
   "cell_type": "code",
   "execution_count": 6,
   "metadata": {},
   "outputs": [
    {
     "data": {
      "text/plain": [
       "80393059"
      ]
     },
     "execution_count": 6,
     "metadata": {},
     "output_type": "execute_result"
    }
   ],
   "source": [
    "product(s[0])"
   ]
  }
 ],
 "metadata": {
  "kernelspec": {
   "display_name": "Python 3",
   "language": "python",
   "name": "python3"
  },
  "language_info": {
   "codemirror_mode": {
    "name": "ipython",
    "version": 3
   },
   "file_extension": ".py",
   "mimetype": "text/x-python",
   "name": "python",
   "nbconvert_exporter": "python",
   "pygments_lexer": "ipython3",
   "version": "3.9.21"
  }
 },
 "nbformat": 4,
 "nbformat_minor": 4
}
