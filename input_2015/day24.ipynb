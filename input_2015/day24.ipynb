{
 "cells": [
  {
   "cell_type": "code",
   "execution_count": null,
   "metadata": {},
   "outputs": [],
   "source": [
    "def input(filename):\n",
    "    with open(filename, 'r') as input:\n",
    "        data = [x.strip() for x in input]\n",
    "        \n",
    "    return data"
   ]
  },
  {
   "cell_type": "code",
   "execution_count": null,
   "metadata": {},
   "outputs": [],
   "source": [
    "# - given a list of weights, divide them into 3 groups, each with the same weight\n",
    "# - the first group needs the fewest packages\n",
    "# - to break a tie, calculate the product of the weights of the first group\n",
    "\n",
    "weights= [1, 2, 3, 4, 5, 7, 8, 9, 10, 11]\n",
    "# weights = list(map(int, input(\"day24.txt\")))\n",
    "# weights = [6, 31, 59, 109, 143, 187, 223, 269, 311, 222]"
   ]
  },
  {
   "cell_type": "code",
   "execution_count": null,
   "metadata": {},
   "outputs": [],
   "source": [
    "import itertools\n",
    "# perms = list(itertools.permutations(weights))\n",
    "divisions = []\n",
    "for i in range(1, len(weights) + 1):\n",
    "    for j in range(1, len(weights) - i):\n",
    "#         k = len(weights) - i - j\n",
    "        divisions.append([i, j])\n",
    "balanced = []\n",
    "for d in divisions:\n",
    "    perms = itertools.permutations(weights)\n",
    "#     print(d)\n",
    "    for p in perms:\n",
    "        g1 = sorted(weights[:d[0]])\n",
    "        g2 = sorted(weights[d[0]:d[0]+d[1]])\n",
    "        g3 = sorted(weights[d[0]+d[1]:])\n",
    "        if [g1, g2, g3] not in balanced and sum(g1) == sum(g2) and sum(g2) == sum(g3):\n",
    "            balanced.append([g1, g2, g3])"
   ]
  },
  {
   "cell_type": "code",
   "execution_count": null,
   "metadata": {},
   "outputs": [],
   "source": [
    "compact = [b for b in balanced if len(b[0]) == len(balanced[0][0])]"
   ]
  },
  {
   "cell_type": "code",
   "execution_count": null,
   "metadata": {},
   "outputs": [],
   "source": [
    "import functools\n",
    "sorted(compact, key=lambda b: functools.reduce(lambda x, y: x*y, b[0]))"
   ]
  }
 ],
 "metadata": {
  "kernelspec": {
   "display_name": "Python 3",
   "language": "python",
   "name": "python3"
  },
  "language_info": {
   "codemirror_mode": {
    "name": "ipython",
    "version": 3
   },
   "file_extension": ".py",
   "mimetype": "text/x-python",
   "name": "python",
   "nbconvert_exporter": "python",
   "pygments_lexer": "ipython3",
   "version": "3.6.12"
  }
 },
 "nbformat": 4,
 "nbformat_minor": 4
}
