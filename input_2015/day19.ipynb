{
 "cells": [
  {
   "cell_type": "code",
   "execution_count": 1,
   "metadata": {},
   "outputs": [],
   "source": [
    "import numpy as np"
   ]
  },
  {
   "cell_type": "code",
   "execution_count": 2,
   "metadata": {},
   "outputs": [],
   "source": [
    "def input(filename):\n",
    "    with open(filename, 'r') as input:\n",
    "        data = [x.strip() for x in input]\n",
    "        \n",
    "    return data"
   ]
  },
  {
   "cell_type": "code",
   "execution_count": 8,
   "metadata": {},
   "outputs": [],
   "source": [
    "test = input('day19.txt')\n",
    "subs = [x.split(\" => \") for x in test[:-2]]\n",
    "a = test[-1]"
   ]
  },
  {
   "cell_type": "code",
   "execution_count": 3,
   "metadata": {},
   "outputs": [],
   "source": [
    "test = [\"e => H\",\n",
    "        \"e => O\", \n",
    "        \"H => HO\",\n",
    "        \"H => OH\",\n",
    "        \"O => HH\"]\n",
    "subs = [x.split(\" => \") for x in test]\n",
    "a = \"HOHOHO\""
   ]
  },
  {
   "cell_type": "code",
   "execution_count": 9,
   "metadata": {},
   "outputs": [
    {
     "data": {
      "text/plain": [
       "[['Al', 'ThF'],\n",
       " ['Al', 'ThRnFAr'],\n",
       " ['B', 'BCa'],\n",
       " ['B', 'TiB'],\n",
       " ['B', 'TiRnFAr'],\n",
       " ['Ca', 'CaCa'],\n",
       " ['Ca', 'PB'],\n",
       " ['Ca', 'PRnFAr'],\n",
       " ['Ca', 'SiRnFYFAr'],\n",
       " ['Ca', 'SiRnMgAr'],\n",
       " ['Ca', 'SiTh'],\n",
       " ['F', 'CaF'],\n",
       " ['F', 'PMg'],\n",
       " ['F', 'SiAl'],\n",
       " ['H', 'CRnAlAr'],\n",
       " ['H', 'CRnFYFYFAr'],\n",
       " ['H', 'CRnFYMgAr'],\n",
       " ['H', 'CRnMgYFAr'],\n",
       " ['H', 'HCa'],\n",
       " ['H', 'NRnFYFAr'],\n",
       " ['H', 'NRnMgAr'],\n",
       " ['H', 'NTh'],\n",
       " ['H', 'OB'],\n",
       " ['H', 'ORnFAr'],\n",
       " ['Mg', 'BF'],\n",
       " ['Mg', 'TiMg'],\n",
       " ['N', 'CRnFAr'],\n",
       " ['N', 'HSi'],\n",
       " ['O', 'CRnFYFAr'],\n",
       " ['O', 'CRnMgAr'],\n",
       " ['O', 'HP'],\n",
       " ['O', 'NRnFAr'],\n",
       " ['O', 'OTi'],\n",
       " ['P', 'CaP'],\n",
       " ['P', 'PTi'],\n",
       " ['P', 'SiRnFAr'],\n",
       " ['Si', 'CaSi'],\n",
       " ['Th', 'ThCa'],\n",
       " ['Ti', 'BP'],\n",
       " ['Ti', 'TiTi'],\n",
       " ['e', 'HF'],\n",
       " ['e', 'NAl'],\n",
       " ['e', 'OMg']]"
      ]
     },
     "execution_count": 9,
     "metadata": {},
     "output_type": "execute_result"
    }
   ],
   "source": [
    "subs"
   ]
  },
  {
   "cell_type": "code",
   "execution_count": 10,
   "metadata": {},
   "outputs": [
    {
     "name": "stdout",
     "output_type": "stream",
     "text": [
      "3 4\n",
      "18 22\n",
      "105 127\n",
      "607 734\n",
      "3566 4300\n"
     ]
    },
    {
     "ename": "KeyboardInterrupt",
     "evalue": "",
     "output_type": "error",
     "traceback": [
      "\u001b[0;31m---------------------------------------------------------------------------\u001b[0m",
      "\u001b[0;31mKeyboardInterrupt\u001b[0m                         Traceback (most recent call last)",
      "\u001b[0;32m<ipython-input-10-6a746476a514>\u001b[0m in \u001b[0;36m<module>\u001b[0;34m\u001b[0m\n\u001b[1;32m     11\u001b[0m             \u001b[0;32mfor\u001b[0m \u001b[0ms\u001b[0m \u001b[0;32min\u001b[0m \u001b[0msubs\u001b[0m\u001b[0;34m:\u001b[0m\u001b[0;34m\u001b[0m\u001b[0;34m\u001b[0m\u001b[0m\n\u001b[1;32m     12\u001b[0m                 \u001b[0mq\u001b[0m \u001b[0;34m=\u001b[0m \u001b[0mp\u001b[0m \u001b[0;34m+\u001b[0m \u001b[0mn\u001b[0m\u001b[0;34m.\u001b[0m\u001b[0mreplace\u001b[0m\u001b[0;34m(\u001b[0m\u001b[0ms\u001b[0m\u001b[0;34m[\u001b[0m\u001b[0;36m0\u001b[0m\u001b[0;34m]\u001b[0m\u001b[0;34m,\u001b[0m \u001b[0ms\u001b[0m\u001b[0;34m[\u001b[0m\u001b[0;36m1\u001b[0m\u001b[0;34m]\u001b[0m\u001b[0;34m,\u001b[0m \u001b[0;36m1\u001b[0m\u001b[0;34m)\u001b[0m\u001b[0;34m\u001b[0m\u001b[0;34m\u001b[0m\u001b[0m\n\u001b[0;32m---> 13\u001b[0;31m                 \u001b[0;32mif\u001b[0m \u001b[0mq\u001b[0m \u001b[0;32mnot\u001b[0m \u001b[0;32min\u001b[0m \u001b[0mresults\u001b[0m\u001b[0;34m:\u001b[0m\u001b[0;34m\u001b[0m\u001b[0;34m\u001b[0m\u001b[0m\n\u001b[0m\u001b[1;32m     14\u001b[0m                     \u001b[0moptions\u001b[0m\u001b[0;34m.\u001b[0m\u001b[0mappend\u001b[0m\u001b[0;34m(\u001b[0m\u001b[0mq\u001b[0m\u001b[0;34m)\u001b[0m\u001b[0;34m\u001b[0m\u001b[0;34m\u001b[0m\u001b[0m\n\u001b[1;32m     15\u001b[0m         \u001b[0;32mwhile\u001b[0m \u001b[0mm\u001b[0m \u001b[0;32min\u001b[0m \u001b[0moptions\u001b[0m\u001b[0;34m:\u001b[0m\u001b[0;34m\u001b[0m\u001b[0;34m\u001b[0m\u001b[0m\n",
      "\u001b[0;31mKeyboardInterrupt\u001b[0m: "
     ]
    }
   ],
   "source": [
    "count = 0\n",
    "results = [\"e\"]\n",
    "molecules = [\"e\"]\n",
    "\n",
    "while a not in results:\n",
    "    options = []\n",
    "    for m in molecules:\n",
    "        for x in range(0, len(m)):\n",
    "            n = m[x:]\n",
    "            p = m[:x]\n",
    "            for s in subs:\n",
    "                q = p + n.replace(s[0], s[1], 1)\n",
    "                if q not in results:\n",
    "                    options.append(q)\n",
    "        while m in options:\n",
    "            options.remove(m)\n",
    "    count += 1\n",
    "    molecules = list(set(options))\n",
    "    results.extend(molecules)\n",
    "\n",
    "    print(len(molecules), len(results))\n"
   ]
  },
  {
   "cell_type": "code",
   "execution_count": 7,
   "metadata": {},
   "outputs": [
    {
     "data": {
      "text/plain": [
       "121"
      ]
     },
     "execution_count": 7,
     "metadata": {},
     "output_type": "execute_result"
    }
   ],
   "source": [
    "while m in results:\n",
    "    results.remove(m)\n",
    "len(list(set(results)))"
   ]
  },
  {
   "cell_type": "code",
   "execution_count": 11,
   "metadata": {},
   "outputs": [
    {
     "data": {
      "text/plain": [
       "'CRnFYSiAlYFArSiRnFArMg'"
      ]
     },
     "execution_count": 11,
     "metadata": {},
     "output_type": "execute_result"
    }
   ],
   "source": [
    "m"
   ]
  },
  {
   "cell_type": "code",
   "execution_count": null,
   "metadata": {},
   "outputs": [],
   "source": []
  }
 ],
 "metadata": {
  "kernelspec": {
   "display_name": "Python 3",
   "language": "python",
   "name": "python3"
  },
  "language_info": {
   "codemirror_mode": {
    "name": "ipython",
    "version": 3
   },
   "file_extension": ".py",
   "mimetype": "text/x-python",
   "name": "python",
   "nbconvert_exporter": "python",
   "pygments_lexer": "ipython3",
   "version": "3.6.12"
  }
 },
 "nbformat": 4,
 "nbformat_minor": 4
}
