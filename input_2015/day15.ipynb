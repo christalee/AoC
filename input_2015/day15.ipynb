{
 "cells": [
  {
   "cell_type": "code",
   "execution_count": 3,
   "metadata": {},
   "outputs": [],
   "source": [
    "import pandas as pd\n",
    "import itertools\n",
    "import operator"
   ]
  },
  {
   "cell_type": "code",
   "execution_count": 4,
   "metadata": {},
   "outputs": [],
   "source": [
    "def input(filename):\n",
    "    with open(filename, 'r') as input:\n",
    "        data = [x.strip() for x in input]\n",
    "        \n",
    "    return data"
   ]
  },
  {
   "cell_type": "code",
   "execution_count": 11,
   "metadata": {},
   "outputs": [],
   "source": [
    "text = input(\"day15.txt\")\n",
    "ingredients = set([s.split()[0].strip(':') for s in text])\n",
    "amounts = [(a, b, c, 100 - a - b - c) for a in range(101) for b in range(101 - a) for c in range(101 - a - b)]\n",
    "\n",
    "stats = {}\n",
    "for s in text:\n",
    "    q = {}\n",
    "    i = s.split(\":\")\n",
    "    t = i[1].split(\",\")\n",
    "    for u in t:\n",
    "        v = u.split()\n",
    "        q[v[0]] = int(v[1])\n",
    "    stats[i[0]] = q\n",
    "\n",
    "s = pd.DataFrame(stats)\n",
    "keys = list(stats[list(ingredients)[0]])\n",
    "keys.remove(\"calories\")"
   ]
  },
  {
   "cell_type": "code",
   "execution_count": 21,
   "metadata": {},
   "outputs": [
    {
     "name": "stdout",
     "output_type": "stream",
     "text": [
      "CPU times: user 4min 43s, sys: 2.14 s, total: 4min 45s\n",
      "Wall time: 5min 2s\n"
     ]
    }
   ],
   "source": [
    "%%time\n",
    "part1 = {}\n",
    "part2 = {}\n",
    "for a in amounts:\n",
    "    p = s.mul(a).sum(axis=1)\n",
    "    c = p.pop(\"calories\")\n",
    "    score = p.clip(0).prod()\n",
    "    part1[score] = dict(zip(ingredients, a))\n",
    "    if c == 500:\n",
    "        part2[score] = dict(zip(ingredients, a))"
   ]
  },
  {
   "cell_type": "code",
   "execution_count": 17,
   "metadata": {},
   "outputs": [],
   "source": [
    "# %%timeit\n",
    "part1 = {}\n",
    "part2 = {}\n",
    "for a in amounts:\n",
    "    score = 1\n",
    "    calories = sum(map(operator.mul, [stats[k]['calories'] for k in ingredients], a))\n",
    "    for j in keys:\n",
    "        score *= max(0, sum(map(operator.mul, [stats[k][j] for k in ingredients], a)))\n",
    "#         print(a, score)\n",
    "    part1[score] = dict(zip(ingredients, a))\n",
    "    if calories == 500:\n",
    "        part2[score] = dict(zip(ingredients, a))"
   ]
  },
  {
   "cell_type": "code",
   "execution_count": 23,
   "metadata": {},
   "outputs": [
    {
     "data": {
      "text/plain": [
       "15862900"
      ]
     },
     "execution_count": 23,
     "metadata": {},
     "output_type": "execute_result"
    }
   ],
   "source": [
    "max(part2.keys())"
   ]
  },
  {
   "cell_type": "code",
   "execution_count": 12,
   "metadata": {},
   "outputs": [
    {
     "data": {
      "text/plain": [
       "['capacity', 'durability', 'flavor', 'texture']"
      ]
     },
     "execution_count": 12,
     "metadata": {},
     "output_type": "execute_result"
    }
   ],
   "source": [
    "keys"
   ]
  },
  {
   "cell_type": "code",
   "execution_count": null,
   "metadata": {},
   "outputs": [],
   "source": []
  }
 ],
 "metadata": {
  "kernelspec": {
   "display_name": "Python 3",
   "language": "python",
   "name": "python3"
  },
  "language_info": {
   "codemirror_mode": {
    "name": "ipython",
    "version": 3
   },
   "file_extension": ".py",
   "mimetype": "text/x-python",
   "name": "python",
   "nbconvert_exporter": "python",
   "pygments_lexer": "ipython3",
   "version": "3.6.11"
  }
 },
 "nbformat": 4,
 "nbformat_minor": 4
}
