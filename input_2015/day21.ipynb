{
 "cells": [
  {
   "cell_type": "code",
   "execution_count": 1,
   "metadata": {},
   "outputs": [],
   "source": [
    "import pandas as pd\n",
    "\n",
    "boss = {'HP': 103, \"damage\": 9, \"armor\": 2}\n",
    "player = {\"HP\": 100, \"damage\": 4, \"armor\": 1}\n",
    "\n",
    "weapons = [\"Weapons:    Cost  Damage  Armor\",\n",
    "\"Dagger        8     4       0\",\n",
    "\"Shortsword   10     5       0\",\n",
    "\"Warhammer    25     6       0\",\n",
    "\"Longsword    40     7       0\",\n",
    "\"Greataxe     74     8       0\"]\n",
    "\n",
    "armor = [\"Armor:      Cost  Damage  Armor\",\n",
    "\"Leather      13     0       1\",\n",
    "\"Chainmail    31     0       2\",\n",
    "\"Splintmail   53     0       3\",\n",
    "\"Bandedmail   75     0       4\",\n",
    "\"Platemail   102     0       5\"]\n",
    "\n",
    "rings = [\"Rings:      Cost  Damage  Armor\",\n",
    "\"Damage+1    25     1       0\",\n",
    "\"Damage+2    50     2       0\",\n",
    "\"Damage+3   100     3       0\",\n",
    "\"Defense+1   20     0       1\",\n",
    "\"Defense+2   40     0       2\",\n",
    "\"Defense+3   80     0       3\"]"
   ]
  },
  {
   "cell_type": "code",
   "execution_count": 2,
   "metadata": {},
   "outputs": [],
   "source": [
    "def parse(tsv):\n",
    "    splits = []\n",
    "    for row in tsv:\n",
    "        splits.append(row.split())\n",
    "    return pd.DataFrame(splits[1:], columns=splits[0]).set_index(splits[0][0])\n",
    "\n",
    "# - Damage is max(1, attacker_damage - defender_armor)\n",
    "def attack(p1, p2):\n",
    "    return max(1, p1[\"damage\"] - p2[\"armor\"])\n",
    "\n",
    "# - Player goes 1st\n",
    "def battle(player, boss):\n",
    "    player[\"attack\"] = attack(player, boss)\n",
    "    boss[\"attack\"] = attack(boss, player)\n",
    "    while player[\"HP\"] > 0:\n",
    "#         print(\"Player: \" + str(player[\"HP\"]) + \", Boss: \" + str(boss[\"HP\"]))\n",
    "        boss[\"HP\"] -= player[\"attack\"]\n",
    "        if boss[\"HP\"] > 0:\n",
    "            player[\"HP\"] -= boss[\"attack\"]\n",
    "        else:\n",
    "            return \"Boss\"\n",
    "    return \"Player\""
   ]
  },
  {
   "cell_type": "code",
   "execution_count": 3,
   "metadata": {},
   "outputs": [],
   "source": [
    "none = pd.DataFrame({\"None\": {\"Cost\": \"0\", \"Damage\": \"0\", \"Armor\": \"0\"}}).transpose()\n",
    "weapons = parse(weapons)\n",
    "armor = pd.concat([parse(armor), none])\n",
    "rings = pd.concat([parse(rings), none])"
   ]
  },
  {
   "cell_type": "code",
   "execution_count": 4,
   "metadata": {},
   "outputs": [],
   "source": [
    "import itertools\n",
    "ring_combos = list(itertools.combinations(rings.index, 2))"
   ]
  },
  {
   "cell_type": "code",
   "execution_count": 5,
   "metadata": {},
   "outputs": [],
   "source": [
    "# - exactly 1 weapon, 0-1 armor, 0-2 rings\n",
    "outcomes = []\n",
    "for w in weapons.index:\n",
    "    for a in armor.index:\n",
    "        for r in ring_combos:\n",
    "            cost = sum(map(int, [weapons.loc[(w, \"Cost\")], armor.loc[(a, \"Cost\")], rings.loc[r[0], \"Cost\"], rings.loc[r[1], \"Cost\"]]))\n",
    "            player[\"damage\"] = sum(map(int, [weapons.loc[(w, \"Damage\")], armor.loc[(a, \"Damage\")], rings.loc[r[0], \"Damage\"], rings.loc[r[1], \"Damage\"]]))\n",
    "            player[\"armor\"] = sum(map(int, [weapons.loc[(w, \"Armor\")], armor.loc[(a, \"Armor\")], rings.loc[r[0], \"Armor\"], rings.loc[r[1], \"Armor\"]]))\n",
    "            player[\"HP\"] = 100\n",
    "            boss[\"HP\"] = 103\n",
    "            \n",
    "            outcomes.append([cost, w, a, r, battle(player, boss)])"
   ]
  },
  {
   "cell_type": "code",
   "execution_count": 6,
   "metadata": {},
   "outputs": [
    {
     "data": {
      "text/plain": [
       "[121, 'Longsword', 'Chainmail', ('Damage+2', 'None'), 'Boss']"
      ]
     },
     "execution_count": 6,
     "metadata": {},
     "output_type": "execute_result"
    }
   ],
   "source": [
    "victories = [x for x in outcomes if x[-1] == \"Boss\"]\n",
    "victories.sort()\n",
    "victories[0]"
   ]
  },
  {
   "cell_type": "code",
   "execution_count": 7,
   "metadata": {},
   "outputs": [
    {
     "data": {
      "text/plain": [
       "[201, 'Dagger', 'Leather', ('Damage+3', 'Defense+3'), 'Player']"
      ]
     },
     "execution_count": 7,
     "metadata": {},
     "output_type": "execute_result"
    }
   ],
   "source": [
    "losses = [x for x in outcomes if x[-1] == \"Player\"]\n",
    "losses.sort(reverse=True)\n",
    "losses[0]"
   ]
  },
  {
   "cell_type": "code",
   "execution_count": null,
   "metadata": {},
   "outputs": [],
   "source": []
  },
  {
   "cell_type": "code",
   "execution_count": null,
   "metadata": {},
   "outputs": [],
   "source": [
    "boss = {\"HP\": 71, \"Armor\": 0, \"Damage\": 10, \"Mana\": 250}\n",
    "player = {\"HP\": 50, \"Armor\": 0, \"Mana\": 500}\n",
    "\n",
    "spells = {\"Magic Missile\": {\"Cost\": 53, \"Damage\": 4},\n",
    "         \"Drain\": {\"Cost\": 73, \"Damage\": 2, \"HP\": 2},\n",
    "         \"Shield\": {\"Cost\": 113, \"Duration\": 6, \"Armor\": 7},\n",
    "         \"Poison\": {\"Cost\": 173, \"Duration\": 6, \"Damage\": 3},\n",
    "         \"Recharge\": {\"Cost\": 229, \"Duration\": 5, \"Mana\": 101}}"
   ]
  }
 ],
 "metadata": {
  "kernelspec": {
   "display_name": "Python 3",
   "language": "python",
   "name": "python3"
  },
  "language_info": {
   "codemirror_mode": {
    "name": "ipython",
    "version": 3
   },
   "file_extension": ".py",
   "mimetype": "text/x-python",
   "name": "python",
   "nbconvert_exporter": "python",
   "pygments_lexer": "ipython3",
   "version": "3.6.12"
  }
 },
 "nbformat": 4,
 "nbformat_minor": 4
}
