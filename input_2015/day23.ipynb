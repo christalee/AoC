{
 "cells": [
  {
   "cell_type": "code",
   "execution_count": 11,
   "metadata": {},
   "outputs": [],
   "source": [
    "def input(filename):\n",
    "    with open(filename, 'r') as input:\n",
    "        data = [x.strip() for x in input]\n",
    "        \n",
    "    return data"
   ]
  },
  {
   "cell_type": "code",
   "execution_count": 15,
   "metadata": {},
   "outputs": [],
   "source": [
    "p1 = {\"a\": 0, \"b\": 0}\n",
    "p2 = {\"a\": 1, \"b\": 0}\n",
    "commands = input(\"day23.txt\")\n",
    "# commands = [\"inc a\",\n",
    "# \"jio a, +2\",\n",
    "# \"tpl a\",\n",
    "# \"inc a\"]"
   ]
  },
  {
   "cell_type": "code",
   "execution_count": 16,
   "metadata": {},
   "outputs": [],
   "source": [
    "# hlf r sets register r to half its current value, then continues with the next instruction.\n",
    "# tpl r sets register r to triple its current value, then continues with the next instruction.\n",
    "# inc r increments register r, adding 1 to it, then continues with the next instruction.\n",
    "# jmp offset is a jump; it continues with the instruction offset away relative to itself.\n",
    "# jie r, offset is like jmp, but only jumps if register r is even (\"jump if even\").\n",
    "# jio r, offset is like jmp, but only jumps if register r is 1 (\"jump if one\", not odd).\n",
    "\n",
    "def assemble(reg):\n",
    "    i = 0\n",
    "    while i < len(commands):\n",
    "#         print(commands[i], reg)\n",
    "        c = commands[i].split(' ')\n",
    "        if c[0] == 'hlf':\n",
    "            reg[c[1]] = reg[c[1]]/2\n",
    "            i += 1\n",
    "        if c[0] == 'tpl':\n",
    "            reg[c[1]] = reg[c[1]] * 3\n",
    "            i += 1\n",
    "        if c[0] == 'inc':\n",
    "            reg[c[1]] += 1\n",
    "            i += 1\n",
    "        if c[0] == 'jmp':\n",
    "            i += int(c[1])\n",
    "        if c[0] == 'jie':\n",
    "            if reg[c[1].strip(',')] % 2 == 0:\n",
    "                i += int(c[2])\n",
    "            else:\n",
    "                i += 1\n",
    "        if c[0] == 'jio':\n",
    "            if reg[c[1].strip(',')] == 1:\n",
    "                i += int(c[2])\n",
    "            else:\n",
    "                i += 1\n",
    "\n",
    "    return reg"
   ]
  },
  {
   "cell_type": "code",
   "execution_count": 17,
   "metadata": {},
   "outputs": [
    {
     "data": {
      "text/plain": [
       "{'a': 1.0, 'b': 231}"
      ]
     },
     "execution_count": 17,
     "metadata": {},
     "output_type": "execute_result"
    }
   ],
   "source": [
    "assemble(p1)"
   ]
  },
  {
   "cell_type": "code",
   "execution_count": null,
   "metadata": {},
   "outputs": [],
   "source": []
  }
 ],
 "metadata": {
  "kernelspec": {
   "display_name": "Python 3",
   "language": "python",
   "name": "python3"
  },
  "language_info": {
   "codemirror_mode": {
    "name": "ipython",
    "version": 3
   },
   "file_extension": ".py",
   "mimetype": "text/x-python",
   "name": "python",
   "nbconvert_exporter": "python",
   "pygments_lexer": "ipython3",
   "version": "3.6.12"
  }
 },
 "nbformat": 4,
 "nbformat_minor": 4
}
