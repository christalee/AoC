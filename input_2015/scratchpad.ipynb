{
 "cells": [
  {
   "cell_type": "code",
   "execution_count": 1,
   "metadata": {},
   "outputs": [],
   "source": [
    "import numpy as np\n",
    "import pandas as pd\n",
    "import itertools\n",
    "\n",
    "def input(filename):\n",
    "    with open(filename, 'r') as input:\n",
    "        data = [x.strip() for x in input]\n",
    "\n",
    "    return data\n",
    "\n",
    "distances = input('day9.txt')"
   ]
  },
  {
   "cell_type": "code",
   "execution_count": 2,
   "metadata": {},
   "outputs": [],
   "source": [
    "parsed = []\n",
    "for d in distances:\n",
    "    s = d.split()\n",
    "    s.remove('to')\n",
    "    s.remove('=')\n",
    "    parsed.append(s)"
   ]
  },
  {
   "cell_type": "code",
   "execution_count": 3,
   "metadata": {},
   "outputs": [],
   "source": [
    "stops = [] \n",
    "for s in parsed:\n",
    "    if s[0] not in stops:\n",
    "        stops.append(s[0])\n",
    "    if s[1] not in stops:\n",
    "        stops.append(s[1])"
   ]
  },
  {
   "cell_type": "code",
   "execution_count": 4,
   "metadata": {},
   "outputs": [],
   "source": [
    "legs = pd.DataFrame(columns = stops, index = stops)\n",
    "\n",
    "for s in parsed:\n",
    "    legs.loc[s[0], s[1]] = s[2]\n",
    "    legs.loc[s[1], s[0]] = s[2]"
   ]
  },
  {
   "cell_type": "code",
   "execution_count": 5,
   "metadata": {},
   "outputs": [
    {
     "data": {
      "text/html": [
       "<div>\n",
       "<style scoped>\n",
       "    .dataframe tbody tr th:only-of-type {\n",
       "        vertical-align: middle;\n",
       "    }\n",
       "\n",
       "    .dataframe tbody tr th {\n",
       "        vertical-align: top;\n",
       "    }\n",
       "\n",
       "    .dataframe thead th {\n",
       "        text-align: right;\n",
       "    }\n",
       "</style>\n",
       "<table border=\"1\" class=\"dataframe\">\n",
       "  <thead>\n",
       "    <tr style=\"text-align: right;\">\n",
       "      <th></th>\n",
       "      <th>Tristram</th>\n",
       "      <th>AlphaCentauri</th>\n",
       "      <th>Snowdin</th>\n",
       "      <th>Tambi</th>\n",
       "      <th>Faerun</th>\n",
       "      <th>Norrath</th>\n",
       "      <th>Straylight</th>\n",
       "      <th>Arbre</th>\n",
       "    </tr>\n",
       "  </thead>\n",
       "  <tbody>\n",
       "    <tr>\n",
       "      <th>Tristram</th>\n",
       "      <td>NaN</td>\n",
       "      <td>34</td>\n",
       "      <td>100</td>\n",
       "      <td>63</td>\n",
       "      <td>108</td>\n",
       "      <td>111</td>\n",
       "      <td>89</td>\n",
       "      <td>132</td>\n",
       "    </tr>\n",
       "    <tr>\n",
       "      <th>AlphaCentauri</th>\n",
       "      <td>34</td>\n",
       "      <td>NaN</td>\n",
       "      <td>4</td>\n",
       "      <td>79</td>\n",
       "      <td>44</td>\n",
       "      <td>147</td>\n",
       "      <td>133</td>\n",
       "      <td>74</td>\n",
       "    </tr>\n",
       "    <tr>\n",
       "      <th>Snowdin</th>\n",
       "      <td>100</td>\n",
       "      <td>4</td>\n",
       "      <td>NaN</td>\n",
       "      <td>105</td>\n",
       "      <td>95</td>\n",
       "      <td>48</td>\n",
       "      <td>88</td>\n",
       "      <td>7</td>\n",
       "    </tr>\n",
       "    <tr>\n",
       "      <th>Tambi</th>\n",
       "      <td>63</td>\n",
       "      <td>79</td>\n",
       "      <td>105</td>\n",
       "      <td>NaN</td>\n",
       "      <td>68</td>\n",
       "      <td>134</td>\n",
       "      <td>107</td>\n",
       "      <td>40</td>\n",
       "    </tr>\n",
       "    <tr>\n",
       "      <th>Faerun</th>\n",
       "      <td>108</td>\n",
       "      <td>44</td>\n",
       "      <td>95</td>\n",
       "      <td>68</td>\n",
       "      <td>NaN</td>\n",
       "      <td>11</td>\n",
       "      <td>66</td>\n",
       "      <td>144</td>\n",
       "    </tr>\n",
       "    <tr>\n",
       "      <th>Norrath</th>\n",
       "      <td>111</td>\n",
       "      <td>147</td>\n",
       "      <td>48</td>\n",
       "      <td>134</td>\n",
       "      <td>11</td>\n",
       "      <td>NaN</td>\n",
       "      <td>115</td>\n",
       "      <td>135</td>\n",
       "    </tr>\n",
       "    <tr>\n",
       "      <th>Straylight</th>\n",
       "      <td>89</td>\n",
       "      <td>133</td>\n",
       "      <td>88</td>\n",
       "      <td>107</td>\n",
       "      <td>66</td>\n",
       "      <td>115</td>\n",
       "      <td>NaN</td>\n",
       "      <td>127</td>\n",
       "    </tr>\n",
       "    <tr>\n",
       "      <th>Arbre</th>\n",
       "      <td>132</td>\n",
       "      <td>74</td>\n",
       "      <td>7</td>\n",
       "      <td>40</td>\n",
       "      <td>144</td>\n",
       "      <td>135</td>\n",
       "      <td>127</td>\n",
       "      <td>NaN</td>\n",
       "    </tr>\n",
       "  </tbody>\n",
       "</table>\n",
       "</div>"
      ],
      "text/plain": [
       "              Tristram AlphaCentauri Snowdin Tambi Faerun Norrath Straylight  \\\n",
       "Tristram           NaN            34     100    63    108     111         89   \n",
       "AlphaCentauri       34           NaN       4    79     44     147        133   \n",
       "Snowdin            100             4     NaN   105     95      48         88   \n",
       "Tambi               63            79     105   NaN     68     134        107   \n",
       "Faerun             108            44      95    68    NaN      11         66   \n",
       "Norrath            111           147      48   134     11     NaN        115   \n",
       "Straylight          89           133      88   107     66     115        NaN   \n",
       "Arbre              132            74       7    40    144     135        127   \n",
       "\n",
       "              Arbre  \n",
       "Tristram        132  \n",
       "AlphaCentauri    74  \n",
       "Snowdin           7  \n",
       "Tambi            40  \n",
       "Faerun          144  \n",
       "Norrath         135  \n",
       "Straylight      127  \n",
       "Arbre           NaN  "
      ]
     },
     "execution_count": 5,
     "metadata": {},
     "output_type": "execute_result"
    }
   ],
   "source": [
    "legs"
   ]
  },
  {
   "cell_type": "code",
   "execution_count": 18,
   "metadata": {},
   "outputs": [
    {
     "data": {
      "text/plain": [
       "[('Tristram', 'AlphaCentauri', 'Snowdin', 'Tambi'),\n",
       " ('Tristram', 'AlphaCentauri', 'Snowdin', 'Faerun'),\n",
       " ('Tristram', 'AlphaCentauri', 'Snowdin', 'Norrath'),\n",
       " ('Tristram', 'AlphaCentauri', 'Snowdin', 'Straylight'),\n",
       " ('Tristram', 'AlphaCentauri', 'Snowdin', 'Arbre'),\n",
       " ('Tristram', 'AlphaCentauri', 'Tambi', 'Faerun'),\n",
       " ('Tristram', 'AlphaCentauri', 'Tambi', 'Norrath'),\n",
       " ('Tristram', 'AlphaCentauri', 'Tambi', 'Straylight'),\n",
       " ('Tristram', 'AlphaCentauri', 'Tambi', 'Arbre'),\n",
       " ('Tristram', 'AlphaCentauri', 'Faerun', 'Norrath'),\n",
       " ('Tristram', 'AlphaCentauri', 'Faerun', 'Straylight'),\n",
       " ('Tristram', 'AlphaCentauri', 'Faerun', 'Arbre'),\n",
       " ('Tristram', 'AlphaCentauri', 'Norrath', 'Straylight'),\n",
       " ('Tristram', 'AlphaCentauri', 'Norrath', 'Arbre'),\n",
       " ('Tristram', 'AlphaCentauri', 'Straylight', 'Arbre'),\n",
       " ('Tristram', 'Snowdin', 'Tambi', 'Faerun'),\n",
       " ('Tristram', 'Snowdin', 'Tambi', 'Norrath'),\n",
       " ('Tristram', 'Snowdin', 'Tambi', 'Straylight'),\n",
       " ('Tristram', 'Snowdin', 'Tambi', 'Arbre'),\n",
       " ('Tristram', 'Snowdin', 'Faerun', 'Norrath'),\n",
       " ('Tristram', 'Snowdin', 'Faerun', 'Straylight'),\n",
       " ('Tristram', 'Snowdin', 'Faerun', 'Arbre'),\n",
       " ('Tristram', 'Snowdin', 'Norrath', 'Straylight'),\n",
       " ('Tristram', 'Snowdin', 'Norrath', 'Arbre'),\n",
       " ('Tristram', 'Snowdin', 'Straylight', 'Arbre'),\n",
       " ('Tristram', 'Tambi', 'Faerun', 'Norrath'),\n",
       " ('Tristram', 'Tambi', 'Faerun', 'Straylight'),\n",
       " ('Tristram', 'Tambi', 'Faerun', 'Arbre'),\n",
       " ('Tristram', 'Tambi', 'Norrath', 'Straylight'),\n",
       " ('Tristram', 'Tambi', 'Norrath', 'Arbre'),\n",
       " ('Tristram', 'Tambi', 'Straylight', 'Arbre'),\n",
       " ('Tristram', 'Faerun', 'Norrath', 'Straylight'),\n",
       " ('Tristram', 'Faerun', 'Norrath', 'Arbre'),\n",
       " ('Tristram', 'Faerun', 'Straylight', 'Arbre'),\n",
       " ('Tristram', 'Norrath', 'Straylight', 'Arbre'),\n",
       " ('AlphaCentauri', 'Snowdin', 'Tambi', 'Faerun'),\n",
       " ('AlphaCentauri', 'Snowdin', 'Tambi', 'Norrath'),\n",
       " ('AlphaCentauri', 'Snowdin', 'Tambi', 'Straylight'),\n",
       " ('AlphaCentauri', 'Snowdin', 'Tambi', 'Arbre'),\n",
       " ('AlphaCentauri', 'Snowdin', 'Faerun', 'Norrath'),\n",
       " ('AlphaCentauri', 'Snowdin', 'Faerun', 'Straylight'),\n",
       " ('AlphaCentauri', 'Snowdin', 'Faerun', 'Arbre'),\n",
       " ('AlphaCentauri', 'Snowdin', 'Norrath', 'Straylight'),\n",
       " ('AlphaCentauri', 'Snowdin', 'Norrath', 'Arbre'),\n",
       " ('AlphaCentauri', 'Snowdin', 'Straylight', 'Arbre'),\n",
       " ('AlphaCentauri', 'Tambi', 'Faerun', 'Norrath'),\n",
       " ('AlphaCentauri', 'Tambi', 'Faerun', 'Straylight'),\n",
       " ('AlphaCentauri', 'Tambi', 'Faerun', 'Arbre'),\n",
       " ('AlphaCentauri', 'Tambi', 'Norrath', 'Straylight'),\n",
       " ('AlphaCentauri', 'Tambi', 'Norrath', 'Arbre'),\n",
       " ('AlphaCentauri', 'Tambi', 'Straylight', 'Arbre'),\n",
       " ('AlphaCentauri', 'Faerun', 'Norrath', 'Straylight'),\n",
       " ('AlphaCentauri', 'Faerun', 'Norrath', 'Arbre'),\n",
       " ('AlphaCentauri', 'Faerun', 'Straylight', 'Arbre'),\n",
       " ('AlphaCentauri', 'Norrath', 'Straylight', 'Arbre'),\n",
       " ('Snowdin', 'Tambi', 'Faerun', 'Norrath'),\n",
       " ('Snowdin', 'Tambi', 'Faerun', 'Straylight'),\n",
       " ('Snowdin', 'Tambi', 'Faerun', 'Arbre'),\n",
       " ('Snowdin', 'Tambi', 'Norrath', 'Straylight'),\n",
       " ('Snowdin', 'Tambi', 'Norrath', 'Arbre'),\n",
       " ('Snowdin', 'Tambi', 'Straylight', 'Arbre'),\n",
       " ('Snowdin', 'Faerun', 'Norrath', 'Straylight'),\n",
       " ('Snowdin', 'Faerun', 'Norrath', 'Arbre'),\n",
       " ('Snowdin', 'Faerun', 'Straylight', 'Arbre'),\n",
       " ('Snowdin', 'Norrath', 'Straylight', 'Arbre'),\n",
       " ('Tambi', 'Faerun', 'Norrath', 'Straylight'),\n",
       " ('Tambi', 'Faerun', 'Norrath', 'Arbre'),\n",
       " ('Tambi', 'Faerun', 'Straylight', 'Arbre'),\n",
       " ('Tambi', 'Norrath', 'Straylight', 'Arbre'),\n",
       " ('Faerun', 'Norrath', 'Straylight', 'Arbre')]"
      ]
     },
     "execution_count": 18,
     "metadata": {},
     "output_type": "execute_result"
    }
   ],
   "source": [
    "x = itertools.combinations(stops, 4)\n",
    "list(x)"
   ]
  },
  {
   "cell_type": "code",
   "execution_count": null,
   "metadata": {},
   "outputs": [],
   "source": [
    "legs.loc['Tristram', 'Snowdin']"
   ]
  },
  {
   "cell_type": "code",
   "execution_count": 7,
   "metadata": {},
   "outputs": [],
   "source": [
    "journeys = {}\n",
    "for itinerary in x:\n",
    "    d = 0\n",
    "    for i, s in enumerate(itinerary):\n",
    "        if i+1 < len(itinerary):\n",
    "            d += int(legs.loc[s, itinerary[i+1]])\n",
    "    journeys[itinerary] = d"
   ]
  },
  {
   "cell_type": "code",
   "execution_count": 11,
   "metadata": {},
   "outputs": [
    {
     "data": {
      "text/plain": [
       "898"
      ]
     },
     "execution_count": 11,
     "metadata": {},
     "output_type": "execute_result"
    }
   ],
   "source": [
    "max(journeys.values())"
   ]
  }
 ],
 "metadata": {
  "kernelspec": {
   "display_name": "Python 3",
   "language": "python",
   "name": "python3"
  },
  "language_info": {
   "codemirror_mode": {
    "name": "ipython",
    "version": 3
   },
   "file_extension": ".py",
   "mimetype": "text/x-python",
   "name": "python",
   "nbconvert_exporter": "python",
   "pygments_lexer": "ipython3",
   "version": "3.6.8"
  }
 },
 "nbformat": 4,
 "nbformat_minor": 2
}
