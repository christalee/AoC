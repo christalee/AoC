{
 "cells": [
  {
   "cell_type": "code",
   "execution_count": 1,
   "metadata": {},
   "outputs": [
    {
     "data": {
      "text/plain": [
       "[Function: input]"
      ]
     },
     "execution_count": 1,
     "metadata": {},
     "output_type": "execute_result"
    }
   ],
   "source": [
    "fs = require('fs');\n",
    "input = function (filename) {\n",
    "  return fs.readFileSync(filename, 'utf8').split('\\n').slice(0, -1);\n",
    "}"
   ]
  },
  {
   "cell_type": "code",
   "execution_count": 2,
   "metadata": {},
   "outputs": [],
   "source": [
    "// rules = input(\"day7.txt\");\n",
    "let rules = [\"light red bags contain 1 bright white bag, 2 muted yellow bags.\",\n",
    "        \"dark orange bags contain 3 bright white bags, 4 muted yellow bags.\",\n",
    "\"bright white bags contain 1 shiny gold bag.\",\n",
    "\"muted yellow bags contain 2 shiny gold bags, 9 faded blue bags.\",\n",
    "\"shiny gold bags contain 1 dark olive bag, 2 vibrant plum bags.\",\n",
    "\"dark olive bags contain 3 faded blue bags, 4 dotted black bags.\",\n",
    "\"vibrant plum bags contain 5 faded blue bags, 6 dotted black bags.\",\n",
    "\"faded blue bags contain no other bags.\",\n",
    "\"dotted black bags contain no other bags.\"]\n",
    "\n",
    "// rules = [\"shiny gold bags contain 2 dark red bags.\",\n",
    "//  \"dark red bags contain 2 dark orange bags.\",\n",
    "// \"dark orange bags contain 2 dark yellow bags.\",\n",
    "// \"dark yellow bags contain 2 dark green bags.\",\n",
    "// \"dark green bags contain 2 dark blue bags.\",\n",
    "// \"dark blue bags contain 2 dark violet bags.\",\n",
    "// \"dark violet bags contain no other bags.\"]"
   ]
  },
  {
   "cell_type": "code",
   "execution_count": 3,
   "metadata": {},
   "outputs": [],
   "source": [
    "let bags = new Array(\"shiny gold\")"
   ]
  },
  {
   "cell_type": "code",
   "execution_count": 4,
   "metadata": {},
   "outputs": [
    {
     "name": "stdout",
     "output_type": "stream",
     "text": [
      "4\n"
     ]
    }
   ],
   "source": [
    "for (const b of bags) {\n",
    "    for (const r of rules) {\n",
    "        let [outer, inner] = r.split(\" contain \");\n",
    "        outer = outer.split(\" \").slice(0, 2).join(\" \");\n",
    "        if (inner.includes(b.slice(0, -1)) && !bags.includes(outer)) {\n",
    "            bags.push(outer);\n",
    "        }\n",
    "    }\n",
    "}\n",
    "console.log(bags.length - 1);"
   ]
  },
  {
   "cell_type": "code",
   "execution_count": 5,
   "metadata": {},
   "outputs": [
    {
     "data": {
      "text/plain": [
       "Map {\n",
       "  'light red' => Map { 'bright white' => 1, 'muted yellow' => 2 },\n",
       "  'dark orange' => Map { 'bright white' => 3, 'muted yellow' => 4 },\n",
       "  'bright white' => Map { 'shiny gold' => 1 },\n",
       "  'muted yellow' => Map { 'shiny gold' => 2, 'faded blue' => 9 },\n",
       "  'shiny gold' => Map { 'dark olive' => 1, 'vibrant plum' => 2 },\n",
       "  'dark olive' => Map { 'faded blue' => 3, 'dotted black' => 4 },\n",
       "  'vibrant plum' => Map { 'faded blue' => 5, 'dotted black' => 6 },\n",
       "  'faded blue' => Map { 'other bags.' => NaN },\n",
       "  'dotted black' => Map { 'other bags.' => NaN } }"
      ]
     },
     "execution_count": 5,
     "metadata": {},
     "output_type": "execute_result"
    }
   ],
   "source": [
    "let parsed = new Map();\n",
    "for (const rule of rules) {\n",
    "    let [outer, inner] = rule.split(\" contain \");\n",
    "    const b = inner.split(\", \");\n",
    "    let items = new Map();\n",
    "    for (const item of b) {\n",
    "        const t = item.split(\" \");\n",
    "        if (Number(t[0]) === NaN) {\n",
    "            items.set(0, 0);\n",
    "        }\n",
    "        else {\n",
    "            items.set(t.slice(1,3).join(\" \"), Number(t[0]))\n",
    "        }\n",
    "    }\n",
    "//     console.log(items);\n",
    "    parsed.set(outer.split(\" \").slice(0, 2).join(\" \"), items);\n",
    "}"
   ]
  },
  {
   "cell_type": "code",
   "execution_count": 6,
   "metadata": {},
   "outputs": [
    {
     "data": {
      "text/plain": [
       "[ 'shiny gold',\n",
       "  'bright white',\n",
       "  'muted yellow',\n",
       "  'light red',\n",
       "  'dark orange' ]"
      ]
     },
     "execution_count": 6,
     "metadata": {},
     "output_type": "execute_result"
    }
   ],
   "source": [
    "bags"
   ]
  },
  {
   "cell_type": "code",
   "execution_count": 9,
   "metadata": {},
   "outputs": [
    {
     "name": "stdout",
     "output_type": "stream",
     "text": [
      "Map { 'other bags.' => NaN }\n"
     ]
    }
   ],
   "source": []
  },
  {
   "cell_type": "code",
   "execution_count": 7,
   "metadata": {},
   "outputs": [
    {
     "data": {
      "text/plain": [
       "0"
      ]
     },
     "execution_count": 7,
     "metadata": {},
     "output_type": "execute_result"
    }
   ],
   "source": [
    "sum = 0\n",
    "const bag_count = function (bag) {\n",
    "    let inner = parsed.get(bag);\n",
    "    for (const e of inner.entries()) {\n",
    "        console.log(e);\n",
    "        if (e[0] === \"other bags.\") {\n",
    "            return 1;\n",
    "        }\n",
    "        else {\n",
    "            sum += e[1] * (bag_count(e[0]));\n",
    "            return sum\n",
    "        }\n",
    "    }\n",
    "}"
   ]
  },
  {
   "cell_type": "code",
   "execution_count": 7,
   "metadata": {},
   "outputs": [
    {
     "name": "stdout",
     "output_type": "stream",
     "text": [
      "[ 'dark olive', 1 ]\n",
      "[ 'faded blue', 3 ]\n",
      "[ 'other bags.', NaN ]\n"
     ]
    },
    {
     "data": {
      "text/plain": [
       "7"
      ]
     },
     "execution_count": 7,
     "metadata": {},
     "output_type": "execute_result"
    }
   ],
   "source": [
    "bag_count(bags[0])"
   ]
  },
  {
   "cell_type": "code",
   "execution_count": 8,
   "metadata": {},
   "outputs": [
    {
     "data": {
      "text/plain": [
       "0"
      ]
     },
     "execution_count": 8,
     "metadata": {},
     "output_type": "execute_result"
    }
   ],
   "source": [
    "sum"
   ]
  },
  {
   "cell_type": "code",
   "execution_count": 2,
   "metadata": {},
   "outputs": [],
   "source": [
    "const valid = function (num, rng) {\n",
    "    let v = false;\n",
    "    for (const a of rng) {\n",
    "        for (const b of rng) {\n",
    "            if (a != b && a + b === num) {\n",
    "                v = true;\n",
    "            }\n",
    "        }\n",
    "    }\n",
    "    return v;\n",
    "}"
   ]
  },
  {
   "cell_type": "code",
   "execution_count": 3,
   "metadata": {},
   "outputs": [],
   "source": [
    "const range = function (start=0, stop, step=1) {\n",
    "    let rng = new Array();\n",
    "    for (let i = start; i < stop; i += step) {\n",
    "        rng.push(i);\n",
    "    }\n",
    "    return rng;\n",
    "}"
   ]
  },
  {
   "cell_type": "code",
   "execution_count": 4,
   "metadata": {},
   "outputs": [],
   "source": [
    "const sum = function (arr) {\n",
    "    let s = 0;\n",
    "    for (const elem of arr) {\n",
    "        s += elem;\n",
    "    }\n",
    "    return s;\n",
    "}"
   ]
  },
  {
   "cell_type": "code",
   "execution_count": 3,
   "metadata": {},
   "outputs": [
    {
     "data": {
      "text/plain": [
       "[ 6, 7, 8, 9, 10 ]"
      ]
     },
     "execution_count": 3,
     "metadata": {},
     "output_type": "execute_result"
    }
   ],
   "source": [
    "range(1,26).slice(5, 10)"
   ]
  },
  {
   "cell_type": "code",
   "execution_count": 5,
   "metadata": {},
   "outputs": [],
   "source": [
    "let p1;\n",
    "const xmas_hack = function(pre, digits) {\n",
    "    p = digits.slice(0,pre);\n",
    "    \n",
    "    for (const i in digits.slice(pre)) {\n",
    "        const d = digits[i];\n",
    "        const prev = digits.slice(i - pre, i)\n",
    "        if (!valid(d, prev) && !p.includes(d)) {\n",
    "            p1 = d;\n",
    "        }\n",
    "    }\n",
    "}"
   ]
  },
  {
   "cell_type": "code",
   "execution_count": 6,
   "metadata": {},
   "outputs": [],
   "source": [
    "const xmas = input(\"day9.txt\").map(x => Number(x));\n",
    "\n",
    "// xmas = [35,\n",
    "// 20,\n",
    "// 15,\n",
    "// 25,\n",
    "// 47,\n",
    "// 40,\n",
    "// 62,\n",
    "// 55,\n",
    "// 65,\n",
    "// 95,\n",
    "// 102,\n",
    "// 117,\n",
    "// 150,\n",
    "// 182,\n",
    "// 127,\n",
    "// 219,\n",
    "// 299,\n",
    "// 277,\n",
    "// 309,\n",
    "// 576]"
   ]
  },
  {
   "cell_type": "code",
   "execution_count": 7,
   "metadata": {},
   "outputs": [],
   "source": [
    "xmas_hack(25, xmas)"
   ]
  },
  {
   "cell_type": "code",
   "execution_count": 8,
   "metadata": {},
   "outputs": [
    {
     "data": {
      "text/plain": [
       "69316178"
      ]
     },
     "execution_count": 8,
     "metadata": {},
     "output_type": "execute_result"
    }
   ],
   "source": [
    "p1"
   ]
  },
  {
   "cell_type": "code",
   "execution_count": 9,
   "metadata": {},
   "outputs": [
    {
     "name": "stdout",
     "output_type": "stream",
     "text": [
      "2834836 6516690\n"
     ]
    },
    {
     "data": {
      "text/plain": [
       "1000"
      ]
     },
     "execution_count": 9,
     "metadata": {},
     "output_type": "execute_result"
    }
   ],
   "source": [
    "let n = 2;\n",
    "while (n < xmas.length) {\n",
    "    for (const i in xmas) {\n",
    "        const rng = xmas.slice(Number(i), Number(i)+n)\n",
    "        if (sum(rng) === p1) {\n",
    "            console.log(Math.min(...rng) + Math.max(...rng));\n",
    "            break;\n",
    "        }\n",
    "    }\n",
    "    n += 1;\n",
    "}"
   ]
  },
  {
   "cell_type": "code",
   "execution_count": 10,
   "metadata": {},
   "outputs": [
    {
     "data": {
      "text/plain": [
       "9351526"
      ]
     },
     "execution_count": 10,
     "metadata": {},
     "output_type": "execute_result"
    }
   ],
   "source": [
    "2834836 + 6516690"
   ]
  },
  {
   "cell_type": "code",
   "execution_count": null,
   "metadata": {},
   "outputs": [],
   "source": []
  }
 ],
 "metadata": {
  "kernelspec": {
   "display_name": "Javascript (Node.js)",
   "language": "javascript",
   "name": "javascript"
  },
  "language_info": {
   "file_extension": ".js",
   "mimetype": "application/javascript",
   "name": "javascript",
   "version": "10.23.0"
  }
 },
 "nbformat": 4,
 "nbformat_minor": 4
}
