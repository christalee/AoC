{
 "cells": [
  {
   "cell_type": "code",
   "execution_count": null,
   "metadata": {},
   "outputs": [],
   "source": [
    "fs = require('fs');\n",
    "input = function (filename) {\n",
    "  return fs.readFileSync(filename, 'utf8').split('\\n');\n",
    "}"
   ]
  },
  {
   "cell_type": "code",
   "execution_count": null,
   "metadata": {},
   "outputs": [],
   "source": [
    "passports = fs.readFileSync(\"day4.txt\", \"utf8\")\n",
    "test1 = \"ecl:gry pid:860033327 eyr:2020 hcl:#fffffd\\nbyr:1937 iyr:2017 cid:147 hgt:183cm\\n\\niyr:2013 ecl:amb cid:350 eyr:2023 pid:028048884\\nhcl:#cfa07d byr:1929\\n\\nhcl:#ae17e1 iyr:2013\\neyr:2024\\necl:brn pid:760753108 byr:1931\\nhgt:179cm\\n\\nhcl:#cfa07d eyr:2025 pid:166559648\\niyr:2011 ecl:brn hgt:59in\";\n",
    "\n",
    "test2 = \"eyr:1972 cid:100\\nhcl:#18171d ecl:amb hgt:170 pid:186cm iyr:2018 byr:1926\\n\\niyr:2019\\nhcl:#602927 eyr:1967 hgt:170cm\\necl:grn pid:012533040 byr:1946\\n\\nhcl:dab227 iyr:2012\\necl:brn hgt:182cm pid:021572410 eyr:2020 byr:1992 cid:277\\n\\nhgt:59cm ecl:zzz\\neyr:2038 hcl:74454a iyr:2023\\npid:3556412378 byr:2007\";\n",
    "\n",
    "test3 = \"pid:087499704 hgt:74in ecl:grn iyr:2012 eyr:2030 byr:1980\\nhcl:#623a2f\\n\\neyr:2029 ecl:blu cid:129 byr:1989\\niyr:2014 pid:896056539 hcl:#a97842 hgt:165cm\\n\\nhcl:#888785\\nhgt:164cm byr:2001 iyr:2015 cid:88\\npid:545766238 ecl:hzl\\neyr:2022\\n\\niyr:2010 hgt:158cm hcl:#b6652a ecl:blu byr:1944 eyr:2021 pid:093154719\";"
   ]
  },
  {
   "cell_type": "code",
   "execution_count": null,
   "metadata": {},
   "outputs": [],
   "source": [
    "parsed = [];\n",
    "for (p of passports.split(\"\\n\\n\")) {\n",
    "    p = p.replace(/\\n/g, \" \").split(\" \");\n",
    "    ids = new Map();\n",
    "    for (f of p) {\n",
    "        [k, v] = f.split(\":\");\n",
    "        ids.set(k, v);\n",
    "    }\n",
    "    parsed.push(ids);\n",
    "}"
   ]
  },
  {
   "cell_type": "code",
   "execution_count": null,
   "metadata": {},
   "outputs": [],
   "source": [
    "p1 = 0;\n",
    "p2 = 0;\n",
    "fields = [\"byr\", \"iyr\", \"eyr\", \"hgt\", \"hcl\", \"ecl\", \"pid\"];\n",
    "hexstring = \"abcdef0123456789\";\n",
    "digits = \"0123456789\";\n",
    "eyecolors = [\"amb\", \"blu\", \"brn\", \"gry\", \"grn\", \"hzl\", \"oth\"];"
   ]
  },
  {
   "cell_type": "code",
   "execution_count": null,
   "metadata": {},
   "outputs": [],
   "source": [
    "for (p of parsed) {\n",
    "    f = new Array();\n",
    "    for (k of p.keys()) {\n",
    "        f.push(k);\n",
    "    }\n",
    "//     console.log(f);\n",
    "    valid = true;\n",
    "    for (field of fields) {\n",
    "        if (!f.includes(field)) {\n",
    "            valid = false;\n",
    "        }\n",
    "    }\n",
    "    if (valid) {\n",
    "        p1 += 1;\n",
    "        \n",
    "        count = 0;\n",
    "        if (Number(p.get(\"byr\")) >= 1920 && Number(p.get(\"byr\")) <= 2002) {\n",
    "            count += 1;\n",
    "        }\n",
    "        if (Number(p.get(\"iyr\")) >= 2010 && Number(p.get(\"iyr\")) <= 2020) {\n",
    "            count += 1;\n",
    "        }\n",
    "        if (Number(p.get(\"eyr\")) >= 2020 && Number(p.get(\"eyr\")) <= 2030) {\n",
    "            count += 1;\n",
    "        }\n",
    "        if (p.get('hgt').slice(-2) === \"cm\" && Number(p.get(\"hgt\").slice(0, -2)) >= 150 && Number(p.get(\"hgt\").slice(0, -2)) <= 193) {\n",
    "            count += 1;\n",
    "        }\n",
    "        if (p.get('hgt').slice(-2) === \"in\" && Number(p.get(\"hgt\").slice(0, -2)) >= 59 && Number(p.get(\"hgt\").slice(0, -2)) <= 76) {\n",
    "            count += 1;\n",
    "        }\n",
    "        if (p.get(\"hcl\").startsWith(\"#\") && p.get(\"hcl\").length === 7) {\n",
    "            v = true;\n",
    "            for (char of p.get(\"hcl\").slice(1)) {\n",
    "                if (!hexstring.includes(char)) {\n",
    "                    v = false;\n",
    "                }\n",
    "            }\n",
    "            if (v) {\n",
    "                count += 1;\n",
    "            }\n",
    "        }\n",
    "        if (eyecolors.includes(p.get(\"ecl\"))) {\n",
    "            count += 1;\n",
    "        }\n",
    "        if (p.get(\"pid\").length === 9) {\n",
    "            v = true;\n",
    "            for (char of p.get(\"pid\")) {\n",
    "                if (!digits.includes(char)) {\n",
    "                    v = false;\n",
    "                }\n",
    "            }\n",
    "            if (v) {\n",
    "                count += 1;\n",
    "            }\n",
    "        }\n",
    "    }\n",
    "    if (count === 7){\n",
    "//         console.log(p)\n",
    "        p2 += 1;\n",
    "    }\n",
    "}\n",
    "\n",
    "console.log(p1, p2)"
   ]
  }
 ],
 "metadata": {
  "kernelspec": {
   "display_name": "Javascript (Node.js)",
   "language": "javascript",
   "name": "javascript"
  },
  "language_info": {
   "file_extension": ".js",
   "mimetype": "application/javascript",
   "name": "javascript",
   "version": "10.23.0"
  }
 },
 "nbformat": 4,
 "nbformat_minor": 4
}
