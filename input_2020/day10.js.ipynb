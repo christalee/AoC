{
 "cells": [
  {
   "cell_type": "code",
   "execution_count": null,
   "metadata": {},
   "outputs": [],
   "source": [
    "const adapters = [16,10,15,5,1,11,7,19,6,12,4];\n",
    "\n",
    "// const adapters = [28,33,18,42,31,14,46,20,48,47,24,23,49,45,19,38,39,11,1,32,25,35,8,17,7,9,4,2,34,10,3];\n",
    "\n",
    "// const adapters = input(\"day10.txt\").map(x => Number(x));"
   ]
  },
  {
   "cell_type": "code",
   "execution_count": null,
   "metadata": {},
   "outputs": [],
   "source": [
    "adapters.sort((a, b) => a - b)\n",
    "const stop = adapters.slice(-1)[0] + 3;"
   ]
  },
  {
   "cell_type": "code",
   "execution_count": null,
   "metadata": {},
   "outputs": [],
   "source": [
    "let c1 = 0;\n",
    "let c3 = 0;\n",
    "\n",
    "adapters.unshift(0);\n",
    "adapters.push(stop);\n",
    "for (i in adapters) {\n",
    "    x = adapters[i];\n",
    "    y = adapters[i-1];\n",
    "    if (x - y === 1) {\n",
    "        c1 += 1;\n",
    "    }\n",
    "    if (x - y === 3) {\n",
    "        c3 += 1;\n",
    "    }\n",
    "}\n",
    "console.log(c1 * c3);"
   ]
  },
  {
   "cell_type": "code",
   "execution_count": null,
   "metadata": {},
   "outputs": [],
   "source": [
    "const valid = function (arr) {\n",
    "    let v = true;\n",
    "    for (const i in arr) {\n",
    "        if (i > 0) {\n",
    "            const x = arr[i];\n",
    "            const y = arr[i-1];\n",
    "            if (![1, 2, 3].includes(x - y)) {\n",
    "                v = false;\n",
    "            }\n",
    "        }\n",
    "    }\n",
    "    return v;\n",
    "}"
   ]
  },
  {
   "cell_type": "code",
   "execution_count": null,
   "metadata": {},
   "outputs": [],
   "source": [
    "const remove = function (arr) {\n",
    "    let n = new Array();\n",
    "    for (const i in arr) {\n",
    "        let c = arr.slice();\n",
    "        c.splice(i, 1);\n",
    "        n.push(c);\n",
    "    }\n",
    "    return n;\n",
    "}"
   ]
  },
  {
   "cell_type": "code",
   "execution_count": null,
   "metadata": {},
   "outputs": [],
   "source": [
    "let options = new Array();\n",
    "let new_options = [adapters];\n",
    "\n",
    "while (new_options[0].length > Math.floor(Math.max(...adapters)/3)) {\n",
    "    let next_options = new Array();\n",
    "    for (const arr of new_options) {\n",
    "        next_options = remove(arr);\n",
    "        console.log(next_options);\n",
    "        for (const x of next_options) {\n",
    "            options.push(x);\n",
    "        }\n",
    "    }\n",
    "    new_options = next_options.slice();\n",
    "}"
   ]
  },
  {
   "cell_type": "code",
   "execution_count": null,
   "metadata": {},
   "outputs": [],
   "source": [
    "let valid_options = new Array();\n",
    "for (const arr of options) {\n",
    "    arr.unshift(0);\n",
    "    arr.push(stop);\n",
    "//     console.log(arr);\n",
    "    if (valid(arr)) {\n",
    "        valid_options.push(arr);\n",
    "    }\n",
    "}"
   ]
  },
  {
   "cell_type": "code",
   "execution_count": null,
   "metadata": {},
   "outputs": [],
   "source": [
    "const compare = function (m, n) {\n",
    "    let same = true;\n",
    "    for (const x in m) {\n",
    "        let a = m[x];\n",
    "        let b = n[x];\n",
    "        if (a != b) {\n",
    "            same = false;\n",
    "        }\n",
    "    }\n",
    "    return same;\n",
    "}\n",
    "\n",
    "const dedupe = function(arr) {\n",
    "    let deduped = arr.slice();\n",
    "    for (const a in arr) {\n",
    "        for (const b in arr) {\n",
    "            if (a != b) {\n",
    "                s = compare(arr[a], arr[b]);\n",
    "                if (s && b > a) {\n",
    "                    const i = deduped.indexOf(arr[a]);\n",
    "                    deduped.splice(i, 1);\n",
    "                }\n",
    "            }\n",
    "        }\n",
    "    }\n",
    "    return deduped;\n",
    "}"
   ]
  }
 ],
 "metadata": {
  "kernelspec": {
   "display_name": "Javascript (Node.js)",
   "language": "javascript",
   "name": "javascript"
  },
  "language_info": {
   "file_extension": ".js",
   "mimetype": "application/javascript",
   "name": "javascript",
   "version": "14.15.1"
  }
 },
 "nbformat": 4,
 "nbformat_minor": 4
}
