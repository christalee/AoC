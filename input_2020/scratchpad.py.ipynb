{
 "cells": [
  {
   "cell_type": "code",
   "execution_count": 1,
   "metadata": {},
   "outputs": [],
   "source": [
    "def input(filename: str):\n",
    "    with open(filename, 'r') as input:\n",
    "        data = [x.strip() for x in input]\n",
    "\n",
    "    return data"
   ]
  },
  {
   "cell_type": "code",
   "execution_count": 8,
   "metadata": {},
   "outputs": [],
   "source": [
    "# rules = input(\"day7.txt\")\n",
    "rules = [\"light red bags contain 1 bright white bag, 2 muted yellow bags.\",\n",
    "        \"dark orange bags contain 3 bright white bags, 4 muted yellow bags.\",\n",
    "\"bright white bags contain 1 shiny gold bag.\",\n",
    "\"muted yellow bags contain 2 shiny gold bags, 9 faded blue bags.\",\n",
    "\"shiny gold bags contain 1 dark olive bag, 2 vibrant plum bags.\",\n",
    "\"dark olive bags contain 3 faded blue bags, 4 dotted black bags.\",\n",
    "\"vibrant plum bags contain 5 faded blue bags, 6 dotted black bags.\",\n",
    "\"faded blue bags contain no other bags.\",\n",
    "\"dotted black bags contain no other bags.\"]"
   ]
  },
  {
   "cell_type": "code",
   "execution_count": 3,
   "metadata": {},
   "outputs": [
    {
     "data": {
      "text/plain": [
       "['light red bags contain 1 bright white bag, 2 muted yellow bags.',\n",
       " 'dark orange bags contain 3 bright white bags, 4 muted yellow bags.',\n",
       " 'bright white bags contain 1 shiny gold bag.',\n",
       " 'muted yellow bags contain 2 shiny gold bags, 9 faded blue bags.',\n",
       " 'shiny gold bags contain 1 dark olive bag, 2 vibrant plum bags.',\n",
       " 'dark olive bags contain 3 faded blue bags, 4 dotted black bags.',\n",
       " 'vibrant plum bags contain 5 faded blue bags, 6 dotted black bags.',\n",
       " 'faded blue bags contain no other bags.',\n",
       " 'dotted black bags contain no other bags.']"
      ]
     },
     "execution_count": 3,
     "metadata": {},
     "output_type": "execute_result"
    }
   ],
   "source": [
    "rules"
   ]
  },
  {
   "cell_type": "code",
   "execution_count": 7,
   "metadata": {},
   "outputs": [
    {
     "data": {
      "text/plain": [
       "152"
      ]
     },
     "execution_count": 7,
     "metadata": {},
     "output_type": "execute_result"
    }
   ],
   "source": [
    "bags = [\"shiny gold\"]\n",
    "\n",
    "for b in bags:\n",
    "    for r in rules:\n",
    "        outer, inner = r.split(\" contain \")\n",
    "        outer = outer.rstrip(\" bags\")\n",
    "        if b in inner and outer not in bags:\n",
    "            bags.append(outer)\n",
    "len(bags)"
   ]
  },
  {
   "cell_type": "code",
   "execution_count": 11,
   "metadata": {},
   "outputs": [],
   "source": [
    "parsed = {}\n",
    "for r in rules:\n",
    "    outer, inner = r.split(\" contain \")\n",
    "    b = inner.split(\", \")\n",
    "    items = {}\n",
    "    for i in b:\n",
    "        t = i.split(\" \")\n",
    "        if not t[0].isdecimal():\n",
    "            items[0] = 0\n",
    "        else:\n",
    "            items[\" \".join(t[1:3])] = int(t[0])\n",
    "    parsed[\" \".join(outer.split(\" \")[0:2])] = items"
   ]
  },
  {
   "cell_type": "code",
   "execution_count": 17,
   "metadata": {},
   "outputs": [
    {
     "data": {
      "text/plain": [
       "True"
      ]
     },
     "execution_count": 17,
     "metadata": {},
     "output_type": "execute_result"
    }
   ],
   "source": [
    "list(parsed['faded blue'].keys()) == [0]"
   ]
  },
  {
   "cell_type": "code",
   "execution_count": 42,
   "metadata": {},
   "outputs": [],
   "source": [
    "bags = [\"shiny gold\"]\n",
    "s = 0\n",
    "def bag_count(bag):\n",
    "    global s\n",
    "    if list(parsed[bag].keys()) == [0]:\n",
    "        print(bag, 1)\n",
    "        return 1\n",
    "    else:\n",
    "        for k, v in parsed[bag].items():\n",
    "            print(k, v)\n",
    "            s += v * bag_count(k)"
   ]
  },
  {
   "cell_type": "code",
   "execution_count": 43,
   "metadata": {},
   "outputs": [
    {
     "name": "stdout",
     "output_type": "stream",
     "text": [
      "dark olive 1\n",
      "faded blue 3\n",
      "faded blue 1\n",
      "dotted black 4\n",
      "dotted black 1\n"
     ]
    },
    {
     "ename": "TypeError",
     "evalue": "unsupported operand type(s) for *: 'int' and 'NoneType'",
     "output_type": "error",
     "traceback": [
      "\u001b[0;31m---------------------------------------------------------------------------\u001b[0m",
      "\u001b[0;31mTypeError\u001b[0m                                 Traceback (most recent call last)",
      "\u001b[0;32m<ipython-input-43-08eb39ffdd88>\u001b[0m in \u001b[0;36m<module>\u001b[0;34m\u001b[0m\n\u001b[0;32m----> 1\u001b[0;31m \u001b[0mbag_count\u001b[0m\u001b[0;34m(\u001b[0m\u001b[0mbags\u001b[0m\u001b[0;34m[\u001b[0m\u001b[0;36m0\u001b[0m\u001b[0;34m]\u001b[0m\u001b[0;34m)\u001b[0m\u001b[0;34m\u001b[0m\u001b[0;34m\u001b[0m\u001b[0m\n\u001b[0m",
      "\u001b[0;32m<ipython-input-42-1f597fd05d09>\u001b[0m in \u001b[0;36mbag_count\u001b[0;34m(bag)\u001b[0m\n\u001b[1;32m      9\u001b[0m         \u001b[0;32mfor\u001b[0m \u001b[0mk\u001b[0m\u001b[0;34m,\u001b[0m \u001b[0mv\u001b[0m \u001b[0;32min\u001b[0m \u001b[0mparsed\u001b[0m\u001b[0;34m[\u001b[0m\u001b[0mbag\u001b[0m\u001b[0;34m]\u001b[0m\u001b[0;34m.\u001b[0m\u001b[0mitems\u001b[0m\u001b[0;34m(\u001b[0m\u001b[0;34m)\u001b[0m\u001b[0;34m:\u001b[0m\u001b[0;34m\u001b[0m\u001b[0;34m\u001b[0m\u001b[0m\n\u001b[1;32m     10\u001b[0m             \u001b[0mprint\u001b[0m\u001b[0;34m(\u001b[0m\u001b[0mk\u001b[0m\u001b[0;34m,\u001b[0m \u001b[0mv\u001b[0m\u001b[0;34m)\u001b[0m\u001b[0;34m\u001b[0m\u001b[0;34m\u001b[0m\u001b[0m\n\u001b[0;32m---> 11\u001b[0;31m             \u001b[0ms\u001b[0m \u001b[0;34m+=\u001b[0m \u001b[0mv\u001b[0m \u001b[0;34m*\u001b[0m \u001b[0mbag_count\u001b[0m\u001b[0;34m(\u001b[0m\u001b[0mk\u001b[0m\u001b[0;34m)\u001b[0m\u001b[0;34m\u001b[0m\u001b[0;34m\u001b[0m\u001b[0m\n\u001b[0m",
      "\u001b[0;31mTypeError\u001b[0m: unsupported operand type(s) for *: 'int' and 'NoneType'"
     ]
    }
   ],
   "source": [
    "bag_count(bags[0])"
   ]
  },
  {
   "cell_type": "code",
   "execution_count": 31,
   "metadata": {},
   "outputs": [
    {
     "data": {
      "text/plain": [
       "{'light red': {'bright white': 1, 'muted yellow': 2},\n",
       " 'dark orange': {'bright white': 3, 'muted yellow': 4},\n",
       " 'bright white': {'shiny gold': 1},\n",
       " 'muted yellow': {'shiny gold': 2, 'faded blue': 9},\n",
       " 'shiny gold': {'dark olive': 1, 'vibrant plum': 2},\n",
       " 'dark olive': {'faded blue': 3, 'dotted black': 4},\n",
       " 'vibrant plum': {'faded blue': 5, 'dotted black': 6},\n",
       " 'faded blue': {0: 0},\n",
       " 'dotted black': {0: 0}}"
      ]
     },
     "execution_count": 31,
     "metadata": {},
     "output_type": "execute_result"
    }
   ],
   "source": [
    "parsed"
   ]
  },
  {
   "cell_type": "code",
   "execution_count": 44,
   "metadata": {},
   "outputs": [
    {
     "data": {
      "text/plain": [
       "7"
      ]
     },
     "execution_count": 44,
     "metadata": {},
     "output_type": "execute_result"
    }
   ],
   "source": [
    "s"
   ]
  },
  {
   "cell_type": "code",
   "execution_count": null,
   "metadata": {},
   "outputs": [],
   "source": []
  }
 ],
 "metadata": {
  "kernelspec": {
   "display_name": "Python 3",
   "language": "python",
   "name": "python3"
  },
  "language_info": {
   "codemirror_mode": {
    "name": "ipython",
    "version": 3
   },
   "file_extension": ".py",
   "mimetype": "text/x-python",
   "name": "python",
   "nbconvert_exporter": "python",
   "pygments_lexer": "ipython3",
   "version": "3.6.12"
  }
 },
 "nbformat": 4,
 "nbformat_minor": 4
}
