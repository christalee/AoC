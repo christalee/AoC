{
 "cells": [
  {
   "cell_type": "code",
   "execution_count": 27,
   "metadata": {},
   "outputs": [],
   "source": [
    "def input(filename: str):\n",
    "    with open(filename, 'r') as input:\n",
    "        data = [x.strip() for x in input]\n",
    "\n",
    "    return data"
   ]
  },
  {
   "cell_type": "code",
   "execution_count": 81,
   "metadata": {},
   "outputs": [],
   "source": [
    "# start = [\".#.\",\n",
    "# \"..#\",\n",
    "# \"###\"]\n",
    "\n",
    "start = [\"##.#####\",\n",
    "\"#.##..#.\",\n",
    "\".##...##\",\n",
    "\"###.#...\",\n",
    "\".#######\",\n",
    "\"##....##\",\n",
    "\"###.###.\",\n",
    "\".#.#.#..\"]"
   ]
  },
  {
   "cell_type": "code",
   "execution_count": 82,
   "metadata": {},
   "outputs": [
    {
     "data": {
      "text/plain": [
       "{0: {0: {0: '#', 1: '#', 2: '.', 3: '#', 4: '#', 5: '#', 6: '#', 7: '#'},\n",
       "  1: {0: '#', 1: '.', 2: '#', 3: '#', 4: '.', 5: '.', 6: '#', 7: '.'},\n",
       "  2: {0: '.', 1: '#', 2: '#', 3: '.', 4: '.', 5: '.', 6: '#', 7: '#'},\n",
       "  3: {0: '#', 1: '#', 2: '#', 3: '.', 4: '#', 5: '.', 6: '.', 7: '.'},\n",
       "  4: {0: '.', 1: '#', 2: '#', 3: '#', 4: '#', 5: '#', 6: '#', 7: '#'},\n",
       "  5: {0: '#', 1: '#', 2: '.', 3: '.', 4: '.', 5: '.', 6: '#', 7: '#'},\n",
       "  6: {0: '#', 1: '#', 2: '#', 3: '.', 4: '#', 5: '#', 6: '#', 7: '.'},\n",
       "  7: {0: '.', 1: '#', 2: '.', 3: '#', 4: '.', 5: '#', 6: '.', 7: '.'}}}"
      ]
     },
     "execution_count": 82,
     "metadata": {},
     "output_type": "execute_result"
    }
   ],
   "source": [
    "conway = {0: {i: {j: char for j, char in enumerate(row)} for i, row in enumerate(start)}}\n",
    "conway    "
   ]
  },
  {
   "cell_type": "code",
   "execution_count": 83,
   "metadata": {},
   "outputs": [],
   "source": [
    "conway = {}\n",
    "a = []\n",
    "for row in start:\n",
    "    a.append(list(row))\n",
    "\n",
    "conway[0] = a"
   ]
  },
  {
   "cell_type": "code",
   "execution_count": 84,
   "metadata": {},
   "outputs": [],
   "source": [
    "def neighbours(xyz):\n",
    "    results = []\n",
    "    x, y, z = xyz\n",
    "    for c in [z-1, z, z+1]:\n",
    "        for b in [y-1, y, y+1]:\n",
    "            for a in [x-1, x, x+1]:\n",
    "                results.append((a, b, c))\n",
    "    \n",
    "    results.remove(xyz)\n",
    "    return results"
   ]
  },
  {
   "cell_type": "code",
   "execution_count": 85,
   "metadata": {},
   "outputs": [],
   "source": [
    "def retrieve(xyz):\n",
    "    x, y, z = xyz\n",
    "    if z not in conway:\n",
    "        return \".\"\n",
    "    if y < 0 or y > len(conway[z]) - 1:\n",
    "        return \".\"\n",
    "    if x < 0 or x > len(conway[z][y]) - 1:\n",
    "        return \".\"\n",
    "    return conway[z][y][x]"
   ]
  },
  {
   "cell_type": "code",
   "execution_count": 86,
   "metadata": {},
   "outputs": [],
   "source": [
    "def augment(d):\n",
    "    diameter = len(d[0])\n",
    "    for k, v in d.items():\n",
    "        new_slice = [[\".\" for x in range(diameter+2)]]\n",
    "        for row in v:\n",
    "            new_slice.append([\".\"] + row + [\".\"])\n",
    "        new_slice.append([\".\" for x in range(diameter+2)])\n",
    "        d[k] = new_slice\n",
    "    min_key = min(d.keys())\n",
    "    d[min_key-1] = [[\".\" for x in range(diameter+2)] for y in range(diameter+2)]\n",
    "    d[-(min_key-1)] = [[\".\" for x in range(diameter+2)] for y in range(diameter+2)]\n",
    "    \n",
    "    return d"
   ]
  },
  {
   "cell_type": "code",
   "execution_count": 87,
   "metadata": {},
   "outputs": [],
   "source": [
    "import copy\n",
    "\n",
    "for turn in range(6):\n",
    "#     print(conway)\n",
    "    augment(conway)\n",
    "    new_conway = copy.deepcopy(conway)\n",
    "    \n",
    "    for z in new_conway:\n",
    "        for y in range(len(new_conway[z])):\n",
    "            for x in range(len(new_conway[z][y])):\n",
    "                loc = (x, y, z)\n",
    "                count_on = 0\n",
    "                for n in neighbours(loc):\n",
    "                    if retrieve(n) == \"#\":\n",
    "                        count_on += 1\n",
    "                if retrieve(loc) == \"#\":\n",
    "                    if count_on in [2, 3]:\n",
    "                        new_conway[z][y][x] = \"#\"\n",
    "                    else:\n",
    "                        new_conway[z][y][x] = \".\"\n",
    "                else:\n",
    "                    if count_on == 3:\n",
    "                        new_conway[z][y][x] = \"#\"\n",
    "                    else:\n",
    "                        new_conway[z][y][x] = \".\"\n",
    "    \n",
    "    conway = copy.deepcopy(new_conway)"
   ]
  },
  {
   "cell_type": "code",
   "execution_count": 88,
   "metadata": {},
   "outputs": [],
   "source": [
    "count = 0\n",
    "for z in conway.values():\n",
    "    for row in z:\n",
    "        count += row.count(\"#\")"
   ]
  },
  {
   "cell_type": "code",
   "execution_count": 89,
   "metadata": {},
   "outputs": [
    {
     "data": {
      "text/plain": [
       "310"
      ]
     },
     "execution_count": 89,
     "metadata": {},
     "output_type": "execute_result"
    }
   ],
   "source": [
    "count"
   ]
  },
  {
   "cell_type": "code",
   "execution_count": 95,
   "metadata": {},
   "outputs": [],
   "source": [
    "expr = \"1 + 2 * 3 + 4 * 5 + 6\"\n",
    "def stackize(expr):\n",
    "    tokens = list(expr)\n",
    "    stack = []\n",
    "    for char in tokens:\n",
    "        if char.isdigit():\n",
    "            stack.append(int(char))\n",
    "        if char in \"+*()\":\n",
    "            stack.append(char)\n",
    "    return stack"
   ]
  },
  {
   "cell_type": "code",
   "execution_count": 96,
   "metadata": {},
   "outputs": [
    {
     "data": {
      "text/plain": [
       "[1, '+', 2, '*', 3, '+', 4, '*', 5, '+', 6]"
      ]
     },
     "execution_count": 96,
     "metadata": {},
     "output_type": "execute_result"
    }
   ],
   "source": [
    "stackize(expr)"
   ]
  },
  {
   "cell_type": "code",
   "execution_count": 97,
   "metadata": {},
   "outputs": [],
   "source": [
    "def ev(stack):\n",
    "    if len(stack) == 1:\n",
    "        return stack\n",
    "    else:\n",
    "        reduce = []\n",
    "        for i, char in enumerate(stack):\n",
    "            if char == \"+\":\n",
    "                reduce.append(stack[i-1] + stack[i+1])\n",
    "                reduce.extend(stack[i+2:])\n",
    "                break\n",
    "            if char == \"*\":\n",
    "                reduce.append(stack[i-1] * stack[i+1])\n",
    "                reduce.extend(stack[i+2:])\n",
    "                break\n",
    "            if char == \")\":\n",
    "                \n",
    "    \n",
    "        return ev(reduce)\n",
    "        "
   ]
  },
  {
   "cell_type": "code",
   "execution_count": 98,
   "metadata": {},
   "outputs": [
    {
     "data": {
      "text/plain": [
       "[71]"
      ]
     },
     "execution_count": 98,
     "metadata": {},
     "output_type": "execute_result"
    }
   ],
   "source": [
    "ev(stackize(expr))"
   ]
  },
  {
   "cell_type": "code",
   "execution_count": 147,
   "metadata": {},
   "outputs": [],
   "source": [
    "day19 = [\"0: 1 2\",\n",
    "'1: \"a\"',\n",
    "\"2: 1 3 | 3 1\",\n",
    "'3: \"b\"']\n",
    "\n",
    "rules = {}\n",
    "for rule in day19:\n",
    "    num, body = rule.split(\": \")\n",
    "    rules[num] = body.strip('\"')"
   ]
  },
  {
   "cell_type": "code",
   "execution_count": 148,
   "metadata": {},
   "outputs": [],
   "source": [
    "letters = {\" \": \"\"}\n",
    "def pop_letters():\n",
    "    for k, v in rules.items():\n",
    "        if v.isalpha():\n",
    "            letters[k] = v"
   ]
  },
  {
   "cell_type": "code",
   "execution_count": 149,
   "metadata": {},
   "outputs": [],
   "source": [
    "pop_letters()"
   ]
  },
  {
   "cell_type": "code",
   "execution_count": 150,
   "metadata": {},
   "outputs": [
    {
     "name": "stdout",
     "output_type": "stream",
     "text": [
      "['1 3 ', ' 3 1']\n"
     ]
    }
   ],
   "source": [
    "for k, v in rules.items():\n",
    "    referrals = set(v)\n",
    "    if \"|\" in referrals:\n",
    "        referrals.remove(\"|\")\n",
    "    if referrals == set(letters.keys()):\n",
    "        translated = v.split(\"|\")\n",
    "        print(translated)\n",
    "        for i, t in enumerate(translated):\n",
    "            new_string = ''\n",
    "            for char in t:\n",
    "                new_string += letters[char]\n",
    "            translated[i] = new_string\n",
    "        letters[k] = \"|\".join(translated)\n",
    "        "
   ]
  },
  {
   "cell_type": "code",
   "execution_count": 151,
   "metadata": {},
   "outputs": [
    {
     "data": {
      "text/plain": [
       "{' ': '', '1': 'a', '3': 'b', '2': 'ab|ba'}"
      ]
     },
     "execution_count": 151,
     "metadata": {},
     "output_type": "execute_result"
    }
   ],
   "source": [
    "letters"
   ]
  },
  {
   "cell_type": "code",
   "execution_count": null,
   "metadata": {},
   "outputs": [],
   "source": []
  }
 ],
 "metadata": {
  "kernelspec": {
   "display_name": "Python 3",
   "language": "python",
   "name": "python3"
  },
  "language_info": {
   "codemirror_mode": {
    "name": "ipython",
    "version": 3
   },
   "file_extension": ".py",
   "mimetype": "text/x-python",
   "name": "python",
   "nbconvert_exporter": "python",
   "pygments_lexer": "ipython3",
   "version": "3.6.13"
  }
 },
 "nbformat": 4,
 "nbformat_minor": 4
}
