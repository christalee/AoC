{
 "cells": [
  {
   "cell_type": "code",
   "execution_count": null,
   "metadata": {},
   "outputs": [],
   "source": [
    "// const buses = [7,13,\"x\",\"x\",59,\"x\",31,19];\n",
    "// const departure = 939;\n",
    "\n",
    "// const buses = [1789,37,47,1889];\n",
    "const buses = \"13,x,x,41,x,x,x,x,x,x,x,x,x,997,x,x,x,x,x,x,x,23,x,x,x,x,x,x,x,x,x,x,19,x,x,x,x,x,x,x,x,x,29,x,619,x,x,x,x,x,37,x,x,x,x,x,x,x,x,x,x,17\".split(\",\");\n",
    "// const departure = 1000390;"
   ]
  },
  {
   "cell_type": "code",
   "execution_count": null,
   "metadata": {},
   "outputs": [],
   "source": [
    "let times = new Map();\n",
    "for (const b of buses) {\n",
    "    if (Number(b)) {\n",
    "        const n = Number(b)\n",
    "        times.set(n*Math.ceil(departure / n) - departure, n);\n",
    "    }\n",
    "}"
   ]
  },
  {
   "cell_type": "code",
   "execution_count": null,
   "metadata": {},
   "outputs": [],
   "source": [
    "const i = Math.min(...times.keys());\n",
    "console.log(i * times.get(i));"
   ]
  },
  {
   "cell_type": "code",
   "execution_count": null,
   "metadata": {},
   "outputs": [],
   "source": [
    "let delays = new Map();\n",
    "for (const b of buses) {\n",
    "    if (Number(b)) {\n",
    "        delays.set(Number(b), Number(buses.indexOf(b)));\n",
    "    }\n",
    "}"
   ]
  },
  {
   "cell_type": "code",
   "execution_count": null,
   "metadata": {},
   "outputs": [],
   "source": [
    "const valid = function (time) {\n",
    "    let v = true;\n",
    "    for (const e of delays.keys()) {\n",
    "        if ((time + delays.get(e)) % e != 0) {\n",
    "            v = false;\n",
    "        }\n",
    "    }\n",
    "    return v;\n",
    "}"
   ]
  },
  {
   "cell_type": "code",
   "execution_count": null,
   "metadata": {},
   "outputs": [],
   "source": [
    "let t = 75000000000000;\n",
    "while (t < 100000000000000) {\n",
    "    if (t % 1000000000 == 0) {\n",
    "        console.log(t);\n",
    "    }\n",
    "    const first = [...delays.keys()][0];\n",
    "    if (valid(t*first)) {\n",
    "        console.log(t*first);\n",
    "        break;\n",
    "    }\n",
    "    t += 1;\n",
    "}"
   ]
  }
 ],
 "metadata": {
  "kernelspec": {
   "display_name": "Javascript (Node.js)",
   "language": "javascript",
   "name": "javascript"
  },
  "language_info": {
   "file_extension": ".js",
   "mimetype": "application/javascript",
   "name": "javascript",
   "version": "14.15.1"
  }
 },
 "nbformat": 4,
 "nbformat_minor": 4
}
