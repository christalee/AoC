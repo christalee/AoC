{
 "cells": [
  {
   "cell_type": "code",
   "execution_count": 1,
   "metadata": {},
   "outputs": [],
   "source": [
    "const fs = require('fs');\n",
    "const input = function (filename) {\n",
    "  return fs.readFileSync(filename, 'utf8').split('\\n').slice(0, -1);\n",
    "}"
   ]
  },
  {
   "cell_type": "code",
   "execution_count": 1,
   "metadata": {},
   "outputs": [],
   "source": [
    "const range = function (start=0, stop, step=1) {\n",
    "    let rng = new Array();\n",
    "    if (step > 0) {\n",
    "        for (let i = start; i < stop; i += step) {\n",
    "            rng.push(i);\n",
    "        }\n",
    "    }\n",
    "    if (step < 0) {\n",
    "        for (let i = start; i > stop; i += step) {\n",
    "            rng.push(i);\n",
    "        }\n",
    "    }\n",
    "\n",
    "    return rng;\n",
    "}"
   ]
  },
  {
   "cell_type": "code",
   "execution_count": 2,
   "metadata": {},
   "outputs": [],
   "source": [
    "const zip = function (m, n) {\n",
    "    let zipped = new Array();\n",
    "    for (let x in m) {\n",
    "        zipped.push([m[x], n[x]]);\n",
    "    }\n",
    "    return zipped;\n",
    "}"
   ]
  },
  {
   "cell_type": "code",
   "execution_count": 2,
   "metadata": {},
   "outputs": [],
   "source": [
    "const count = function (char, arr) {\n",
    "    let c = 0;\n",
    "    for (const elem of arr) {\n",
    "        if (elem == char) {\n",
    "            c += 1;\n",
    "        }\n",
    "    }\n",
    "    return c;\n",
    "}"
   ]
  },
  {
   "cell_type": "code",
   "execution_count": 4,
   "metadata": {},
   "outputs": [],
   "source": [
    "const compare = function (m, n) {\n",
    "    let same = true;\n",
    "    for (const x in m) {\n",
    "        let a = m[x];\n",
    "        let b = n[x];\n",
    "        if (a != b) {\n",
    "            same = false;\n",
    "        }\n",
    "    }\n",
    "    return same;\n",
    "}"
   ]
  },
  {
   "cell_type": "code",
   "execution_count": 5,
   "metadata": {},
   "outputs": [],
   "source": [
    "const compare_day11 = function (m, n) {\n",
    "    let same = new Array();\n",
    "    for (const x in m) {\n",
    "        let a = m[x];\n",
    "        let b = n[x];\n",
    "        same.push(compare(a, b));\n",
    "    }\n",
    "    if (same.includes(false)) {\n",
    "        return false;\n",
    "    }\n",
    "    else {\n",
    "        return true;\n",
    "    }\n",
    "}"
   ]
  },
  {
   "cell_type": "code",
   "execution_count": 6,
   "metadata": {},
   "outputs": [],
   "source": [
    "const maze = [\"L.LL.LL.LL\",\n",
    "\"LLLLLLL.LL\",\n",
    "\"L.L.L..L..\",\n",
    "\"LLLL.LL.LL\",\n",
    "\"L.LL.LL.LL\",\n",
    "\"L.LLLLL.LL\",\n",
    "\"..L.L.....\",\n",
    "\"LLLLLLLLLL\",\n",
    "\"L.LLLLLL.L\",\n",
    "\"L.LLLLL.LL\"]\n",
    "\n",
    "// const maze = [\".......#.\",\n",
    "// \"...#.....\",\n",
    "// \".#.......\",\n",
    "// \".........\",\n",
    "// \"..#L....#\",\n",
    "// \"....#....\",\n",
    "// \".........\",\n",
    "// \"#........\",\n",
    "// \"...#.....\"]\n",
    "\n",
    "// const maze = [\".##.##.\",\n",
    "// \"#.#.#.#\",\n",
    "// \"##...##\",\n",
    "// \"...L...\",\n",
    "// \"##...##\",\n",
    "// \"#.#.#.#\",\n",
    "// \".##.##.\"]\n",
    "\n",
    "// const maze = input(\"day11.txt\")"
   ]
  },
  {
   "cell_type": "code",
   "execution_count": 7,
   "metadata": {},
   "outputs": [
    {
     "data": {
      "text/plain": [
       "[\n",
       "  'L.LL.LL.LL', 'LLLLLLL.LL',\n",
       "  'L.L.L..L..', 'LLLL.LL.LL',\n",
       "  'L.LL.LL.LL', 'L.LLLLL.LL',\n",
       "  '..L.L.....', 'LLLLLLLLLL',\n",
       "  'L.LLLLLL.L', 'L.LLLLL.LL'\n",
       "]"
      ]
     },
     "execution_count": 7,
     "metadata": {},
     "output_type": "execute_result"
    }
   ],
   "source": [
    "maze"
   ]
  },
  {
   "cell_type": "code",
   "execution_count": 8,
   "metadata": {},
   "outputs": [
    {
     "data": {
      "text/plain": [
       "10"
      ]
     },
     "execution_count": 8,
     "metadata": {},
     "output_type": "execute_result"
    }
   ],
   "source": [
    "let m = new Array();\n",
    "for (const elem of maze) {\n",
    "    m.push(new Array(...elem));\n",
    "}"
   ]
  },
  {
   "cell_type": "code",
   "execution_count": 9,
   "metadata": {},
   "outputs": [],
   "source": [
    "const neighbors = function (pos) {\n",
    "    let n = new Array();\n",
    "    const [x, y] = pos;\n",
    "    for (let a of [x-1, x, x+1]) {\n",
    "        for (let b of [y-1, y, y+1]) {\n",
    "            if (a >= 0 && a < m[0].length && b >= 0 && b < m.length && !(a == x && b == y)) {\n",
    "//                 console.log(a, b)\n",
    "                n.push(m[b][a]);\n",
    "            }\n",
    "        }\n",
    "    }\n",
    "    return n;\n",
    "}"
   ]
  },
  {
   "cell_type": "code",
   "execution_count": 9,
   "metadata": {},
   "outputs": [],
   "source": [
    "const star = function(pos) {\n",
    "    let points = new Array();\n",
    "    \n",
    "    for (x of range(pos[0], 0, -1)) {\n",
    "        if (m[pos[1]][x] == \"#\") {\n",
    "            points.push(\"#\");\n",
    "            break;\n",
    "        }\n",
    "    }\n",
    "    for (x of range(pos[0], m[0].length)) {\n",
    "        if (m[pos[1]][x] == \"#\") {\n",
    "            points.push(\"#\");\n",
    "            break;\n",
    "        }\n",
    "    }\n",
    "    for (y of range(pos[1], 0, -1)) {\n",
    "        if (m[y][pos[0]] == \"#\") {\n",
    "            points.push(\"#\");\n",
    "            break;\n",
    "        }\n",
    "    }\n",
    "    for (y of range(pos[1], m.length)) {\n",
    "        if (m[y][pos[0]] == \"#\") {\n",
    "            points.push(\"#\");\n",
    "            break;\n",
    "        }\n",
    "    }\n",
    "    \n",
    "    let [a, b] = pos;\n",
    "    while (a < m[0].length-1 && b < m.length-1) {\n",
    "        a +=1;\n",
    "        b +=1;\n",
    "//         console.log(a, b);\n",
    "        if (m[b][a] == \"#\") {\n",
    "            points.push(\"#\");\n",
    "            break;\n",
    "        }\n",
    "    }\n",
    "    \n",
    "    [a, b] = pos;\n",
    "    while (a > 0 && b > 0) {\n",
    "        a -= 1;\n",
    "        b -= 1;\n",
    "//         console.log(a, b);\n",
    "        if (m[b][a] == \"#\") {\n",
    "            points.push(\"#\");\n",
    "            break;\n",
    "        }\n",
    "    }\n",
    "    \n",
    "    [a, b] = pos;\n",
    "    while (a > 0 && b < m.length-1) {\n",
    "        a -= 1;\n",
    "        b += 1;\n",
    "//         console.log(a, b);\n",
    "        if (m[b][a] == \"#\") {\n",
    "            points.push(\"#\");\n",
    "            break;\n",
    "        }\n",
    "    }\n",
    "    \n",
    "    [a, b] = pos;\n",
    "    while (a < m[0].length-1 && b > 0) {\n",
    "        a += 1;\n",
    "        b -= 1;\n",
    "//         console.log(a, b);\n",
    "        if (m[b][a] == \"#\") {\n",
    "            points.push(\"#\");\n",
    "            break;\n",
    "        }\n",
    "    }\n",
    "    \n",
    "    return points;\n",
    "}"
   ]
  },
  {
   "cell_type": "code",
   "execution_count": null,
   "metadata": {},
   "outputs": [],
   "source": [
    "let finished = false;\n",
    "while (!finished) {\n",
    "    let n_maze = new Array();\n",
    "    for (const y in m) {\n",
    "        let row = new Array();\n",
    "        for (const x in m[0]){\n",
    "//             let n = neighbors([Number(x), Number(y)]);\n",
    "            let n = star([Number(x), Number(y)]);\n",
    "            if (m[y][x] == \"L\") {\n",
    "                if (count(\"#\", n) == 0) {\n",
    "                    row.push(\"#\"); \n",
    "                }\n",
    "                else {\n",
    "                    row.push(\"L\");\n",
    "                }\n",
    "            }  \n",
    "            if (m[y][x] == \"#\") {\n",
    "                if (count(\"#\", n) >= 5) {\n",
    "                    row.push(\"L\");\n",
    "                }\n",
    "                else {\n",
    "                    row.push(\"#\");\n",
    "                }\n",
    "            }\n",
    "            if (m[y][x] == \".\") {\n",
    "                row.push(\".\");\n",
    "            }\n",
    "        }\n",
    "        n_maze.push(row);\n",
    "    }\n",
    "    if (compare_day11(n_maze, m)) {\n",
    "        finished = true;\n",
    "    }\n",
    "    m = n_maze.slice();\n",
    "}\n"
   ]
  },
  {
   "cell_type": "code",
   "execution_count": 10,
   "metadata": {},
   "outputs": [
    {
     "data": {
      "text/plain": [
       "2438"
      ]
     },
     "execution_count": 10,
     "metadata": {},
     "output_type": "execute_result"
    }
   ],
   "source": [
    "let c = 0;\n",
    "for (const x of m) {\n",
    "    c += count(\"#\", x);\n",
    "}"
   ]
  },
  {
   "cell_type": "code",
   "execution_count": 10,
   "metadata": {},
   "outputs": [
    {
     "data": {
      "text/plain": [
       "[]"
      ]
     },
     "execution_count": 10,
     "metadata": {},
     "output_type": "execute_result"
    }
   ],
   "source": [
    "star([3, 3])"
   ]
  },
  {
   "cell_type": "code",
   "execution_count": 12,
   "metadata": {},
   "outputs": [
    {
     "data": {
      "text/plain": [
       "true"
      ]
     },
     "execution_count": 12,
     "metadata": {},
     "output_type": "execute_result"
    }
   ],
   "source": [
    "count(\"#\", []) == 0"
   ]
  }
 ],
 "metadata": {
  "kernelspec": {
   "display_name": "Javascript (Node.js)",
   "language": "javascript",
   "name": "javascript"
  },
  "language_info": {
   "file_extension": ".js",
   "mimetype": "application/javascript",
   "name": "javascript",
   "version": "14.15.1"
  }
 },
 "nbformat": 4,
 "nbformat_minor": 4
}
