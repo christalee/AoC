{
 "cells": [
  {
   "cell_type": "code",
   "execution_count": 1,
   "metadata": {
    "collapsed": true
   },
   "outputs": [],
   "source": [
    "import copy, pprint"
   ]
  },
  {
   "cell_type": "code",
   "execution_count": 2,
   "metadata": {
    "collapsed": true
   },
   "outputs": [],
   "source": [
    "state = [[[\"TmG\", \"TmM\", \"PuG\", \"SrG\", \"E\"], \n",
    "    [\"PuM\", \"SrM\"], \n",
    "    [\"PrG\", \"PrM\", \"RuG\", \"RuM\"], \n",
    "    [\"\"]]]\n",
    "moves = 0\n",
    "paths = {str(state): moves}"
   ]
  },
  {
   "cell_type": "code",
   "execution_count": 3,
   "metadata": {
    "collapsed": true
   },
   "outputs": [],
   "source": [
    "test2 = [[\"A\", \"B\", \"C\"], [\"D\", \"E\", \"F\"], [\"G\", \"H\", \"I\"]]"
   ]
  },
  {
   "cell_type": "code",
   "execution_count": 4,
   "metadata": {
    "collapsed": true
   },
   "outputs": [],
   "source": [
    "def onetwo(x):\n",
    "    y = [([a,b] if (not a == b) and (a < b) else [a]) for a in x for b in x]\n",
    "#     y = []\n",
    "#     for a in x:\n",
    "#         y.append([a])\n",
    "#         for b in x:\n",
    "#             if (not a == b) and (a < b):\n",
    "#                 y.append([a,b])\n",
    "    \n",
    "    return y"
   ]
  },
  {
   "cell_type": "code",
   "execution_count": 5,
   "metadata": {
    "collapsed": true
   },
   "outputs": [],
   "source": [
    "# This still allows moving just the elevator\n",
    "# Also it treats strings as lists and breaks them up whoops\n",
    "def nextmoves(s):\n",
    "    m = []\n",
    "    for each in s:\n",
    "        if \"E\" in each:\n",
    "            origin = s.index(each)\n",
    "            lowdest = origin - 1\n",
    "            highdest = origin + 1\n",
    "            \n",
    "            for item in onetwo(s[origin]):\n",
    "                if lowdest > 0:\n",
    "                    y = copy.deepcopy(s)\n",
    "                    for x in item:\n",
    "                        y[origin].remove(x)\n",
    "                    y[lowdest].extend(item)\n",
    "                    m.append(y)\n",
    "                    \n",
    "                if highdest < 5:\n",
    "                    y = copy.deepcopy(s)\n",
    "                    for x in item:\n",
    "                        y[origin].remove(x)\n",
    "                    y[highdest].extend(item)\n",
    "                    m.append(y)\n",
    "                    \n",
    "    return m"
   ]
  },
  {
   "cell_type": "code",
   "execution_count": 7,
   "metadata": {},
   "outputs": [
    {
     "name": "stdout",
     "output_type": "stream",
     "text": [
      "[['A'], ['A', 'B'], ['A', 'C'], ['B'], ['B', 'C'], ['C']] [['D'], ['D', 'E'], ['D', 'F'], ['E'], ['E', 'F'], ['F']] [['G'], ['G', 'H'], ['G', 'I'], ['H'], ['H', 'I'], ['I']] [['TmG'], ['TmG', 'TmM'], ['TmM'], ['PuG'], ['PuG', 'TmG'], ['PuG', 'TmM'], ['PuG', 'SrG'], ['SrG'], ['SrG', 'TmG'], ['SrG', 'TmM'], ['E'], ['E', 'TmG'], ['E', 'TmM'], ['E', 'PuG'], ['E', 'SrG']]\n"
     ]
    }
   ],
   "source": [
    "a = onetwo(test2[0])\n",
    "b = onetwo(test2[1])\n",
    "c = onetwo(test2[2])\n",
    "d = onetwo(state[0][0])\n",
    "print a, b, c, d"
   ]
  },
  {
   "cell_type": "code",
   "execution_count": 86,
   "metadata": {
    "scrolled": true
   },
   "outputs": [
    {
     "name": "stdout",
     "output_type": "stream",
     "text": [
      "[[['A', 'B', 'C'], ['E', 'F'], ['G', 'H', 'I', 'D']], [['A', 'B', 'C'], ['F'], ['G', 'H', 'I', 'D', 'E']], [['A', 'B', 'C'], ['E'], ['G', 'H', 'I', 'D', 'F']], [['A', 'B', 'C'], ['D', 'F'], ['G', 'H', 'I', 'E']], [['A', 'B', 'C'], ['D'], ['G', 'H', 'I', 'E', 'F']], [['A', 'B', 'C'], ['D', 'E'], ['G', 'H', 'I', 'F']]]\n"
     ]
    }
   ],
   "source": [
    "print nextmoves(test2)"
   ]
  },
  {
   "cell_type": "code",
   "execution_count": 89,
   "metadata": {},
   "outputs": [
    {
     "name": "stdout",
     "output_type": "stream",
     "text": [
      "[['TmG', 'TmM', 'PuG', 'SrG', 'E'],\n",
      " ['PuM', 'SrM'],\n",
      " ['PrG', 'PrM', 'RuG', 'RuM'],\n",
      " ['']]\n",
      "[[['TmM', 'PuG', 'SrG', 'E'],\n",
      "  ['PuM', 'SrM', 'TmG'],\n",
      "  ['PrG', 'PrM', 'RuG', 'RuM'],\n",
      "  ['']],\n",
      " [['PuG', 'SrG', 'E'],\n",
      "  ['PuM', 'SrM', 'TmG', 'TmM'],\n",
      "  ['PrG', 'PrM', 'RuG', 'RuM'],\n",
      "  ['']],\n",
      " [['TmG', 'PuG', 'SrG', 'E'],\n",
      "  ['PuM', 'SrM', 'TmM'],\n",
      "  ['PrG', 'PrM', 'RuG', 'RuM'],\n",
      "  ['']],\n",
      " [['TmG', 'TmM', 'SrG', 'E'],\n",
      "  ['PuM', 'SrM', 'PuG'],\n",
      "  ['PrG', 'PrM', 'RuG', 'RuM'],\n",
      "  ['']],\n",
      " [['TmM', 'SrG', 'E'],\n",
      "  ['PuM', 'SrM', 'PuG', 'TmG'],\n",
      "  ['PrG', 'PrM', 'RuG', 'RuM'],\n",
      "  ['']],\n",
      " [['TmG', 'SrG', 'E'],\n",
      "  ['PuM', 'SrM', 'PuG', 'TmM'],\n",
      "  ['PrG', 'PrM', 'RuG', 'RuM'],\n",
      "  ['']],\n",
      " [['TmG', 'TmM', 'E'],\n",
      "  ['PuM', 'SrM', 'PuG', 'SrG'],\n",
      "  ['PrG', 'PrM', 'RuG', 'RuM'],\n",
      "  ['']],\n",
      " [['TmG', 'TmM', 'PuG', 'E'],\n",
      "  ['PuM', 'SrM', 'SrG'],\n",
      "  ['PrG', 'PrM', 'RuG', 'RuM'],\n",
      "  ['']],\n",
      " [['TmM', 'PuG', 'E'],\n",
      "  ['PuM', 'SrM', 'SrG', 'TmG'],\n",
      "  ['PrG', 'PrM', 'RuG', 'RuM'],\n",
      "  ['']],\n",
      " [['TmG', 'PuG', 'E'],\n",
      "  ['PuM', 'SrM', 'SrG', 'TmM'],\n",
      "  ['PrG', 'PrM', 'RuG', 'RuM'],\n",
      "  ['']],\n",
      " [['TmG', 'TmM', 'PuG', 'SrG'],\n",
      "  ['PuM', 'SrM', 'E'],\n",
      "  ['PrG', 'PrM', 'RuG', 'RuM'],\n",
      "  ['']],\n",
      " [['TmM', 'PuG', 'SrG'],\n",
      "  ['PuM', 'SrM', 'E', 'TmG'],\n",
      "  ['PrG', 'PrM', 'RuG', 'RuM'],\n",
      "  ['']],\n",
      " [['TmG', 'PuG', 'SrG'],\n",
      "  ['PuM', 'SrM', 'E', 'TmM'],\n",
      "  ['PrG', 'PrM', 'RuG', 'RuM'],\n",
      "  ['']],\n",
      " [['TmG', 'TmM', 'SrG'],\n",
      "  ['PuM', 'SrM', 'E', 'PuG'],\n",
      "  ['PrG', 'PrM', 'RuG', 'RuM'],\n",
      "  ['']],\n",
      " [['TmG', 'TmM', 'PuG'],\n",
      "  ['PuM', 'SrM', 'E', 'SrG'],\n",
      "  ['PrG', 'PrM', 'RuG', 'RuM'],\n",
      "  ['']]]\n"
     ]
    }
   ],
   "source": [
    "pprint.pprint(state[0])\n",
    "pprint.pprint(nextmoves(state[0]))"
   ]
  },
  {
   "cell_type": "code",
   "execution_count": null,
   "metadata": {
    "collapsed": true
   },
   "outputs": [],
   "source": [
    "for each in a:\n",
    "    y = copy.deepcopy(test2)\n",
    "    y[0].extend(each)\n",
    "    print y"
   ]
  },
  {
   "cell_type": "code",
   "execution_count": null,
   "metadata": {
    "collapsed": true
   },
   "outputs": [],
   "source": [
    "test3 = test2 + [\"Z\"]\n",
    "print test3"
   ]
  },
  {
   "cell_type": "code",
   "execution_count": null,
   "metadata": {
    "collapsed": true
   },
   "outputs": [],
   "source": [
    "test2 += [\"Z\"]\n",
    "print test2\n",
    "test2 -= [\"Z\"]\n",
    "print test2"
   ]
  },
  {
   "cell_type": "code",
   "execution_count": null,
   "metadata": {
    "collapsed": true
   },
   "outputs": [],
   "source": [
    "test3.remove(\"Z\")\n",
    "print test3"
   ]
  },
  {
   "cell_type": "code",
   "execution_count": null,
   "metadata": {
    "collapsed": true
   },
   "outputs": [],
   "source": []
  },
  {
   "cell_type": "code",
   "execution_count": null,
   "metadata": {
    "collapsed": true
   },
   "outputs": [],
   "source": []
  }
 ],
 "metadata": {
  "kernelspec": {
   "display_name": "Python 3",
   "language": "python",
   "name": "python3"
  },
  "language_info": {
   "codemirror_mode": {
    "name": "ipython",
    "version": 3
   },
   "file_extension": ".py",
   "mimetype": "text/x-python",
   "name": "python",
   "nbconvert_exporter": "python",
   "pygments_lexer": "ipython3",
   "version": "3.6.8"
  }
 },
 "nbformat": 4,
 "nbformat_minor": 2
}
